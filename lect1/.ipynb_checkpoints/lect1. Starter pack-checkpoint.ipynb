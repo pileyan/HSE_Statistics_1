{
 "cells": [
  {
   "cell_type": "markdown",
   "metadata": {},
   "source": [
    "# Некоторые виды часто используемых распределений и их свойства\n",
    "\n",
    "*Подготовил Ян Пиле*"
   ]
  },
  {
   "cell_type": "markdown",
   "metadata": {},
   "source": [
    "Вернемся немного к теории вероятностей. Представим, что у нас есть непрерывная случайная величина X, которая подчиняется некоторому закону. Когда мы с вами строили гистрограммы, наши распределения были построены по ограниченным выборкам. Давайте представим, что мы взяли бесконечную выборку нашей величины Х, построили ее гистограмму, а потом каждый стобик гистограммы разделили на сумму всех столбиков. Нетрудно понять, что теперь, если сложить все столбики, получится 1. Такой процесс называется нормировкой. Если на нашей уже нормированной гистограмме столбиков станет бесконечное число, граница этих столбиков будет как бы непрерывной функцией. Эту функцию называют функцией **плотности вероятности**, обозначим ее за $\\rho$. Чтобы подсчитать вероятность того, что случайная величина x попадет в отрезок от *a* до *b*, нужно сосчитать такой интеграл:\n",
    "$$P(x\\in[a,b])=\\int_a^b\\rho(x)dx$$\n",
    "\n",
    "Функцией **распределения вероятности** или просто **функцией распределения** называют функцию:\n",
    "$$F(x)=P(X\\le x) = \\int_{-\\infty}^x\\rho(y)dy$$\n",
    "\n",
    "Равную вероятности того, что случайная величина принимает значение, меньшее или равное $x$.\n",
    "\n",
    "Проблема в том, что для непрерывной случайной величины вероятность каждого конкретного значения равна нулю (потому что ширина столбика на гистограмме = 0), но нас это волновать будет не слишком сильно, потому что с бесконечными выборками мы работать не можем :)\n",
    "\n",
    "Как вы понимаете, плотность вероятности должна быть отнормирована таким образом, чтобы интеграл по всем возможным допустимым значениям x был равен 1, то есть вероятность того, что случайная величина попадет в свою область определения = 1 :) (это мы как будто взяли и просуммировали все возможные столбики)"
   ]
  },
  {
   "cell_type": "markdown",
   "metadata": {},
   "source": [
    "## Нормальное распределение"
   ]
  },
  {
   "cell_type": "markdown",
   "metadata": {},
   "source": [
    "Нормальное распределение – распределение с плотностью вида:\n",
    "$$\\rho(x) = \\frac{1}{\\sqrt{2\\pi\\sigma^2}}e^{-\\frac{(x-\\mu)^2}{2\\sigma^2}}$$\n",
    "\n",
    "Иногда пишут, что это распределение $N(\\mu,\\sigma^2)$"
   ]
  },
  {
   "cell_type": "markdown",
   "metadata": {},
   "source": [
    "Параметрами распределения являются $\\mu$ и $\\sigma$ - его среднее (оно же - мат.ожидание) и стандартное отклонение. На графике ниже приведено стандартное нормальное распределение ( то есть нормальное распределение с $\\mu=0$ и $\\sigma=1$ :\n",
    "<img src=\"https://upload.wikimedia.org/wikipedia/commons/thumb/3/37/Standard_deviation_diagram_%28decimal_comma%29.svg/325px-Standard_deviation_diagram_%28decimal_comma%29.svg.png\" width=\"500\">\n",
    "\n",
    "Мы сразу видим, что распределение симметричное относительно своего среднего и унимодальное(одна мода :)). Более того - из этой симметрии следует, что среднее, медиана и мода здесь совпадают :)\n",
    "\n",
    "А еще по такому распределению видно, что отклонения от среднего влево и вправо равновероятны. На самом деле, в реальной жизни очень многие объекты распределены нормально, поэтому нам придется ознакомиться с этим распределением поподробнее :)"
   ]
  },
  {
   "cell_type": "markdown",
   "metadata": {},
   "source": [
    "На графике сверху нарисованы какие-то проценты. Это продукты жизнедеятельности так называемого \"правила трех сигм\". Оно означает, что для нормального распределения:\n",
    "* ~68% значений лежат в пределах одного стандартного отклонения от среднего\n",
    "* ~95% значений лежат в пределах двух стандартных отклонений от среднего\n",
    "* ~99% значений лежат в пределах трех стандартных отклонений от среднего\n",
    "\n",
    "Эту штуку не так трудно доказать. Для этого надо взять интеграл от нашей плотности стандартного нормального распределения (подсчитать площадь под кривой) от $-\\sigma$ до $\\sigma$, например:"
   ]
  },
  {
   "cell_type": "code",
   "execution_count": 1,
   "metadata": {},
   "outputs": [
    {
     "name": "stdout",
     "output_type": "stream",
     "text": [
      "Интеграл от -sigma до sigma: 0.682689492137086\n"
     ]
    }
   ],
   "source": [
    "from math import pi, exp\n",
    "from scipy.integrate import quad\n",
    "\n",
    "def std_norm(x):\n",
    "    return (1/((2*pi)**0.5)) * exp(-x**2/2)\n",
    "\n",
    "print('Интеграл от -sigma до sigma:',quad(std_norm,-1, 1)[0])"
   ]
  },
  {
   "cell_type": "markdown",
   "metadata": {},
   "source": [
    "Более того – теперь мы, по сути, можем посчитать вероятность того, что отклонение от среднего какой-то нормально распределенной величины x будет больше, чем y. Для этого надо просто взять и подсчитать соответствующий кусок площади под кривой."
   ]
  },
  {
   "cell_type": "markdown",
   "metadata": {},
   "source": [
    "## Центральная предельная теорема\n",
    "\n",
    "Это довольно фундаментальное утверждение в неформальном виде прозвучит так:\n",
    "\n",
    "Пусть у нас есть n (n должно быть достаточно большим числом) независимых одинаково распределенных случайных величин (почти не важно как распределенных):  $X_1...X_n$\n",
    "Пусть каждая из этих величин имеет конечные среднее $\\mu$ и стандартное отклонение $\\sigma$. Обозначим сумму значений этих величин за $S_n = X_1+X_2+...+X_n$. Тогда величина:\n",
    "\n",
    "$$\\sqrt{n}\\frac{S_n-\\mu n}{\\sigma} \\rightarrow N(0,1)$$\n",
    "\n",
    "Иначе говоря, сумма n независимых случайно распределенных величин распределена похоже на нормальное распределение с параметрами $ N(\\mu n,\\frac{\\sigma^2}{n})$ \n",
    "\n",
    "Это одна из причин, почему нормальное распределение довольно часто встречается в природе( нам часто приходится работать с суммами одинаково распределенных случайных величин)\n",
    "\n",
    "Если вернуться к статистике, можно представить это так. Пусть  наша генеральная совокупность как-то распределена(например нормально). Давайте случайно извлечем 100 выборок из этого распределения и в каждой из них подсчитаем среднее значение (это будут наши величины $X_n$), а потом рассмотрим распределение этих выборочных средних. Оно получится нормальным! И более того - будет очень близко к истинному среднему генеральной совокупности."
   ]
  },
  {
   "cell_type": "code",
   "execution_count": 99,
   "metadata": {},
   "outputs": [
    {
     "data": {
      "image/png": "[encoded data removed]",
      "text/plain": [
       "<Figure size 432x288 with 1 Axes>"
      ]
     },
     "metadata": {
      "needs_background": "light"
     },
     "output_type": "display_data"
    }
   ],
   "source": [
    "import numpy as np\n",
    "from numpy.random import normal\n",
    "from matplotlib.pyplot import hist, subplots\n",
    "import matplotlib.pyplot as plt\n",
    "\n",
    "x = [np.mean([normal(2,1) for _ in range(50)]) for _ in range(100)]\n",
    "h = hist(x)"
   ]
  },
  {
   "cell_type": "code",
   "execution_count": 17,
   "metadata": {},
   "outputs": [
    {
     "data": {
      "text/plain": [
       "1.998117414912544"
      ]
     },
     "execution_count": 17,
     "metadata": {},
     "output_type": "execute_result"
    }
   ],
   "source": [
    "np.mean(x)"
   ]
  },
  {
   "cell_type": "code",
   "execution_count": 100,
   "metadata": {},
   "outputs": [],
   "source": [
    "# x"
   ]
  },
  {
   "cell_type": "markdown",
   "metadata": {},
   "source": [
    "Очень близко! Но видно, что для маленьких выборок выборочные средние имеют некоторый разброс (есть выборки со средним 1.7). Посмотрим, от чего это зависит. Давайте будем брать выборки по 2000 наблюдений?"
   ]
  },
  {
   "cell_type": "code",
   "execution_count": 101,
   "metadata": {},
   "outputs": [
    {
     "data": {
      "image/png": "[encoded data removed]",
      "text/plain": [
       "<Figure size 432x288 with 1 Axes>"
      ]
     },
     "metadata": {
      "needs_background": "light"
     },
     "output_type": "display_data"
    }
   ],
   "source": [
    "x = [np.mean([normal(2,1) for _ in range(2000)]) for _ in range(100)]\n",
    "h = hist(x)"
   ]
  },
  {
   "cell_type": "markdown",
   "metadata": {},
   "source": [
    "Стало ближе! Распределение средних стало совсем узким(это хорошо). теперь отличие в третьем знаке после запятой :). Да и само распределение средних уже явно похоже на нормальное."
   ]
  },
  {
   "cell_type": "code",
   "execution_count": 20,
   "metadata": {},
   "outputs": [
    {
     "data": {
      "text/plain": [
       "1.9991414772949605"
      ]
     },
     "execution_count": 20,
     "metadata": {},
     "output_type": "execute_result"
    }
   ],
   "source": [
    "np.mean(x)"
   ]
  },
  {
   "cell_type": "markdown",
   "metadata": {},
   "source": [
    "А еще можно попробовать подкрутить количество выборок:"
   ]
  },
  {
   "cell_type": "code",
   "execution_count": 102,
   "metadata": {},
   "outputs": [
    {
     "data": {
      "image/png": "[encoded data removed]",
      "text/plain": [
       "<Figure size 432x288 with 1 Axes>"
      ]
     },
     "metadata": {
      "needs_background": "light"
     },
     "output_type": "display_data"
    }
   ],
   "source": [
    "x = [np.mean([normal(2,1) for _ in range(50)]) for _ in range(10000)]\n",
    "h = hist(x)"
   ]
  },
  {
   "cell_type": "markdown",
   "metadata": {},
   "source": [
    "На 10000 выборок по 50 наблюдений мы тоже получаем хороший результат. Отличие от истинного значения снова в 3 знаке после запятой."
   ]
  },
  {
   "cell_type": "code",
   "execution_count": 22,
   "metadata": {},
   "outputs": [
    {
     "data": {
      "text/plain": [
       "1.9984054127255844"
      ]
     },
     "execution_count": 22,
     "metadata": {},
     "output_type": "execute_result"
    }
   ],
   "source": [
    "np.mean(x)"
   ]
  },
  {
   "cell_type": "markdown",
   "metadata": {},
   "source": [
    "Переформулируем нашу ЦПТ для выборок, которые мы извлекали. Пусть есть некоторое распределение с заданными средним и дисперсией. Если извлечь из него N случайных выборок и по каждой из них посчитать выборочное среднее $\\bar{X_i}$, то эти средние будут иметь нормальное распределение, а среднее значение выборочных средних будет близко к среднему значению генеральной совокупности. Обычно тут говорят, что исходное распределение не должно быть слишком скошено (то есть его плотность должна выглядеть более-менее симметрично), но при очень больших n ЦПТ выполняется и для скошенных распределений. \n",
    "\n",
    "В качестве примера скошенного распределения модно взять экспоненциальное распределение. Это распределение с плотностью:\n",
    "$\\rho(x)=\\lambda e^{-\\lambda x}$ при $x\\ge0$ и $\\rho(x)=0$ при $x<0$\n",
    "\n",
    "На графике ниже мы взяли $\\lambda = 1$"
   ]
  },
  {
   "cell_type": "code",
   "execution_count": 185,
   "metadata": {},
   "outputs": [
    {
     "data": {
      "image/png": "[encoded data removed]",
      "text/plain": [
       "<Figure size 432x288 with 1 Axes>"
      ]
     },
     "metadata": {
      "needs_background": "light"
     },
     "output_type": "display_data"
    }
   ],
   "source": [
    "from scipy.stats import expon\n",
    "fig, ax = plt.subplots(1, 1)\n",
    "\n",
    "x = np.linspace(expon.ppf(0.01),expon.ppf(0.99), 100)\n",
    "f = ax.plot(x, expon.pdf(x),'r-', lw=5, alpha=0.6, label='expon pdf')\n",
    "f = ax.set_title('Плотность экспоненциального распределения')"
   ]
  },
  {
   "cell_type": "markdown",
   "metadata": {},
   "source": [
    "$\\rho(x)=e^{-x}$ при $x\\ge0$ и $\\rho(x)=0$ при $x<0$\n",
    "\n",
    "Нетрудно убедиться, что среднее значение(мат.ожидание) такого распределения = 1\n",
    "В теории вероятностей это считается как:\n",
    "$E(x) = \\int_{-\\infty}^{+\\infty}x\\rho(x)dx = \\int_{0}^{+\\infty}xe^{-x}dx$"
   ]
  },
  {
   "cell_type": "code",
   "execution_count": 186,
   "metadata": {},
   "outputs": [
    {
     "name": "stdout",
     "output_type": "stream",
     "text": [
      "Математическое ожидание экспоненциального распределения: 0.9999999999999998\n"
     ]
    }
   ],
   "source": [
    "def exponential_ev(x):\n",
    "    return x * exp(-x)\n",
    "\n",
    "print('Математическое ожидание экспоненциального распределения:',quad(exponential_ev,0, np.inf)[0])"
   ]
  },
  {
   "cell_type": "markdown",
   "metadata": {},
   "source": [
    "Ну и давайте оценим ту же штуку с помощью ЦПТ"
   ]
  },
  {
   "cell_type": "code",
   "execution_count": 187,
   "metadata": {},
   "outputs": [],
   "source": [
    "from numpy.random import exponential"
   ]
  },
  {
   "cell_type": "code",
   "execution_count": 188,
   "metadata": {},
   "outputs": [
    {
     "data": {
      "image/png": "[encoded data removed]",
      "text/plain": [
       "<Figure size 432x288 with 1 Axes>"
      ]
     },
     "metadata": {
      "needs_background": "light"
     },
     "output_type": "display_data"
    }
   ],
   "source": [
    "x = [np.mean([exponential(1) for _ in range(50)]) for _ in range(1000)]\n",
    "h = hist(x)"
   ]
  },
  {
   "cell_type": "markdown",
   "metadata": {},
   "source": [
    "Как видно, распределение очень похоже на нормальное, а его среднее - как раз оценка нашего исходного среднего"
   ]
  },
  {
   "cell_type": "code",
   "execution_count": 189,
   "metadata": {},
   "outputs": [
    {
     "data": {
      "text/plain": [
       "1.0076428578975325"
      ]
     },
     "execution_count": 189,
     "metadata": {},
     "output_type": "execute_result"
    }
   ],
   "source": [
    "np.mean([np.mean([exponential(1) for _ in range(10)]) for _ in range(1000)])"
   ]
  },
  {
   "cell_type": "markdown",
   "metadata": {},
   "source": [
    "### Важное замечание о применении ЦПТ\n",
    "\n",
    "Когда мы строим нормальное приближение для суммы n случайных величин, мы в качестве оценки $\\sigma$ генеральной совокупности используем выборочное стандартное отклонение $\\sigma$. Такая замена разумна, когда выборка имеет достаточно большое кол-во элементов, скажем, больше 30. Но:\n",
    "\n",
    "* Вы можете самостоятельно найти это число путем экспериментов\n",
    "* Обычно, когда мы будем работать с выборками, они будут сильно больше 30 наблюдений.\n",
    "* Если исхожное распределение скошено(сильно несимметрично), то для хорошей нормальной аппроксимации понадобится большая выборка"
   ]
  },
  {
   "cell_type": "markdown",
   "metadata": {},
   "source": [
    "## Бета-распределение"
   ]
  },
  {
   "cell_type": "markdown",
   "metadata": {},
   "source": [
    "До сих пор в определении наших распределений не встречалось никаких малоприятных символов, настало время это исправить. Представьте, что вам нужно моделировать событие, область определения которого от 0 до 1, например CTR баннера (количество кликов на количество показов), как бы вы стали его моделировать? \n",
    "Представим, что у вас есть выборка из 1000 человек. Каждому из них вы показываете свой рекламный баннер и сколько-то из людей в этот баннер кликает. Кажется, что вероятность клика можно оценить как в испытаниях Бернулли (количество успехов делить на количество не-успехов). Но люди-то разные. Индивидуальная вероятность кликнуть в ваш баннер у них наверняка разнится. И если бы в мультивселенной мы провели много-много аналогичных испытаний с баннерами и теми же самыми людьми, у каждого человека появилось бы какое-то распределение вероятностей кликов :) Примерно это и делает Бета-распределение. Выглядит оно так:\n",
    "\n",
    "$$\\rho(p) = \\dfrac{1}{Beta(\\alpha,\\beta)}p^{\\alpha-1}(1-p)^{\\beta-1}$$\n",
    "\n",
    "При этом:\n",
    "$$Beta(\\alpha,\\beta) = \\dfrac{Г(\\alpha)Г(\\beta)}{Г(\\alpha+\\beta)}$$\n",
    "\n",
    "А гамма-функция - некое непрерывное обобщение факториала:\n",
    "$$Г(n+1) = n!$$"
   ]
  },
  {
   "cell_type": "markdown",
   "metadata": {},
   "source": [
    "На самом деле, множитель со специальными функциями нужен просто для нормировки (чтобы интеграл от плотности распределения давал 1). Содержательная часть связана с $p$. Заметьте, что это очень похоже на то, что мы видели в биномиальном распределении. И смысл примерно такой:\n",
    "\n",
    "$\\alpha-1$ можно воспринимать как число успехов в выборке, а $\\beta-1$ - как число не-успехов. То есть с увеличением числа успехов в вашей выборке, ваша оценка вероятности успеха должна съезжать ближе к 1 (то есть вправо), а с ростом числа не-успехов - влево (то есть к нулю). Скажем, если в вашей выборке 1000 наблюдений и из них 900 успехов, то $\\alpha-1 = 900$, а $\\beta-1=100$"
   ]
  },
  {
   "cell_type": "code",
   "execution_count": 203,
   "metadata": {},
   "outputs": [],
   "source": [
    "from scipy.stats import beta\n",
    "\n",
    "beta_sample = beta(3-1, 201-1).rvs(1000)"
   ]
  },
  {
   "cell_type": "code",
   "execution_count": 204,
   "metadata": {},
   "outputs": [
    {
     "data": {
      "image/png": "[encoded data removed]",
      "text/plain": [
       "<Figure size 432x288 with 1 Axes>"
      ]
     },
     "metadata": {
      "needs_background": "light"
     },
     "output_type": "display_data"
    }
   ],
   "source": [
    "dist = sns.distplot(beta_sample, kde=False)"
   ]
  },
  {
   "cell_type": "markdown",
   "metadata": {},
   "source": [
    "## Логнормальное распределение"
   ]
  },
  {
   "cell_type": "markdown",
   "metadata": {},
   "source": [
    "Еще одно распределение, которое нам с вами пригодится - логнормальное. Говорят, что переменная $X$ имеет логнормальное распределение, если ее логарифм распределен нормально :) Можете проверить, что плотность такого распределения будет иметь вид:\n",
    "\n",
    "$$\\rho(x) = \\dfrac{1}{\\sigma x\\sqrt{2\\pi}}e^{-(lnx-\\mu)^2/2\\sigma^2}$$\n",
    "\n",
    "Как следует из определения, логнормальную выборку можно сгенерировать довольно простым образом:"
   ]
  },
  {
   "cell_type": "code",
   "execution_count": 205,
   "metadata": {},
   "outputs": [],
   "source": [
    "from scipy.stats import norm\n",
    "mu = 0\n",
    "sigma = 1\n",
    "lognorm = np.exp(norm(mu, sigma).rvs(1000))"
   ]
  },
  {
   "cell_type": "code",
   "execution_count": 206,
   "metadata": {},
   "outputs": [
    {
     "data": {
      "image/png": "[encoded data removed]",
      "text/plain": [
       "<Figure size 432x288 with 1 Axes>"
      ]
     },
     "metadata": {
      "needs_background": "light"
     },
     "output_type": "display_data"
    }
   ],
   "source": [
    "h = hist(lognorm)"
   ]
  },
  {
   "cell_type": "markdown",
   "metadata": {},
   "source": [
    "Как видите, это распределение оказалось скошенным влево (оно ОЧЕНЬ скошено в лево в нашем примере). Рекомендую поиграть с параметрами и разобраться, за что каждый из них отвечает. Возникает законный вопрос: где я такое распределение могу встретить?"
   ]
  },
  {
   "cell_type": "markdown",
   "metadata": {},
   "source": [
    "## Закон Бенфорда"
   ]
  },
  {
   "cell_type": "markdown",
   "metadata": {},
   "source": [
    "Закон Бенфорда - эмпирическое утверждение о том, что многие наборы данных (как состряпанные человеком, так и результаты измерений явлений природы) содержат намного больше чисел, начинающихся с цифры 1, чем с любой другой цифры. Если быть чуть точнее - примерно 30% всех таких чисел начинается с единицы. Вероятность встретить в первом разряде двойку уже меньше и так далее вплоть до 9, на долю которой приходится около 5% чисел. Не совсем понятно, откуда такая зависимость взялась."
   ]
  },
  {
   "cell_type": "markdown",
   "metadata": {},
   "source": [
    "Объяснение заключается в том, что огромное количество количество величин является произведениями n +- одинаково распределенных положительных случайных величин (немного напоминает ЦПТ по формулировке). И такие произведения при большом n стремятся к ... логнормальному распределению :) Эта штука называется мультипликативной ЦПТ. Доказывать мы не будем, а лучше посмотрим, действительно ли оно так работает. "
   ]
  },
  {
   "cell_type": "markdown",
   "metadata": {},
   "source": [
    "Возьмем кубик с шестью гранями и сделаем 10000 выборок по 20 бросков кубика. А теперь давайте возьмем и в каждой выборке результаты выбросов перемножим (как раз произведение одинаково распределенных положительных величин), а затем посмотрим, какое распределение получится."
   ]
  },
  {
   "cell_type": "code",
   "execution_count": 207,
   "metadata": {},
   "outputs": [],
   "source": [
    "from random import choice\n",
    "import operator as op\n",
    "from functools import reduce\n",
    "from collections import Counter\n",
    "\n",
    "dice = [1,2,3,4,5,6]\n",
    "multiplications = [reduce(op.mul, [choice(dice) for _ in range(20)],1) for _ in range(10000)]"
   ]
  },
  {
   "cell_type": "markdown",
   "metadata": {},
   "source": [
    "Если наше распределение логнормальное, то логарифмы этих величин будут распределены нормально."
   ]
  },
  {
   "cell_type": "code",
   "execution_count": 208,
   "metadata": {},
   "outputs": [],
   "source": [
    "logarithm = list(map(np.log,multiplications))"
   ]
  },
  {
   "cell_type": "code",
   "execution_count": 209,
   "metadata": {},
   "outputs": [
    {
     "data": {
      "image/png": "[encoded data removed]",
      "text/plain": [
       "<Figure size 432x288 with 1 Axes>"
      ]
     },
     "metadata": {
      "needs_background": "light"
     },
     "output_type": "display_data"
    }
   ],
   "source": [
    "ax = sns.distplot(logarithm, kde = False, norm_hist=True)  "
   ]
  },
  {
   "cell_type": "markdown",
   "metadata": {},
   "source": [
    "Оценим дисперсию и среднее по выборке и нарисуем поверх этого графика нормальное распределение с такими параметрами."
   ]
  },
  {
   "cell_type": "code",
   "execution_count": 210,
   "metadata": {},
   "outputs": [],
   "source": [
    "mean = np.mean(logarithm)\n",
    "std = np.std(logarithm)"
   ]
  },
  {
   "cell_type": "code",
   "execution_count": 211,
   "metadata": {},
   "outputs": [
    {
     "data": {
      "image/png": "[encoded data removed]",
      "text/plain": [
       "<Figure size 432x288 with 1 Axes>"
      ]
     },
     "metadata": {
      "needs_background": "light"
     },
     "output_type": "display_data"
    }
   ],
   "source": [
    "xx = np.arange(10, 30, 0.01)                                                   \n",
    "yy = norm(loc=mean,scale=std).pdf(xx)   \n",
    "ax = sns.distplot(logarithm, kde = False, norm_hist=True)  \n",
    "nrm = ax.plot(xx, yy, 'r', lw=2)  "
   ]
  },
  {
   "cell_type": "markdown",
   "metadata": {},
   "source": [
    "На мой взгляд, совпадение отличное :) Любители вычислять свойства случайных величин имеют возможность доказать проиллюстрированную нами мультипликативную ЦПТ с помощью ручки и бумаги :)"
   ]
  },
  {
   "cell_type": "markdown",
   "metadata": {},
   "source": [
    "А что будет если теперь посмотреть на первые цифры полученных нами произведений?"
   ]
  },
  {
   "cell_type": "code",
   "execution_count": 213,
   "metadata": {},
   "outputs": [],
   "source": [
    "def get_first_digit(x):\n",
    "    return int(str(x)[0])"
   ]
  },
  {
   "cell_type": "code",
   "execution_count": 214,
   "metadata": {},
   "outputs": [
    {
     "data": {
      "image/png": "[encoded data removed]",
      "text/plain": [
       "<Figure size 432x288 with 1 Axes>"
      ]
     },
     "metadata": {
      "needs_background": "light"
     },
     "output_type": "display_data"
    }
   ],
   "source": [
    "first_digits = list(map(get_first_digit,multiplications))\n",
    "ax = sns.distplot(first_digits, kde = False)  "
   ]
  },
  {
   "cell_type": "code",
   "execution_count": 215,
   "metadata": {},
   "outputs": [
    {
     "data": {
      "text/plain": [
       "0.3056"
      ]
     },
     "execution_count": 215,
     "metadata": {},
     "output_type": "execute_result"
    }
   ],
   "source": [
    "Counter(first_digits)[1]/len(first_digits)"
   ]
  },
  {
   "cell_type": "markdown",
   "metadata": {},
   "source": [
    "Кажется, мы отлично попали в оценку, данную законом Бенфорда :)"
   ]
  }
 ],
 "metadata": {
  "kernelspec": {
   "display_name": "Python 3 (ipykernel)",
   "language": "python",
   "name": "python3"
  },
  "language_info": {
   "codemirror_mode": {
    "name": "ipython",
    "version": 3
   },
   "file_extension": ".py",
   "mimetype": "text/x-python",
   "name": "python",
   "nbconvert_exporter": "python",
   "pygments_lexer": "ipython3",
   "version": "3.8.3"
  }
 },
 "nbformat": 4,
 "nbformat_minor": 4
}
