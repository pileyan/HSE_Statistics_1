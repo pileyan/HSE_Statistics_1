{
 "cells": [
  {
   "cell_type": "markdown",
   "metadata": {},
   "source": [
    "# Лекция 5: Тестирование гипотез 2. Непараметрические критерии"
   ]
  },
  {
   "cell_type": "code",
   "execution_count": null,
   "metadata": {},
   "outputs": [],
   "source": [
    "KS - в точности одинаковые распределения"
   ]
  },
  {
   "cell_type": "markdown",
   "metadata": {},
   "source": [
    "*Подготовил: Ян Пиле*"
   ]
  },
  {
   "cell_type": "markdown",
   "metadata": {},
   "source": [
    "В прошлый раз мы обсуждали параметрические критерии, то есть критерии, которые делают предположение о конкретном характере распределения вашей выборки и проверяют гипотезы о параметрах распределения из известного семейства. Но что делать, если Характер распределения нам неизвестен. Тут придется применять какие-то методы, не использующие дополнительных предположений. Хорошо, скажете вы, но есть же Центральная предельная теорема, которая при достаточном n и не слишком скошенном распределении умеет, например, проверять гипотезы о среднем. Да, вы правы. Но что если распределение скошено или выборка не слишком велика? Пусть , например, задача поставлена так:\n",
    "\n",
    "**Выборка**    $X_n = {X_1 ... X_n}$ из неизвестного распределения $X \\sim P$ и мы не знаем, что это за распределение.\n",
    "\n",
    "Нужно проверить, отличается ли значимо среднее в выборке от нуля.\n",
    "\n",
    "**Нулевая гипотеза**    $H_0: \\bar{X} = 0$ \n",
    "\n",
    "**Альтернативная гипотеза**     $H_1: \\bar{X} \\not= 0$ \n",
    "\n",
    "**Статистика**    $T(X_n) = ? $\n",
    "\n",
    "**Нулевое распределение**    $F(x) = ?$ - распределение статистики в случае справедливости $H_0$ (мы его не знаем)\n",
    "\n",
    "\n",
    "В целом есть два варианта работы с такими задачами:\n",
    "\n",
    "1) Можно сделать какое-то предположение (и обосновать его) о характере $F(x)$\n",
    "\n",
    "2) Можно заменить исходную выборку другим объектом, о распределении которого мы что-то знаем."
   ]
  },
  {
   "cell_type": "markdown",
   "metadata": {},
   "source": [
    "#  Критерии знаков"
   ]
  },
  {
   "cell_type": "markdown",
   "metadata": {},
   "source": [
    "Критерий знаков - непараметрический критерий, который позволяет проверять гипотезы равенства медианы какому-то наперед заданному значению (одновыборочный критерий знаков) или равенства нулю разности медиан в двух связанных выборках (критерий знаков для двух связанных выборок). \n",
    "\n",
    "**Плюсы:** Критерий не использует вообще никаких предположений о распределениях наших факторов и достаточно легок в вычислении.\n",
    "\n",
    "**Минусы:** Эмпирически показано, что имеет меньшую мощность (вероятность ошибки 2 рода больше), чем другие, более специализированные критерии\n",
    "\n"
   ]
  },
  {
   "cell_type": "markdown",
   "metadata": {},
   "source": [
    "# Одновыборочный критерий\n",
    "\n",
    "Вы прогуливались по Таймс-скверу и решили поспрашивать у прохожих их годовую зарплату в долларах. Почти наверное такое распределение будет сильно скошено. Где-то вы слышали, что средняя зарплата в этом районе города около 50000 долларов в год. Вы получили следующие данные в ходе опроса:"
   ]
  },
  {
   "cell_type": "code",
   "execution_count": 1,
   "metadata": {},
   "outputs": [],
   "source": [
    "salaries = [8478,21564,36562,176602,9395,18320,50000,2,40298,39,10780,2268583,3404930]"
   ]
  },
  {
   "cell_type": "code",
   "execution_count": 2,
   "metadata": {},
   "outputs": [
    {
     "name": "stdout",
     "output_type": "stream",
     "text": [
      "%pylab is deprecated, use %matplotlib inline and import the required libraries.\n",
      "Populating the interactive namespace from numpy and matplotlib\n"
     ]
    }
   ],
   "source": [
    "%pylab inline\n",
    "from statsmodels.stats.weightstats import *"
   ]
  },
  {
   "cell_type": "code",
   "execution_count": 3,
   "metadata": {},
   "outputs": [
    {
     "data": {
      "image/png": "[encoded data removed]",
      "text/plain": [
       "<Figure size 640x480 with 1 Axes>"
      ]
     },
     "metadata": {},
     "output_type": "display_data"
    }
   ],
   "source": [
    "f = stats.probplot(salaries, dist=\"norm\", plot=pylab)"
   ]
  },
  {
   "cell_type": "markdown",
   "metadata": {},
   "source": [
    "Наши данные от нормальности весьма далеки."
   ]
  },
  {
   "cell_type": "markdown",
   "metadata": {},
   "source": [
    "**Выборка**    $X_n = {X_1 ... X_n}$ \n",
    "\n",
    "**Нулевая гипотеза**    $H_0: median(X) = M$\n",
    "\n",
    "**Альтернативная гипотеза**     $H_1: median(X) \\not= M$ (двусторонняя альтернатива)\n",
    "\n",
    "**Статистика** $T(X_n) = \\sum_i[X_i>M]$ Здесь $[]$- индикаторная функция (равна 1, если условие в скобках истинно и нулю в противном случае)\n",
    "\n",
    "**Нулевое распределение** $T \\sim Binomial(n,\\dfrac{1}{2})$"
   ]
  },
  {
   "cell_type": "code",
   "execution_count": 4,
   "metadata": {},
   "outputs": [],
   "source": [
    "from statsmodels.stats.descriptivestats import sign_test"
   ]
  },
  {
   "cell_type": "code",
   "execution_count": 5,
   "metadata": {},
   "outputs": [
    {
     "data": {
      "text/plain": [
       "(-3.0, 0.14599609375000003)"
      ]
     },
     "execution_count": 5,
     "metadata": {},
     "output_type": "execute_result"
    }
   ],
   "source": [
    "sign_test(salaries, 50000)"
   ]
  },
  {
   "cell_type": "markdown",
   "metadata": {},
   "source": [
    "Нулевая гипотеза НЕ отвергается (По данным нельзя сказать, что 50000 - плохая оценка медианы)."
   ]
  },
  {
   "cell_type": "markdown",
   "metadata": {},
   "source": [
    "# Критерий для двух связанных выборок"
   ]
  },
  {
   "cell_type": "markdown",
   "metadata": {},
   "source": [
    "**Выборки**    $X_1^{n1} = {X_{11} ... X_{1n_1}}$ и выборка $X_2^{n2} = {X_{21} ... X_{2n_2}}$ \n",
    "\n",
    "**Нулевая гипотеза**    $H_0: P(X_1 > X_2) = \\frac{1}{2}$\n",
    "\n",
    "**Альтернативная гипотеза**     $H_1: P(X_1 > X_2) \\not= \\frac{1}{2}$ (Двусторонняя альтернатива)\n",
    "\n",
    "**Статистика** $T(X_n) = \\sum_i[X_{1i}> X_{2i}]$ Здесь $[]$- индикаторная функция (равна 1, если условие в скобках истинно и нулю в противном случае)\n",
    "\n",
    "**Нулевое распределение** $T(X_1^{n1},X_2^{n2}) \\sim Binomial(n,\\dfrac{1}{2})$"
   ]
  },
  {
   "cell_type": "markdown",
   "metadata": {},
   "source": [
    "Рассмотрим следующую задачу:\n",
    "Пусть мы хотим сравнить то, как работают различные алгоритмы машинного обучения  . Воспользуемся [данными](https://github.com/catboost/benchmarks/tree/master/quality_benchmarks) о качестве работы популярного метода градиентного бустинга Catboost c тюнингом гиперпараметров. О методологии можно прочесть [Здесь](https://github.com/catboost/benchmarks/blob/master/quality_benchmarks/comparison_description.pdf). Качество работы измерено с помощью показателя LogLoss, о котором мы обязательно поговорим в следующем курсе, а сейчас лишь важно понимать, что чем он меньше, тем результат работы классификатора лучше. Проверим гипотезу о том, что \"В среднем\" LogLoss, который показывает другой алгоритм - LightGBM - больше, чем у Catboost.\n",
    "\n",
    "Отдельно хочу подчеркнуть, что под \"средним\" здесь не подразумевается арифметическое среднее или медиана, как было в случае одной выборки. "
   ]
  },
  {
   "cell_type": "code",
   "execution_count": 6,
   "metadata": {},
   "outputs": [],
   "source": [
    "from bs4 import BeautifulSoup\n",
    "import requests"
   ]
  },
  {
   "cell_type": "code",
   "execution_count": 7,
   "metadata": {},
   "outputs": [],
   "source": [
    "url = BeautifulSoup(requests.get('https://github.com/catboost/benchmarks/tree/master/quality_benchmarks').text)"
   ]
  },
  {
   "cell_type": "code",
   "execution_count": 8,
   "metadata": {},
   "outputs": [],
   "source": [
    "table = url.find_all('table')[0]"
   ]
  },
  {
   "cell_type": "code",
   "execution_count": 9,
   "metadata": {},
   "outputs": [],
   "source": [
    "catboost, lightgbm, difference = [], [], []\n",
    "for row in table.find_all('tr')[1:]:\n",
    "    c = float(row.find_all('td')[2].text.split()[0])\n",
    "    catboost.append(c)\n",
    "    \n",
    "    l = float(row.find_all('td')[4].text.split()[0])\n",
    "    lightgbm.append(l)\n",
    "    difference.append(l - c)\n",
    "\n"
   ]
  },
  {
   "cell_type": "code",
   "execution_count": 12,
   "metadata": {},
   "outputs": [
    {
     "data": {
      "text/plain": [
       "(4.5, 0.00390625)"
      ]
     },
     "execution_count": 12,
     "metadata": {},
     "output_type": "execute_result"
    }
   ],
   "source": [
    "sign_test(difference)"
   ]
  },
  {
   "cell_type": "code",
   "execution_count": 11,
   "metadata": {},
   "outputs": [
    {
     "data": {
      "text/plain": [
       "(array([1., 0., 2., 1., 2., 0., 2., 0., 0., 1.]),\n",
       " array([0.071795 , 0.1042483, 0.1367016, 0.1691549, 0.2016082, 0.2340615,\n",
       "        0.2665148, 0.2989681, 0.3314214, 0.3638747, 0.396328 ]),\n",
       " <BarContainer object of 10 artists>)"
      ]
     },
     "execution_count": 11,
     "metadata": {},
     "output_type": "execute_result"
    },
    {
     "data": {
      "image/png": "[encoded data removed]",
      "text/plain": [
       "<Figure size 640x480 with 1 Axes>"
      ]
     },
     "metadata": {},
     "output_type": "display_data"
    }
   ],
   "source": [
    "plt.hist(catboost)\n",
    "plt.hist(lightgbm)"
   ]
  },
  {
   "cell_type": "markdown",
   "metadata": {},
   "source": [
    "Критерий уверенно отвергает гипотезу о совпадении средних (В самом деле - Catboost почти везде победил)\n",
    "\n",
    "Общий смысл того, что мы делали до сих пор – попытка превратить выборку из неизвестного нам распределения в бинарную."
   ]
  },
  {
   "cell_type": "markdown",
   "metadata": {},
   "source": [
    "# Критерии рангов"
   ]
  },
  {
   "cell_type": "markdown",
   "metadata": {},
   "source": [
    "Превращая выборку в список бинарных величин мы , на самом деле, отбрасываем значительную часть информации, которая в выборке содержится (отсюда и снижение мощности критерия). Давайте попробуем сохранить еще какую-то часть информации о выборке, а именно – порядок следования элементов или ранг. Давайте превратим нашу выборку в вариационный ряд. \n",
    "\n",
    "Вариационным рядом мы будем называть отсортированную по неубыванию выборку. Например:"
   ]
  },
  {
   "cell_type": "code",
   "execution_count": 15,
   "metadata": {},
   "outputs": [
    {
     "data": {
      "text/plain": [
       "[1, 2, 3, 4, 5, 5, 5, 6, 6, 32, 32, 45, 66, 1000]"
      ]
     },
     "execution_count": 15,
     "metadata": {},
     "output_type": "execute_result"
    }
   ],
   "source": [
    "sample = [1,2,45,32,5, 32,5,6,66,6,5,4,3, 1000]\n",
    "\n",
    "var_series =sorted(sample)\n",
    "\n",
    "var_series"
   ]
  },
  {
   "cell_type": "markdown",
   "metadata": {},
   "source": [
    "Рангом в вариационном ряде называется номер следования элемента (если элемент не находится в подпоследовательности, состоящей из одинаковых элементов). Например ранг единицы - 1, а ранг двойки - 2.\n",
    "Если же элемент находится в подпоследовательности одинаковых элементов (как пятерка в нашем случае), то каждому из элементов этой подпоследовательности присваивается одинаковый ранг, который высчитывается как:\n",
    "\n",
    "$$rank = \\dfrac{rank(first\\_element) + rank(last\\_element)}{2}$$\n",
    "\n",
    "То есть для всех пятерок в нашей выборке ранг равен $rank = \\dfrac{5 + 7}{2} = 6$"
   ]
  },
  {
   "cell_type": "markdown",
   "metadata": {},
   "source": [
    "## Критерий Манна-Уитни"
   ]
  },
  {
   "cell_type": "markdown",
   "metadata": {},
   "source": [
    "**Выборки**    $X_1^{n1} = {X_{11} ... X_{1n_1}}$ и выборка $X_2^{n2} = {X_{21} ... X_{2n_2}}$ \n",
    "\n",
    "Часто говорят, что критерий проверяет гипотезу о сдвиге распределений, из которых взяты выборки друг относительно друга. По сути, это не совсем так.  Гипотезу часто формулируют как \"выборки взяты из одного распределения\". Здесь имеется в виду, что если взять вариационный ряд из двух выборок, значения из первой и второй выборок будут по нему равномерно рассеяны. Чем меньше значение критерия, тем вероятнее, что различия между значениями параметра в выборках достоверны. То есть:\n",
    "\n",
    "**Нулевая гипотеза**: $F_{X_1} = F_{X_2}$ - значения из выборок равномерно рассеяны в вариационном ряде.\n",
    "\n",
    "**Альтернативная гипотеза (двусторонняя альтернатива)**  $F_{X_1} \\not= F_{X_2}$ - значения в какой-то из выборок рассеяны в вариационном ряде неравномерно.\n",
    "\n",
    "Эту штуку трудно интерпретировать, но по смыслу если эти вероятности равны, то выборки \"как бы\" взяты из одного распределения с одними и теми же параметрами, а если нет, то нет.\n",
    "\n",
    "**Статистика** Уложим обе наши выборки в один вариационный ряд. После чего подсчитаем сумму рангов, приходящуюся на элементы первой выборки ($R_1$) и на элементы  второй выборки ($R_2$). \n",
    "\n",
    "$$U_1 = n_1n_2 + \\dfrac{n_2(n_2+1)}{2} - R_1$$\n",
    "\n",
    "$$U_2 = n_1n_2 + \\dfrac{n_1(n_1+1)}{2} - R_2$$\n",
    "\n",
    "$$U = min(U_1, U_2)$$\n",
    "\n",
    "**Нулевое распределение** Табличное, но есть нормальное приближение :)\n"
   ]
  },
  {
   "cell_type": "markdown",
   "metadata": {},
   "source": [
    "## Нулевое распределение"
   ]
  },
  {
   "cell_type": "markdown",
   "metadata": {},
   "source": [
    "Если выборки взяты из одного распределения, то каждый из рангов мог равновероятно реализоваться в первой или второй выборке. Всего вариантов реализаций рангов будет $C^{n1}_{n_1+n_2}$. Давайте переберем их все и на каждом из этих вариантов мы получим значение статистики Манна-Уитни. Удивительно, но уже при 10 объектах в каждой из выборок распределение критерия очень похоже на нормальное вот с такими параметрами:\n",
    "\n",
    "$$R_1 \\sim N(\\dfrac{n_1(n_1+n_2+1)}{2},\\dfrac{n_1n_2(n_1+n_2+1)}{12})$$\n",
    "\n",
    "Например в известном нам пакете Scipy p-value для критерия Манна-Уитни именно с помощью его нормальной аппроксимации."
   ]
  },
  {
   "cell_type": "code",
   "execution_count": 28,
   "metadata": {},
   "outputs": [],
   "source": [
    "from scipy.stats import mannwhitneyu, ttest_ind\n",
    "mannwhitneyu??"
   ]
  },
  {
   "cell_type": "code",
   "execution_count": 45,
   "metadata": {},
   "outputs": [],
   "source": [
    "a = np.random.normal(0,1, size = (1000, 1000))\n",
    "b = np.random.normal(0,5, size = (1000, 1000))"
   ]
  },
  {
   "cell_type": "code",
   "execution_count": 46,
   "metadata": {},
   "outputs": [],
   "source": [
    "pval = [ttest_ind(a[i,:], b[i,:]).pvalue for i in range(1000)]"
   ]
  },
  {
   "cell_type": "code",
   "execution_count": 47,
   "metadata": {},
   "outputs": [
    {
     "data": {
      "text/plain": [
       "(array([ 95., 107.,  99., 105., 107.,  85.,  96., 113.,  92., 101.]),\n",
       " array([1.00232054e-04, 1.00004135e-01, 1.99908037e-01, 2.99811939e-01,\n",
       "        3.99715842e-01, 4.99619744e-01, 5.99523647e-01, 6.99427549e-01,\n",
       "        7.99331452e-01, 8.99235354e-01, 9.99139257e-01]),\n",
       " <BarContainer object of 10 artists>)"
      ]
     },
     "execution_count": 47,
     "metadata": {},
     "output_type": "execute_result"
    },
    {
     "data": {
      "image/png": "[encoded data removed]",
      "text/plain": [
       "<Figure size 640x480 with 1 Axes>"
      ]
     },
     "metadata": {},
     "output_type": "display_data"
    }
   ],
   "source": [
    "plt.hist(pval)"
   ]
  },
  {
   "cell_type": "code",
   "execution_count": 24,
   "metadata": {},
   "outputs": [],
   "source": [
    "a = [-2]*20+[0]*20+[5]*20\n",
    "b = [-1]*20+[0]*20+[10]*20"
   ]
  },
  {
   "cell_type": "code",
   "execution_count": 25,
   "metadata": {
    "scrolled": true
   },
   "outputs": [
    {
     "data": {
      "text/plain": [
       "0.015481550512327179"
      ]
     },
     "execution_count": 25,
     "metadata": {},
     "output_type": "execute_result"
    }
   ],
   "source": [
    "mannwhitneyu(a,b).pvalue"
   ]
  },
  {
   "cell_type": "code",
   "execution_count": 51,
   "metadata": {},
   "outputs": [
    {
     "data": {
      "text/plain": [
       "(array([  8.,  37.,  87., 214., 253., 224., 122.,  44.,   9.,   2.]),\n",
       " array([-6.25857196, -4.88907469, -3.51957741, -2.15008014, -0.78058287,\n",
       "         0.5889144 ,  1.95841168,  3.32790895,  4.69740622,  6.06690349,\n",
       "         7.43640077]),\n",
       " <BarContainer object of 10 artists>)"
      ]
     },
     "execution_count": 51,
     "metadata": {},
     "output_type": "execute_result"
    },
    {
     "data": {
      "image/png": "[encoded data removed]",
      "text/plain": [
       "<Figure size 640x480 with 1 Axes>"
      ]
     },
     "metadata": {},
     "output_type": "display_data"
    }
   ],
   "source": [
    "plt.hist(np.random.normal(0,1,1000))\n",
    "plt.hist(np.random.normal(0,2,1000), alpha = 0.5)"
   ]
  },
  {
   "cell_type": "code",
   "execution_count": 52,
   "metadata": {},
   "outputs": [
    {
     "data": {
      "image/png": "[encoded data removed]",
      "text/plain": [
       "<Figure size 640x480 with 1 Axes>"
      ]
     },
     "metadata": {},
     "output_type": "display_data"
    }
   ],
   "source": [
    "# тест колмогорова - смирнова\n",
    "a = np.random.normal(0,1, size = (1000, 1000))\n",
    "b = np.random.normal(0,2, size = (1000, 1000))\n",
    "pval = [stats.ks_2samp(a[i,:], b[i,:]).pvalue for i in range(1000)]\n",
    "\n",
    "_ = plt.hist(pval)"
   ]
  },
  {
   "cell_type": "code",
   "execution_count": null,
   "metadata": {},
   "outputs": [],
   "source": []
  },
  {
   "cell_type": "markdown",
   "metadata": {},
   "source": [
    "Я где-то слышал, что \"быстрая\" сортировка aka Quicksort хорошо работает на реальных данных. Кроме того, говорят, что не менее известная сортировка MergeSort тоже довольно хороша, причем даже для весьма плохих случаев. Не вдаваясь в особенности амортизационного анализа алгоритмов, давайте проведем эксперимент и измерим время работы алгоритмов Quicksort и MergeSort и проверим, что же быстрее работает на случайных данных."
   ]
  },
  {
   "cell_type": "markdown",
   "metadata": {},
   "source": [
    "Реализуем сортировку Quicksort. Как это работает можно посмотреть [здесь](https://www.youtube.com/watch?v=7h1s2SojIRw&t=366s). За опорную точку будем выбирать начальный элемент.\n",
    "\n",
    "А MergeSort работает [так](https://www.youtube.com/watch?v=mB5HXBb_HY8).\n",
    "\n",
    "Сравнивать наши результаты мы будем в предположении, что генератор случайных чисел в среднем создает списки, одинаково сложные для сортировки."
   ]
  },
  {
   "cell_type": "markdown",
   "metadata": {},
   "source": [
    "## Quicksort"
   ]
  },
  {
   "cell_type": "code",
   "execution_count": 146,
   "metadata": {},
   "outputs": [],
   "source": [
    "def partition(array, start, end):\n",
    "    pivot = start \n",
    "    for i in range(start+1, end+1):\n",
    "        if array[i] <= array[start]:\n",
    "            pivot += 1\n",
    "            array[i], array[pivot] = array[pivot], array[i]\n",
    "    array[pivot], array[start] = array[start], array[pivot]\n",
    "    return pivot\n",
    " \n",
    "def quick_sort(array, start=0, end=None):\n",
    "    if end is None:\n",
    "        end = len(array) - 1\n",
    "    \n",
    "    def _quicksort(array, start, end):\n",
    "        if start >= end:\n",
    "            return \n",
    "        pivot = partition(array, start, end)\n",
    "        _quicksort(array, start, pivot-1)\n",
    "        _quicksort(array, pivot+1, end)\n",
    "    return _quicksort(array, start, end)"
   ]
  },
  {
   "cell_type": "markdown",
   "metadata": {},
   "source": [
    "## MergeSort"
   ]
  },
  {
   "cell_type": "code",
   "execution_count": 147,
   "metadata": {},
   "outputs": [],
   "source": [
    "def merge(left_list, right_list):  \n",
    "    sorted_list = []\n",
    "    left_list_index = right_list_index = 0\n",
    "\n",
    "    # Длина списков часто используется, поэтому создадим переменные для удобства\n",
    "    left_list_length, right_list_length = len(left_list), len(right_list)\n",
    "\n",
    "    for _ in range(left_list_length + right_list_length):\n",
    "        if left_list_index < left_list_length and right_list_index < right_list_length:\n",
    "            # Сравниваем первые элементы в начале каждого списка\n",
    "            # Если первый элемент левого подсписка меньше, добавляем его\n",
    "            # в отсортированный массив\n",
    "            if left_list[left_list_index] <= right_list[right_list_index]:\n",
    "                sorted_list.append(left_list[left_list_index])\n",
    "                left_list_index += 1\n",
    "            # Если первый элемент правого подсписка меньше, добавляем его\n",
    "            # в отсортированный массив\n",
    "            else:\n",
    "                sorted_list.append(right_list[right_list_index])\n",
    "                right_list_index += 1\n",
    "\n",
    "        # Если достигнут конец левого списка, элементы правого списка\n",
    "        # добавляем в конец результирующего списка\n",
    "        elif left_list_index == left_list_length:\n",
    "            sorted_list.append(right_list[right_list_index])\n",
    "            right_list_index += 1\n",
    "        # Если достигнут конец правого списка, элементы левого списка\n",
    "        # добавляем в отсортированный массив\n",
    "        elif right_list_index == right_list_length:\n",
    "            sorted_list.append(left_list[left_list_index])\n",
    "            left_list_index += 1\n",
    "\n",
    "    return sorted_list\n",
    "\n",
    "def merge_sort(nums):  \n",
    "    # Возвращаем список, если он состоит из одного элемента\n",
    "    if len(nums) <= 1:\n",
    "        return nums\n",
    "\n",
    "    # Для того чтобы найти середину списка, используем деление без остатка\n",
    "    # Индексы должны быть integer\n",
    "    mid = len(nums) // 2\n",
    "\n",
    "    # Сортируем и объединяем подсписки\n",
    "    left_list = merge_sort(nums[:mid])\n",
    "    right_list = merge_sort(nums[mid:])\n",
    "\n",
    "    # Объединяем отсортированные списки в результирующий\n",
    "    return merge(left_list, right_list)"
   ]
  },
  {
   "cell_type": "code",
   "execution_count": 148,
   "metadata": {},
   "outputs": [],
   "source": [
    "from datetime import datetime as dt\n",
    "\n",
    "quicksorted, mergesorted = [], []\n",
    "\n",
    "for _ in range(400):\n",
    "    l = list(np.random.rand(500))\n",
    "    t0 = float(dt.utcnow().timestamp())\n",
    "    f = quick_sort(l)\n",
    "    t1 =  float(dt.utcnow().timestamp()) - t0\n",
    "    quicksorted.append(t1)\n",
    "    \n",
    "for _ in range(400):\n",
    "    l = list(np.random.rand(500))\n",
    "    t0 = float(dt.utcnow().timestamp())\n",
    "    f = merge_sort(l)\n",
    "    t1 =  float(dt.utcnow().timestamp()) - t0\n",
    "    mergesorted.append(t1)"
   ]
  },
  {
   "cell_type": "code",
   "execution_count": 149,
   "metadata": {},
   "outputs": [],
   "source": [
    "import matplotlib.pyplot as plt"
   ]
  },
  {
   "cell_type": "code",
   "execution_count": 150,
   "metadata": {},
   "outputs": [],
   "source": [
    "y, x = np.histogram(np.array(quicksorted), bins = 30)"
   ]
  },
  {
   "cell_type": "code",
   "execution_count": 151,
   "metadata": {},
   "outputs": [
    {
     "data": {
      "image/png": "[encoded data removed]",
      "text/plain": [
       "<Figure size 504x360 with 1 Axes>"
      ]
     },
     "metadata": {
      "needs_background": "light"
     },
     "output_type": "display_data"
    }
   ],
   "source": [
    "import matplotlib.pyplot as plt\n",
    "import numpy as np\n",
    "\n",
    "fig, axs = plt.subplots(1, 1, figsize=(7,5))\n",
    "hist = axs.hist(quicksorted, np.arange(0, max(quicksorted), 0.0001)) \n",
    "hist2 = axs.hist(mergesorted, np.arange(0, max(mergesorted), 0.0001), ) \n",
    "plt.show()"
   ]
  },
  {
   "cell_type": "markdown",
   "metadata": {},
   "source": [
    "Вообще говоря, оба распределения не нормальные (Как минимум - они ограничены слева нулем). Поэтому чтобы протестировать значимость этого различия мы будем использовать критерий Манна-Уитни."
   ]
  },
  {
   "cell_type": "code",
   "execution_count": 152,
   "metadata": {},
   "outputs": [
    {
     "data": {
      "text/plain": [
       "MannwhitneyuResult(statistic=6853.5, pvalue=2.9209886345199636e-111)"
      ]
     },
     "execution_count": 152,
     "metadata": {},
     "output_type": "execute_result"
    }
   ],
   "source": [
    "mannwhitneyu(quicksorted, mergesorted)"
   ]
  },
  {
   "cell_type": "markdown",
   "metadata": {},
   "source": [
    "Критерий Манна-Уитни уверенно отвергает \"равенство средних\". На гистограмме мы видим, что перекрытие распределений (а соответственно и элементов вариационного ряда) много меньше, чем доля значений, изолированных друг от друга. Именно о том, что два распределения \"раздвинуты\" и говорит критерий."
   ]
  },
  {
   "cell_type": "code",
   "execution_count": 54,
   "metadata": {},
   "outputs": [],
   "source": [
    "import pandas as pd\n",
    "df = pd.read_excel('/Users/i.pile/Downloads/data_ctr.xlsx')"
   ]
  },
  {
   "cell_type": "code",
   "execution_count": 57,
   "metadata": {},
   "outputs": [],
   "source": [
    "df.drop('Unnamed: 0', axis = 1, inplace = True)"
   ]
  },
  {
   "cell_type": "code",
   "execution_count": 62,
   "metadata": {},
   "outputs": [
    {
     "data": {
      "text/plain": [
       "array([<Axes: title={'center': '0'}>, <Axes: title={'center': '3'}>],\n",
       "      dtype=object)"
      ]
     },
     "execution_count": 62,
     "metadata": {},
     "output_type": "execute_result"
    },
    {
     "data": {
      "image/png": "[encoded data removed]",
      "text/plain": [
       "<Figure size 640x480 with 2 Axes>"
      ]
     },
     "metadata": {},
     "output_type": "display_data"
    }
   ],
   "source": [
    "df.hist('likes', by = 'exp_group')"
   ]
  },
  {
   "cell_type": "code",
   "execution_count": 65,
   "metadata": {},
   "outputs": [
    {
     "data": {
      "text/plain": [
       "Ttest_indResult(statistic=-6.707624593542688, pvalue=2.031079539958922e-11)"
      ]
     },
     "execution_count": 65,
     "metadata": {},
     "output_type": "execute_result"
    }
   ],
   "source": [
    "ttest_ind(df[df.exp_group == 0].likes , df[df.exp_group == 3].likes, equal_var = False)"
   ]
  },
  {
   "cell_type": "code",
   "execution_count": 68,
   "metadata": {},
   "outputs": [],
   "source": [
    "df_0 = df[df.exp_group == 0]\n",
    "df_3 = df[df.exp_group == 3]"
   ]
  },
  {
   "cell_type": "code",
   "execution_count": 70,
   "metadata": {},
   "outputs": [
    {
     "data": {
      "text/plain": [
       "(9999, 10049)"
      ]
     },
     "execution_count": 70,
     "metadata": {},
     "output_type": "execute_result"
    }
   ],
   "source": [
    "len(df_0), len(df_3)"
   ]
  },
  {
   "cell_type": "code",
   "execution_count": 76,
   "metadata": {},
   "outputs": [],
   "source": [
    "import numpy as np"
   ]
  },
  {
   "cell_type": "code",
   "execution_count": 80,
   "metadata": {},
   "outputs": [],
   "source": [
    "b_0=np.random.choice(df_0.likes.to_numpy(), replace = True, size = (len(df_0), 1000))\n",
    "b_3=np.random.choice(df_3.likes.to_numpy(), replace = True, size = (len(df_3), 1000))"
   ]
  },
  {
   "cell_type": "code",
   "execution_count": 90,
   "metadata": {},
   "outputs": [],
   "source": [
    "import hashlib"
   ]
  },
  {
   "cell_type": "code",
   "execution_count": 98,
   "metadata": {},
   "outputs": [],
   "source": [
    "def ab_split(id, salt='exp_mess_1', n_groups=50):\n",
    "    test_id = str(id) + '-' + str(salt)\n",
    "    test_id_digest = hashlib.md5(test_id.encode('ascii')).hexdigest()\n",
    "    test_id_final_int = int(test_id_digest, 16)\n",
    "    return test_id_final_int % n_groups"
   ]
  },
  {
   "cell_type": "code",
   "execution_count": 99,
   "metadata": {},
   "outputs": [],
   "source": [
    "df['bucket'] = df['user_id'].apply(ab_split)"
   ]
  },
  {
   "cell_type": "code",
   "execution_count": 101,
   "metadata": {},
   "outputs": [],
   "source": [
    "d = df.groupby(['exp_group','bucket'])['likes'].quantile(q= 0.9)"
   ]
  },
  {
   "cell_type": "code",
   "execution_count": 104,
   "metadata": {},
   "outputs": [],
   "source": [
    "d = d.reset_index()"
   ]
  },
  {
   "cell_type": "code",
   "execution_count": 108,
   "metadata": {},
   "outputs": [
    {
     "data": {
      "text/plain": [
       "MannwhitneyuResult(statistic=759.5, pvalue=0.00034755372911083227)"
      ]
     },
     "execution_count": 108,
     "metadata": {},
     "output_type": "execute_result"
    }
   ],
   "source": [
    "mannwhitneyu(d[d.exp_group == 0].likes, d[d.exp_group == 3].likes)"
   ]
  },
  {
   "cell_type": "code",
   "execution_count": 109,
   "metadata": {},
   "outputs": [
    {
     "data": {
      "text/plain": [
       "Ttest_indResult(statistic=-3.8556572288635627, pvalue=0.00020763761022867932)"
      ]
     },
     "execution_count": 109,
     "metadata": {},
     "output_type": "execute_result"
    }
   ],
   "source": [
    "ttest_ind(d[d.exp_group == 0].likes, d[d.exp_group == 3].likes, equal_var = False)"
   ]
  },
  {
   "cell_type": "code",
   "execution_count": 6,
   "metadata": {},
   "outputs": [],
   "source": [
    "import numpy as np\n",
    "import matplotlib.pyplot as plt"
   ]
  },
  {
   "cell_type": "code",
   "execution_count": 2,
   "metadata": {},
   "outputs": [],
   "source": [
    "x = np.random.normal(0,1, size = 10000)"
   ]
  },
  {
   "cell_type": "code",
   "execution_count": 19,
   "metadata": {},
   "outputs": [],
   "source": [
    "y = np.hstack([np.random.normal(10,1, size = 5000),np.random.normal(-10,1, size = 5000)])"
   ]
  },
  {
   "cell_type": "code",
   "execution_count": 20,
   "metadata": {},
   "outputs": [
    {
     "data": {
      "image/png": "[encoded data removed]",
      "text/plain": [
       "<Figure size 640x480 with 1 Axes>"
      ]
     },
     "metadata": {},
     "output_type": "display_data"
    }
   ],
   "source": [
    "_ = plt.hist(x)\n",
    "_ = plt.hist(y, alpha = 0.5)"
   ]
  },
  {
   "cell_type": "code",
   "execution_count": 21,
   "metadata": {},
   "outputs": [],
   "source": [
    "from scipy.stats import mannwhitneyu, ttest_ind"
   ]
  },
  {
   "cell_type": "code",
   "execution_count": 23,
   "metadata": {},
   "outputs": [
    {
     "data": {
      "text/plain": [
       "MannwhitneyuResult(statistic=50000000.0, pvalue=0.4999995114097027)"
      ]
     },
     "execution_count": 23,
     "metadata": {},
     "output_type": "execute_result"
    }
   ],
   "source": [
    "mannwhitneyu(x,y)"
   ]
  },
  {
   "cell_type": "code",
   "execution_count": 26,
   "metadata": {},
   "outputs": [],
   "source": [
    "from scipy.stats import pearsonr"
   ]
  },
  {
   "cell_type": "code",
   "execution_count": 28,
   "metadata": {},
   "outputs": [],
   "source": [
    "xs = [0]*2000 + [1]*1000"
   ]
  },
  {
   "cell_type": "code",
   "execution_count": 29,
   "metadata": {},
   "outputs": [],
   "source": [
    "ys = np.hstack([np.random.normal(2,3,size = 2000), np.random.normal(4,3,size = 1000)])"
   ]
  },
  {
   "cell_type": "code",
   "execution_count": 33,
   "metadata": {},
   "outputs": [
    {
     "data": {
      "image/png": "[encoded data removed]",
      "text/plain": [
       "<Figure size 640x480 with 1 Axes>"
      ]
     },
     "metadata": {},
     "output_type": "display_data"
    }
   ],
   "source": [
    "_ = plt.hist(ys, bins = 30)"
   ]
  },
  {
   "cell_type": "code",
   "execution_count": 34,
   "metadata": {},
   "outputs": [
    {
     "data": {
      "text/plain": [
       "(0.3231781475303694, 6.914471148551752e-74)"
      ]
     },
     "execution_count": 34,
     "metadata": {},
     "output_type": "execute_result"
    }
   ],
   "source": [
    "pearsonr(ys,xs)"
   ]
  },
  {
   "cell_type": "code",
   "execution_count": 36,
   "metadata": {},
   "outputs": [],
   "source": [
    "import pandas as pd\n",
    "df = pd.DataFrame()"
   ]
  },
  {
   "cell_type": "code",
   "execution_count": 37,
   "metadata": {},
   "outputs": [],
   "source": [
    "df['x'] = xs\n",
    "df['y'] = ys"
   ]
  },
  {
   "cell_type": "code",
   "execution_count": 42,
   "metadata": {},
   "outputs": [],
   "source": [
    "df.hist??"
   ]
  },
  {
   "cell_type": "code",
   "execution_count": 47,
   "metadata": {},
   "outputs": [
    {
     "data": {
      "text/html": [
       "<div>\n",
       "<style scoped>\n",
       "    .dataframe tbody tr th:only-of-type {\n",
       "        vertical-align: middle;\n",
       "    }\n",
       "\n",
       "    .dataframe tbody tr th {\n",
       "        vertical-align: top;\n",
       "    }\n",
       "\n",
       "    .dataframe thead th {\n",
       "        text-align: right;\n",
       "    }\n",
       "</style>\n",
       "<table border=\"1\" class=\"dataframe\">\n",
       "  <thead>\n",
       "    <tr style=\"text-align: right;\">\n",
       "      <th></th>\n",
       "      <th>y</th>\n",
       "    </tr>\n",
       "    <tr>\n",
       "      <th>x</th>\n",
       "      <th></th>\n",
       "    </tr>\n",
       "  </thead>\n",
       "  <tbody>\n",
       "    <tr>\n",
       "      <th>0</th>\n",
       "      <td>2.025434</td>\n",
       "    </tr>\n",
       "    <tr>\n",
       "      <th>1</th>\n",
       "      <td>4.183102</td>\n",
       "    </tr>\n",
       "  </tbody>\n",
       "</table>\n",
       "</div>"
      ],
      "text/plain": [
       "          y\n",
       "x          \n",
       "0  2.025434\n",
       "1  4.183102"
      ]
     },
     "execution_count": 47,
     "metadata": {},
     "output_type": "execute_result"
    }
   ],
   "source": [
    "df.groupby('x').mean()"
   ]
  },
  {
   "cell_type": "code",
   "execution_count": null,
   "metadata": {},
   "outputs": [],
   "source": []
  }
 ],
 "metadata": {
  "kernelspec": {
   "display_name": "Python 3 (ipykernel)",
   "language": "python",
   "name": "python3"
  },
  "language_info": {
   "codemirror_mode": {
    "name": "ipython",
    "version": 3
   },
   "file_extension": ".py",
   "mimetype": "text/x-python",
   "name": "python",
   "nbconvert_exporter": "python",
   "pygments_lexer": "ipython3",
   "version": "3.8.3"
  }
 },
 "nbformat": 4,
 "nbformat_minor": 4
}
