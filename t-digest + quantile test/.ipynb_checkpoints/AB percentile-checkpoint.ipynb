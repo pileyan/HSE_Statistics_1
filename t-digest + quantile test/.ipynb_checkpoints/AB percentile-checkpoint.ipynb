{
 "cells": [
  {
   "cell_type": "markdown",
   "metadata": {},
   "source": [
    "# Как оценивать квантили в АБ-тестах (метод [Spotify](https://engineering.atspotify.com/2022/03/comparing-quantiles-at-scale-in-online-a-b-testing/))\n",
    "\n",
    "Предполагается, что при стандартном бутстрепе сложность будет вида \"сгенерировать выборку\", \"посчитать квантиль по выборке\". Это как будто бы много. Вместо этого Spotify предлагает отсортировать выборку 1 раз и использовать ее в расчетах. \n",
    "\n",
    "<img src = \"img/Bootstrapped-Distributon-of-Quantile-Indexes-1536x960.png\" width = \"800\">"
   ]
  },
  {
   "cell_type": "code",
   "execution_count": 1,
   "metadata": {},
   "outputs": [
    {
     "data": {
      "text/plain": [
       "'The sample median is 1.00567529849348, the 95.0%confidence interval is given by ([0.98114982 1.0322633 ]).'"
      ]
     },
     "execution_count": 1,
     "metadata": {},
     "output_type": "execute_result"
    }
   ],
   "source": [
    "import numpy as np\n",
    "from scipy.stats import binom\n",
    "\n",
    "alpha=.05\n",
    "quantile_of_interest=0.5\n",
    "sample_size=10000\n",
    "number_of_bootstrap_samples=1000\n",
    "outcome_sorted = np.sort(np.random.normal(1,1,sample_size))\n",
    "\n",
    "ci_indexes = binom.ppf([alpha/2,1-alpha/2],sample_size+1, quantile_of_interest)\n",
    "bootstrap_confidence_interval = outcome_sorted[[int(np.floor(ci_indexes[0])), int(np.ceil(ci_indexes[1]))]]\n",
    "\n",
    "f\"The sample median is {np.quantile(outcome_sorted, quantile_of_interest)}, the {(1-alpha)*100}%\\\n",
    "confidence interval is given by ({bootstrap_confidence_interval}).\""
   ]
  },
  {
   "cell_type": "code",
   "execution_count": null,
   "metadata": {},
   "outputs": [],
   "source": []
  },
  {
   "cell_type": "code",
   "execution_count": 2,
   "metadata": {},
   "outputs": [
    {
     "data": {
      "text/plain": [
       "'The sample difference-in-medians is 0.1994520004434892,the 95.0% confidence interval for the difference-in-medians is given by ([1.15170788 1.19466411]).'"
      ]
     },
     "execution_count": 2,
     "metadata": {},
     "output_type": "execute_result"
    }
   ],
   "source": [
    "import numpy as np\n",
    "from numpy.random import normal, binomial\n",
    "\n",
    "alpha=.05\n",
    "quantile_of_interest=0.5\n",
    "sample_size=10000\n",
    "number_of_bootstrap_samples=10000\n",
    "outcome_control_sorted = np.sort(normal(1,1,sample_size))\n",
    "outcome_treatment_sorted = np.sort(normal(1.2,1,sample_size))\n",
    "\n",
    "bootstrap_difference_distribution = outcome_treatment_sorted[binomial(sample_size+1, \n",
    "                                                                      quantile_of_interest, \n",
    "                                                                      number_of_bootstrap_samples)] \n",
    "- outcome_control_sorted[binomial(sample_size+1,\n",
    "                                  quantile_of_interest, \n",
    "                                  number_of_bootstrap_samples)]\n",
    "\n",
    "bootstrap_confidence_interval = np.quantile(bootstrap_difference_distribution,\n",
    "[alpha/2 , 1-alpha/2])\n",
    "\n",
    "f\"The sample difference-in-medians is \\\n",
    "{np.quantile(outcome_treatment_sorted, quantile_of_interest)-np.quantile(outcome_control_sorted, quantile_of_interest)},\\\n",
    "the {(1-alpha)*100}% confidence interval for the difference-in-medians is given by ({bootstrap_confidence_interval}).\""
   ]
  },
  {
   "cell_type": "code",
   "execution_count": null,
   "metadata": {},
   "outputs": [],
   "source": []
  },
  {
   "cell_type": "code",
   "execution_count": 3,
   "metadata": {},
   "outputs": [
    {
     "data": {
      "text/plain": [
       "'The empirical false positive rate of the test using the bootstrap confidence interval is 4.8%, the intended false positive rate is 5.0%'"
      ]
     },
     "execution_count": 3,
     "metadata": {},
     "output_type": "execute_result"
    }
   ],
   "source": [
    "alpha=.05\n",
    "quantile_of_interest=0.5\n",
    "sample_size=10000\n",
    "number_of_bootstrap_samples=1000000\n",
    "replications = 1000\n",
    "\n",
    "bootstrap_confidence_intervals = []\n",
    "ci_index = int(np.floor(binom.ppf(alpha,sample_size+1, quantile_of_interest)))\n",
    "for i in range(replications):\n",
    "    outcome_sorted = np.sort(np.random.normal(0,1,sample_size))\n",
    "    bootstrap_confidence_intervals.append(outcome_sorted[ci_index])\n",
    "\n",
    "f\"The empirical false positive rate of the test using the bootstrap confidence interval is {np.mean([1 if i>0  else 0 for i in bootstrap_confidence_intervals])*100}%, the intended false positive rate is {alpha*100}%\""
   ]
  },
  {
   "cell_type": "code",
   "execution_count": 4,
   "metadata": {},
   "outputs": [],
   "source": [
    "def mannwhitney(a, b):\n",
    "    \"\"\"\n",
    "    Двусторонний тест Манна-Уитни\n",
    "    :param a: np.array вида (n_experiments, n_users), значения метрики в контроле\n",
    "    :param b: np.array вида (n_experiments, n_users), значен я метрики в тесте\n",
    "    :return: np.array вида (n_experiments), двусторонние p-value методом Манна-Уитни для всех экспериментов\n",
    "    \"\"\"\n",
    "    result = list(map(lambda x: scipy.stats.mannwhitneyu(\n",
    "        x[0], x[1], alternative='less').pvalue, zip(a, b)))\n",
    "    return np.array(result)\n",
    "\n",
    "def t_test(a, b):\n",
    "    \"\"\"\n",
    "    Считает p-value для t-теста с двусторонней альтернативой \n",
    "    :param a: np.array вида (n_experiments, n_users), значения метрик в контрольных группах\n",
    "    :param b: np.array вида (n_experiments, n_users), значения метрик в тестовых группах\n",
    "    :return: np.array вида (n_experiments), посчитанные p-value t-теста для всего списка экспериментов\n",
    "    \"\"\"\n",
    "    result = list(map(lambda x: scipy.stats.ttest_ind(\n",
    "        x[0], x[1]).pvalue, zip(a, b)))\n",
    "    return np.array(result)"
   ]
  },
  {
   "cell_type": "code",
   "execution_count": 28,
   "metadata": {},
   "outputs": [],
   "source": [
    "def bucketization(x, y, n_buckets=20):\n",
    "    n_experiments, n_users = x.shape\n",
    "\n",
    "    values_0 = np.zeros((n_experiments, n_buckets))\n",
    "    values_1 = np.zeros((n_experiments, n_buckets))\n",
    "\n",
    "    for b in np.arange(n_buckets):\n",
    "        ind = np.arange(b * n_users / n_buckets, b * n_users / n_buckets + n_users / n_buckets).astype(np.int64)\n",
    "        values_0[:, b] = np.mean(x[:, ind], axis=1)/ x[:, ind].shape[1]\n",
    "        values_1[:, b] = np.mean(y[:, ind], axis=1)/ y[:, ind].shape[1]\n",
    "\n",
    "    return values_0, values_1\n",
    "\n",
    "def my_test(x,y):\n",
    "    return mannwhitney(*bucketization(x,y))"
   ]
  },
  {
   "cell_type": "code",
   "execution_count": 8,
   "metadata": {},
   "outputs": [],
   "source": [
    "test_zero_array = sps.bernoulli(p=0.55).rvs(1000)\n",
    "control_zero_array = sps.bernoulli(p=0.5).rvs(1000)\n",
    "test = sps.expon(loc=0, scale=6).rvs(1000) * test_zero_array # ET = 3.3\n",
    "control = sps.expon(loc=0, scale=7).rvs(1000) * control_zero_array # EC = 3.5"
   ]
  },
  {
   "cell_type": "code",
   "execution_count": 17,
   "metadata": {},
   "outputs": [],
   "source": [
    "import scipy"
   ]
  },
  {
   "cell_type": "code",
   "execution_count": 22,
   "metadata": {},
   "outputs": [
    {
     "data": {
      "text/plain": [
       "1000"
      ]
     },
     "execution_count": 22,
     "metadata": {},
     "output_type": "execute_result"
    }
   ],
   "source": [
    "len(control)"
   ]
  },
  {
   "cell_type": "code",
   "execution_count": 30,
   "metadata": {},
   "outputs": [],
   "source": [
    "# bucketization()"
   ]
  },
  {
   "cell_type": "code",
   "execution_count": 31,
   "metadata": {},
   "outputs": [
    {
     "data": {
      "application/vnd.jupyter.widget-view+json": {
       "model_id": "24b000be462c4421af414da7cbca47cb",
       "version_major": 2,
       "version_minor": 0
      },
      "text/plain": [
       "  0%|          | 0/10000 [00:00<?, ?it/s]"
      ]
     },
     "metadata": {},
     "output_type": "display_data"
    },
    {
     "name": "stdout",
     "output_type": "stream",
     "text": [
      "Mann-whitneyu LESS power: 0.1698, [0.1626, 0.1773]\n",
      "T-test LESS power: 0.009, [0.0073, 0.011]\n"
     ]
    }
   ],
   "source": [
    "import scipy.stats as sps\n",
    "from tqdm.notebook import tqdm # tqdm – библиотека для визуализации прогресса в цикле\n",
    "from statsmodels.stats.proportion import proportion_confint\n",
    "import numpy as np\n",
    "\n",
    " \n",
    "mann_bad_cnt = 0\n",
    "ttest_bad_cnt = 0\n",
    "sz = 10000\n",
    " \n",
    "for i in tqdm(range(sz)):\n",
    "    test_zero_array = sps.bernoulli(p=0.55).rvs(1000)\n",
    "    control_zero_array = sps.bernoulli(p=0.5).rvs(1000)\n",
    "    test = sps.expon(loc=0, scale=6).rvs(1000) * test_zero_array # ET = 3.3\n",
    "    control = sps.expon(loc=0, scale=7).rvs(1000) * control_zero_array # EC = 3.5\n",
    "     \n",
    "    # Проверяем гипотезу\n",
    "    mann_pvalue = my_test(np.expand_dims(test,1).T, np.expand_dims(control,1).T)[0]\n",
    "#         sps.mannwhitneyu(control, test, alternative='less').pvalue\n",
    "    ttest_pvalue = sps.ttest_ind(control, test, alternative='less').pvalue\n",
    "    if mann_pvalue < 0.05:\n",
    "        mann_bad_cnt += 1\n",
    " \n",
    "    if ttest_pvalue < 0.05:\n",
    "        ttest_bad_cnt += 1\n",
    "\n",
    "\n",
    "left_mann_power, right_mann_power = proportion_confint(count = mann_bad_cnt, nobs = sz, alpha=0.05, method='wilson')\n",
    "left_ttest_power, right_ttest_power = proportion_confint(count = ttest_bad_cnt, nobs = sz, alpha=0.05, method='wilson')\n",
    "# Выводим результаты\n",
    "print(f\"Mann-whitneyu LESS power: {round(mann_bad_cnt / sz, 4)}, [{round(left_mann_power, 4)}, {round(right_mann_power, 4)}]\")\n",
    "print(f\"T-test LESS power: {round(ttest_bad_cnt / sz, 4)}, [{round(left_ttest_power, 4)}, {round(right_ttest_power, 4)}]\")"
   ]
  }
 ],
 "metadata": {
  "kernelspec": {
   "display_name": "py38",
   "language": "python",
   "name": "py38"
  },
  "language_info": {
   "codemirror_mode": {
    "name": "ipython",
    "version": 3
   },
   "file_extension": ".py",
   "mimetype": "text/x-python",
   "name": "python",
   "nbconvert_exporter": "python",
   "pygments_lexer": "ipython3",
   "version": "3.8.18"
  }
 },
 "nbformat": 4,
 "nbformat_minor": 4
}
