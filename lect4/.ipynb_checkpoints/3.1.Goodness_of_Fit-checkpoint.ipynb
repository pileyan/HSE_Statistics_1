{
 "cells": [
  {
   "cell_type": "markdown",
   "metadata": {},
   "source": [
    "# Критерии согласия"
   ]
  },
  {
   "cell_type": "markdown",
   "metadata": {},
   "source": [
    "В Python, как и в любых других статистических пакетах, уже реализованы многие критерии, которые мы изучали. Давайте посмотрим, как применять эти критерии на практике."
   ]
  },
  {
   "cell_type": "code",
   "execution_count": null,
   "metadata": {},
   "outputs": [],
   "source": [
    "# как обычно, начнем с импорта нужных библиотек\n",
    "import numpy as np\n",
    "from scipy import stats\n",
    "import matplotlib.pyplot as plt"
   ]
  },
  {
   "cell_type": "code",
   "execution_count": null,
   "metadata": {},
   "outputs": [],
   "source": [
    "# и зафиксируем seed\n",
    "np.random.seed(123)"
   ]
  },
  {
   "cell_type": "markdown",
   "metadata": {},
   "source": [
    "## Критерий Колмогорова"
   ]
  },
  {
   "cell_type": "markdown",
   "metadata": {},
   "source": [
    "Начнем с критерия согласия Колмогорова. Этот критерий проверяет простую гипотезу о принадлежности выборки некоторому (непрерывному!) закону распределения. Критерий Колмогорова реализован с помощью функции kstest в модуле stats:\n",
    "\n",
    "* **stats.kstest(sample, cdf)** — тут sample — реализация нашей выборки и cdf — функция распределения закона, с которым сравниваем."
   ]
  },
  {
   "cell_type": "code",
   "execution_count": null,
   "metadata": {},
   "outputs": [],
   "source": [
    "n = 500 # размер выборки"
   ]
  },
  {
   "cell_type": "code",
   "execution_count": null,
   "metadata": {},
   "outputs": [],
   "source": [
    "sample1 = np.random.rand(n) # выборка 1 из равномерного распределения на [0,1]\n",
    "sample2 = np.random.beta(2,2,size = n) # выборка 2 из бета-распределения с параметрами (2,2)"
   ]
  },
  {
   "cell_type": "code",
   "execution_count": null,
   "metadata": {},
   "outputs": [],
   "source": [
    "# давайте сначала посмотрим на гистограммы для sample1 и sample2\n",
    "\n",
    "plt.figure(figsize=(12,8))\n",
    "plt.subplot(2,2,1)\n",
    "plt.hist(sample1, bins=20)\n",
    "plt.subplot(2,2,2)\n",
    "plt.hist(sample2, bins=20)\n",
    "plt.show()"
   ]
  },
  {
   "cell_type": "code",
   "execution_count": null,
   "metadata": {},
   "outputs": [],
   "source": [
    "# Запускаем критерий Колмогорова для sample1, \n",
    "# проверяем гипотезу о том, что выборка взята из равномерного распределения на [0,1].\n",
    "# Должны получить большой p-value (что будет означать, что значение статистики попало в область вероятных значений).\n",
    "\n",
    "stats.kstest(sample1, stats.uniform.cdf)"
   ]
  },
  {
   "cell_type": "code",
   "execution_count": null,
   "metadata": {},
   "outputs": [],
   "source": [
    "# Запускаем критерий Колмогорова для sample2, \n",
    "# проверяем гипотезу о том, что выборка взята из равномерного распределения на [0,1].\n",
    "# Должны получить малый p-value (что будет означать, что значение статистики попало в область маловероятных значений).\n",
    "\n",
    "stats.kstest(sample2, stats.uniform.cdf)"
   ]
  },
  {
   "cell_type": "code",
   "execution_count": null,
   "metadata": {},
   "outputs": [],
   "source": [
    "# Запускаем критерий Колмогорова для sample1, \n",
    "# проверяем гипотезу о том, что выборка взята из бета-распределения с параметрами (2,2).\n",
    "# Обратите внимание на то, как передавать параметры для функции плотности.\n",
    "\n",
    "stats.kstest(sample1, stats.beta.cdf, args=(2,2))"
   ]
  },
  {
   "cell_type": "code",
   "execution_count": null,
   "metadata": {},
   "outputs": [],
   "source": [
    "# Запускаем критерий Колмогорова для sample2, \n",
    "# проверяем гипотезу о том, что выборка взята из бета-распределения с параметрами (2,2).\n",
    "\n",
    "stats.kstest(sample2, stats.beta.cdf, args=(2,2))"
   ]
  },
  {
   "cell_type": "markdown",
   "metadata": {},
   "source": [
    "## Критерий хи-квадрат"
   ]
  },
  {
   "cell_type": "markdown",
   "metadata": {},
   "source": [
    "Теперь перейдем к критерию согласия хи-квадрат. Этот критерий реализован с помощью функции chisquare в модуле stats:\n",
    "    \n",
    "* **stats.chisquare(obs, exp)** — тут obs — количества попаданий в каждую \"ячейку\" и exp — ожидаемые количества попаданий в каждую \"ячейку\".\n",
    "\n",
    "P.S. Обратите внимание на то, что мы передаем в функцию chisquare не вероятности (эмпирические и истинные), а количества!"
   ]
  },
  {
   "cell_type": "markdown",
   "metadata": {},
   "source": [
    "В экспериментах с селекцией гороха Мендель наблюдал частоты различных видов семян, получаемых при скрещивании растений с круглыми желтыми семенами и растений с морщинистыми зелеными семенами. Эти данные и значения теоретических вероятностей, определяемые в соответствии с законом Менделя, приведены в следующей таблице:\n",
    "\n",
    "| Тип семян            | Частота | Вероятность |\n",
    "|:-------------------- |:-------:| -----------:|\n",
    "| Круглые и желтые     | 315/556 | 9/16        |\n",
    "| Морщинистые и желтые | 101/556 | 3/16        |\n",
    "| Круглые и зеленые    | 108/556 | 3/16        |\n",
    "| Морщинистые и зеленые| 32/556  | 1/16        |\n",
    "\n",
    "Необходимо проверить гипотезу $H_0$ о согласованности частот с теоретическими вероятностями при помощи критерия хи-квадрат."
   ]
  },
  {
   "cell_type": "code",
   "execution_count": null,
   "metadata": {},
   "outputs": [],
   "source": [
    "# занесем данные из таблицы в массивы\n",
    "\n",
    "obs = np.array([315/556, 101/556, 108/556, 32/556])\n",
    "exp = np.array([9/16, 3/16, 3/16, 1/16])"
   ]
  },
  {
   "cell_type": "code",
   "execution_count": null,
   "metadata": {},
   "outputs": [],
   "source": [
    "# вспомним о том, что в функцию chisquare мы должны передавать количества, а не частоты\n",
    "\n",
    "obs = obs*556\n",
    "exp = exp*556"
   ]
  },
  {
   "cell_type": "code",
   "execution_count": null,
   "metadata": {},
   "outputs": [],
   "source": [
    "# запускаем критерий хи-квадрат\n",
    "\n",
    "stats.chisquare(obs, exp)"
   ]
  },
  {
   "cell_type": "markdown",
   "metadata": {},
   "source": [
    "## Проверка нормальности"
   ]
  },
  {
   "cell_type": "markdown",
   "metadata": {},
   "source": [
    "Очень важный тип критериев согласия — это проверка нормальности. На лекции мы изучали следующие методы: \n",
    "\n",
    "* **qqplot(sample, dist, line='r')** — построение квантильного графика (Q-Q Plot) — визуальная проверка любого критерия согласия о масштабе/сдвиге. Аргументы: sample — наша выборка, dits — распределение, с которым сравниваем (если этот параметр не указан, то используется нормальное распределение), line='r' — подгоняет прямую под облако точек, чтобы было проще визуально сравнивать.\n",
    "* **stats.shapiro(sample)** — критерий Шапиро-Уилка. Аргументы: sample — наша выборка.\n",
    "* **stats.jarque_bera(sample)** — критерий Харке-Бера. Аргументы: sample — наша выборка."
   ]
  },
  {
   "cell_type": "code",
   "execution_count": null,
   "metadata": {},
   "outputs": [],
   "source": [
    "# поменяем размер выборки, если нужно\n",
    "\n",
    "n = 500"
   ]
  },
  {
   "cell_type": "code",
   "execution_count": null,
   "metadata": {},
   "outputs": [],
   "source": [
    "sample1 = np.random.normal(1,2, size=n) # выборка из нормального распределения\n",
    "sample2 = np.random.beta(2,2,size = n) # выборка из бета-распределения с параметрами (2,2)"
   ]
  },
  {
   "cell_type": "code",
   "execution_count": null,
   "metadata": {},
   "outputs": [],
   "source": [
    "# нарисуем гистограммы \n",
    "\n",
    "plt.figure(figsize=(12,8))\n",
    "plt.subplot(2,2,1)\n",
    "plt.hist(sample1, bins=20)\n",
    "plt.subplot(2,2,2)\n",
    "plt.hist(sample2, bins=20)\n",
    "plt.show()"
   ]
  },
  {
   "cell_type": "code",
   "execution_count": null,
   "metadata": {},
   "outputs": [],
   "source": [
    "from statsmodels.graphics.gofplots import qqplot # импортируем функцию qqplot"
   ]
  },
  {
   "cell_type": "code",
   "execution_count": null,
   "metadata": {},
   "outputs": [],
   "source": [
    "# график квантилей для sample1\n",
    "\n",
    "qqplot(sample1, line='s')\n",
    "plt.show()"
   ]
  },
  {
   "cell_type": "code",
   "execution_count": null,
   "metadata": {},
   "outputs": [],
   "source": [
    "# график квантилей для sample2\n",
    "\n",
    "qqplot(sample2, line='s')\n",
    "plt.show()"
   ]
  },
  {
   "cell_type": "code",
   "execution_count": null,
   "metadata": {},
   "outputs": [],
   "source": [
    "# запускаем критерий Шапиро-Уилка для sample1\n",
    "\n",
    "stats.shapiro(sample1)"
   ]
  },
  {
   "cell_type": "code",
   "execution_count": null,
   "metadata": {},
   "outputs": [],
   "source": [
    "# запускаем критерий Шапиро-Уилка для sample2\n",
    "\n",
    "stats.shapiro(sample2)"
   ]
  },
  {
   "cell_type": "code",
   "execution_count": null,
   "metadata": {},
   "outputs": [],
   "source": [
    "# запускаем критерий Харке-Бера для sample1\n",
    "\n",
    "stats.jarque_bera(sample1)"
   ]
  },
  {
   "cell_type": "code",
   "execution_count": null,
   "metadata": {},
   "outputs": [],
   "source": [
    "# запускаем критерий Харке-Бера для sample2\n",
    "\n",
    "stats.jarque_bera(sample2)"
   ]
  },
  {
   "cell_type": "markdown",
   "metadata": {},
   "source": [
    "## Вместо заключения"
   ]
  },
  {
   "cell_type": "markdown",
   "metadata": {},
   "source": [
    "В статистике известно большое количество критериев согласия и далеко не все из них реализованы в Python. О критериях можно почитать в книге А.И. Кобзарь \"Прикладная математическая статистика. Для инженеров и научных работников\". (Почти) полный список того, что реализовано в Python можно найти в официальной документации: https://docs.scipy.org/doc/scipy/reference/stats.html#module-scipy.stats.\n",
    "\n",
    "Если в официальной документации Вы не найдете нужного критерия, гуглите. Вполне возможно, что критерий, который Вам нужен уже реализован."
   ]
  }
 ],
 "metadata": {
  "kernelspec": {
   "display_name": "Python 3 (ipykernel)",
   "language": "python",
   "name": "python3"
  },
  "language_info": {
   "codemirror_mode": {
    "name": "ipython",
    "version": 3
   },
   "file_extension": ".py",
   "mimetype": "text/x-python",
   "name": "python",
   "nbconvert_exporter": "python",
   "pygments_lexer": "ipython3",
   "version": "3.8.3"
  }
 },
 "nbformat": 4,
 "nbformat_minor": 2
}
