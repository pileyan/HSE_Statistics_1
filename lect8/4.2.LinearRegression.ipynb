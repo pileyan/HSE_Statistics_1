{
 "cells": [
  {
   "cell_type": "markdown",
   "metadata": {},
   "source": [
    "## Линейная регрессия"
   ]
  },
  {
   "cell_type": "markdown",
   "metadata": {},
   "source": [
    "Давайте посмотрим, как строить линейную регрессию и анализировать ее качество."
   ]
  },
  {
   "cell_type": "code",
   "execution_count": null,
   "metadata": {},
   "outputs": [],
   "source": [
    "# Как обычно, начнем с импорта стандартных библиотек\n",
    "import numpy as np\n",
    "import pandas as pd\n",
    "from scipy import stats\n",
    "import matplotlib.pyplot as plt\n",
    "from statsmodels.graphics.gofplots import qqplot \n",
    "%matplotlib inline"
   ]
  },
  {
   "cell_type": "code",
   "execution_count": null,
   "metadata": {},
   "outputs": [],
   "source": [
    "# и библиотек, которые понадобятся для построения ленейной регрессии\n",
    "import statsmodels.formula.api as smf\n",
    "import statsmodels.stats.api as sms\n",
    "from statsmodels.graphics.regressionplots import plot_leverage_resid2"
   ]
  },
  {
   "cell_type": "markdown",
   "metadata": {},
   "source": [
    "**Задача.** В файле **beauty.csv** содержаться следующие данные о $n=1260$ опрошенных: \n",
    "\n",
    "- **wage** — заработная плата (долларов в час);\n",
    "- **exper** —  опыт работы (лет);\n",
    "- **union** — членство в профсоюзе (да/нет);\n",
    "- **goodhlth** — состояние здоровья (хорошее/плохое);\n",
    "- **black** — цвет кожи (белый/чёрный);\n",
    "- **female** — пол (женский/мужской);\n",
    "- **married** — семейное положение (в браке/не в браке);\n",
    "- **service** — занятость в сфере обслуживания (да/нет);\n",
    "- **educ** — образование (лет);\n",
    "- **looks** — внешняя привлекательность (в баллах от 1 до 5).\n",
    "  \n",
    "\n",
    "Требуется оценить влияние внешней привлекательности на уровень заработной планы с учётом всех остальных факторов."
   ]
  },
  {
   "cell_type": "code",
   "execution_count": null,
   "metadata": {},
   "outputs": [],
   "source": [
    "# импортируем данные\n",
    "\n",
    "data = pd.read_csv(\"data/beauty.csv\", sep=\";\", index_col=False) "
   ]
  },
  {
   "cell_type": "markdown",
   "metadata": {},
   "source": [
    "### Предварительный анализ данных"
   ]
  },
  {
   "cell_type": "code",
   "execution_count": null,
   "metadata": {},
   "outputs": [],
   "source": [
    "# сначала посмотрим на данные\n",
    "\n",
    "data.head()"
   ]
  },
  {
   "cell_type": "code",
   "execution_count": null,
   "metadata": {},
   "outputs": [],
   "source": [
    "# для количественных признаков выведем матрицу диаграмм рассеяния\n",
    "\n",
    "pd.plotting.scatter_matrix(data[['wage', 'exper', 'educ', 'looks']], figsize=(18, 18), alpha=0.7)\n",
    "plt.show()"
   ]
  },
  {
   "cell_type": "code",
   "execution_count": null,
   "metadata": {},
   "outputs": [],
   "source": [
    "# а для бинарных признаков просто оценим сбалансированность\n",
    "\n",
    "print(data.union.value_counts())\n",
    "print(data.goodhlth.value_counts())\n",
    "print(data.black.value_counts())\n",
    "print(data.female.value_counts())\n",
    "print(data.married.value_counts())\n",
    "print(data.service.value_counts())"
   ]
  },
  {
   "cell_type": "markdown",
   "metadata": {},
   "source": [
    "### Предварительная обработка данных"
   ]
  },
  {
   "cell_type": "markdown",
   "metadata": {},
   "source": [
    "Еще раз посмотрим на целевой признак — уровень заработной платы. "
   ]
  },
  {
   "cell_type": "code",
   "execution_count": null,
   "metadata": {},
   "outputs": [],
   "source": [
    "data['wage'].hist(figsize=(10,7), grid=False)\n",
    "plt.show()"
   ]
  },
  {
   "cell_type": "markdown",
   "metadata": {},
   "source": [
    "Один человек в выборке получает больше $70\\$$ в час, остальные — меньше $50\\$$ в час. Это очевидный выброс. Такое наблюдение лучше удалить из выборки, так как иначе регрессия \"подстроится\" под это наблюдение и будет хуже работать на \"типичных\" данных. "
   ]
  },
  {
   "cell_type": "code",
   "execution_count": null,
   "metadata": {},
   "outputs": [],
   "source": [
    "data[data['wage'] > 70]"
   ]
  },
  {
   "cell_type": "code",
   "execution_count": null,
   "metadata": {},
   "outputs": [],
   "source": [
    "data = data[data['wage'] < 70]"
   ]
  },
  {
   "cell_type": "markdown",
   "metadata": {},
   "source": [
    "Посмотрим еще на признак, которых характеризует привлекательность опрошенных. "
   ]
  },
  {
   "cell_type": "code",
   "execution_count": null,
   "metadata": {},
   "outputs": [],
   "source": [
    "data['looks'].hist(figsize=(7,4), grid=False, bins = 5)\n",
    "plt.show()"
   ]
  },
  {
   "cell_type": "code",
   "execution_count": null,
   "metadata": {},
   "outputs": [],
   "source": [
    "print(data['looks'].value_counts())"
   ]
  },
  {
   "cell_type": "markdown",
   "metadata": {},
   "source": [
    "Видим, что незначительная часть опрошенных получили 1 или 5 баллов за привлекательность. И при этом много опрошенных оказались \"средне\" привлекательными — получили 3 балла. Так как нам нужно понять, влияет ли привлекательность на уровень заработной платы, заменим признак looks на два бинарных: привлекательность ниже среднего (1 или 2 балла) и  привлекательность выше среднего (4 или 5 баллов)."
   ]
  },
  {
   "cell_type": "code",
   "execution_count": null,
   "metadata": {},
   "outputs": [],
   "source": [
    "data['belowavg'] = data['looks'].apply(lambda x: 1 if x < 3 else 0)\n",
    "data['aboveavg'] = data['looks'].apply(lambda x: 1 if x > 3 else 0)\n",
    "data.drop('looks', axis=1, inplace=True)"
   ]
  },
  {
   "cell_type": "code",
   "execution_count": null,
   "metadata": {},
   "outputs": [],
   "source": [
    "data.head()"
   ]
  },
  {
   "cell_type": "markdown",
   "metadata": {},
   "source": [
    "### Построение и анализ регрессии"
   ]
  },
  {
   "cell_type": "code",
   "execution_count": null,
   "metadata": {},
   "outputs": [],
   "source": [
    "m1 = smf.ols('wage ~ exper + union + goodhlth + black + female + married + service + educ + belowavg + aboveavg', data=data)\n",
    "m1fitted = m1.fit()\n",
    "\n",
    "print(m1fitted.summary())"
   ]
  },
  {
   "cell_type": "markdown",
   "metadata": {},
   "source": [
    "Перед тем, как интерпретировать полученные результаты, посмотрим на распределение остатков и визуально сравним его с нормальным."
   ]
  },
  {
   "cell_type": "code",
   "execution_count": null,
   "metadata": {},
   "outputs": [],
   "source": [
    "fig, (ax1, ax2) = plt.subplots(ncols=2,figsize=(16,4)) \n",
    "\n",
    "m1fitted.resid.hist(ax=ax1, grid=False)\n",
    "qqplot(m1fitted.resid, line='r',ax=ax2)\n",
    "\n",
    "plt.show()"
   ]
  },
  {
   "cell_type": "markdown",
   "metadata": {},
   "source": [
    "Распределение остатков имеет тяжелый правый хвост (как, кстати, и распределение заработной платы — нашего отклика). "
   ]
  },
  {
   "cell_type": "markdown",
   "metadata": {},
   "source": [
    "### Преобразование признаков"
   ]
  },
  {
   "cell_type": "markdown",
   "metadata": {},
   "source": [
    "В ситуациях, когда признаки имеют тяжелые хвосты или обладают какими-то другими нежелательными свойствами, часто помогают различные преобразования этих признаков. Давайте, в качестве примера, перейдем от регрессии исходного отклика к регрессии его логарифма."
   ]
  },
  {
   "cell_type": "code",
   "execution_count": null,
   "metadata": {},
   "outputs": [],
   "source": [
    "fig, (ax1, ax2) = plt.subplots(ncols=2,figsize=(16,4)) \n",
    "\n",
    "data['wage'].plot.hist(ax=ax1, grid=False)\n",
    "ax1.set_xlabel(\"Wage\")\n",
    "\n",
    "np.log(data['wage']).plot.hist(ax=ax2, grid=False)\n",
    "ax2.set_xlabel(\"Log(Wage)\")\n",
    "\n",
    "plt.show()"
   ]
  },
  {
   "cell_type": "code",
   "execution_count": null,
   "metadata": {},
   "outputs": [],
   "source": [
    "m2 = smf.ols('np.log(wage) ~ exper + union + goodhlth + black + female + married + service + educ + belowavg + aboveavg', data=data)\n",
    "m2fitted = m2.fit()\n",
    "\n",
    "print(m2fitted.summary())"
   ]
  },
  {
   "cell_type": "markdown",
   "metadata": {},
   "source": [
    "Снова посмотрим на остатки."
   ]
  },
  {
   "cell_type": "code",
   "execution_count": null,
   "metadata": {},
   "outputs": [],
   "source": [
    "fig, (ax1, ax2) = plt.subplots(ncols=2,figsize=(16,4)) \n",
    "\n",
    "m2fitted.resid.hist(ax=ax1, grid=False)\n",
    "qqplot(m2fitted.resid, line='r',ax=ax2)\n",
    "\n",
    "plt.show()"
   ]
  },
  {
   "cell_type": "markdown",
   "metadata": {},
   "source": [
    "Ситуация с остатками стала значительно лучше: коэффициент детерминации увеличился, а распределение остатков стало больше напоминать нормальное. Посмотрим на зависимость остатков от непрерывных признаков."
   ]
  },
  {
   "cell_type": "code",
   "execution_count": null,
   "metadata": {},
   "outputs": [],
   "source": [
    "fig, (ax1, ax2) = plt.subplots(ncols=2, figsize=(16,4)) \n",
    "\n",
    "ax1.scatter(data['educ'],m2fitted.resid)\n",
    "ax1.set_xlabel('Education')\n",
    "ax1.set_ylabel('Residuals')\n",
    "\n",
    "ax2.scatter(data['exper'],m2fitted.resid)\n",
    "ax2.set_xlabel('Experience')\n",
    "ax2.set_ylabel('Residuals')\n",
    "\n",
    "plt.show()"
   ]
  },
  {
   "cell_type": "markdown",
   "metadata": {},
   "source": [
    "По второму графику может показаться, что остатки расположены несимметрично относительно нуля. Так может произойти, например, если зависимость отклика от отпыта работы не является линейной. Посмотрим на эту зависимость повнимательнее. "
   ]
  },
  {
   "cell_type": "code",
   "execution_count": null,
   "metadata": {},
   "outputs": [],
   "source": [
    "plt.figure(figsize=(8,5))\n",
    "\n",
    "plt.scatter(data['exper'],np.log(data['wage']))\n",
    "plt.xlabel('Experience')\n",
    "plt.ylabel('Log(Wage)')\n",
    "\n",
    "plt.show()"
   ]
  },
  {
   "cell_type": "markdown",
   "metadata": {},
   "source": [
    "Действительно, эта зависимость не похожа на линейную. Мы видим, что сначала значения отклика увеличиваются при увеличении опыта работы, но затем увеличение опыта работы перестает влиять на отклик. Может показаться, что зависимость больше напоминает квадратный корень или параболу (малой кривизны). Попробуем добавить к признакам квадратный корень опыта работы, чтобы учесть этот эффект."
   ]
  },
  {
   "cell_type": "markdown",
   "metadata": {},
   "source": [
    "### Добавление новых признаков"
   ]
  },
  {
   "cell_type": "code",
   "execution_count": null,
   "metadata": {},
   "outputs": [],
   "source": [
    "m3 = smf.ols('np.log(wage) ~ exper + np.sqrt(exper) + union + goodhlth + black + female + married + service + educ + belowavg + aboveavg', data=data)\n",
    "m3fitted = m3.fit()\n",
    "\n",
    "print(m3fitted.summary())"
   ]
  },
  {
   "cell_type": "markdown",
   "metadata": {},
   "source": [
    "Посмотрим на остатки и зависимость остатков от непрерывных признаков."
   ]
  },
  {
   "cell_type": "code",
   "execution_count": null,
   "metadata": {},
   "outputs": [],
   "source": [
    "fig, (ax1, ax2) = plt.subplots(ncols=2, figsize=(15,4)) \n",
    "\n",
    "m3fitted.resid.hist(ax=ax1, grid=False)\n",
    "qqplot(m3fitted.resid, line='r',ax=ax2)\n",
    "\n",
    "plt.show()"
   ]
  },
  {
   "cell_type": "code",
   "execution_count": null,
   "metadata": {},
   "outputs": [],
   "source": [
    "fig, (ax1, ax2, ax3) = plt.subplots(ncols=3, figsize=(16,4)) \n",
    "\n",
    "ax1.scatter(data['educ'],m3fitted.resid)\n",
    "ax1.set_xlabel('Education')\n",
    "ax1.set_ylabel('Residuals')\n",
    "\n",
    "ax2.scatter(data['exper'],m3fitted.resid)\n",
    "ax2.set_xlabel('Experience')\n",
    "ax2.set_ylabel('Residuals')\n",
    "\n",
    "ax3.scatter(np.sqrt(data['exper']),m3fitted.resid)\n",
    "ax3.set_xlabel('Sqrt(Experience)')\n",
    "ax3.set_ylabel('Residuals')\n",
    "\n",
    "plt.show()"
   ]
  },
  {
   "cell_type": "markdown",
   "metadata": {},
   "source": [
    "Заметим, что после добавления нового признака — квадратного корня из опыта работы — ситуация улучшилась: распределение остатков стало более гомоскедастичным и симметричным относительно нуля. Хоть и коэффициент детерминации $R^2$ сильно не изменился, оставим этот признак в нашей модели, так как симметричность и гомоскедастичность ошибок улучшит точность доверительных интервалов для коэффициентов регрессии и проверку гипотез о их значениях (доверительные интервалы и критерии строятся в предположении о нормальности ошибок)."
   ]
  },
  {
   "cell_type": "markdown",
   "metadata": {},
   "source": [
    "### Удаление ненужных признаков"
   ]
  },
  {
   "cell_type": "markdown",
   "metadata": {},
   "source": [
    "В модели m3 есть признаки, которые слабо влияют на отклик: состояние здоровья, цвет кожи, семейное положение и Intercept (столбец единиц). Удалим их. Признак aboveavg (привлекательность выше среднего) тоже незначим, но удалять его не будем, так как в данной задаче нам нужно исследовать его влияние на отклик."
   ]
  },
  {
   "cell_type": "code",
   "execution_count": null,
   "metadata": {},
   "outputs": [],
   "source": [
    "m4 = smf.ols('np.log(wage) ~ exper + np.sqrt(exper) + union + female + service + educ + belowavg + aboveavg -1', data=data)\n",
    "m4fitted = m4.fit()\n",
    "\n",
    "print(m4fitted.summary())"
   ]
  },
  {
   "cell_type": "markdown",
   "metadata": {},
   "source": [
    "После удаления четырех признаков коэффициент детерминации $R^2$ значимо изменился, теперь его значение равно $0.933$. Но это ничего не значит, так как без признака Intercept он считается по другой формуле: https://www.statsmodels.org/stable/generated/statsmodels.regression.linear_model.RegressionResults.rsquared.html#statsmodels.regression.linear_model.RegressionResults.rsquared "
   ]
  },
  {
   "cell_type": "code",
   "execution_count": null,
   "metadata": {},
   "outputs": [],
   "source": [
    "print(1 - m4fitted.ssr/m4fitted.uncentered_tss)\n",
    "print(1 - m4fitted.ssr/m4fitted.centered_tss) "
   ]
  },
  {
   "cell_type": "markdown",
   "metadata": {},
   "source": [
    "Тем не менее, коэффициент $R^2$, посчитанный по предыдущей формуле, почти не изменился. Это означает, что модель несильно пострадала от удаления признаков."
   ]
  },
  {
   "cell_type": "code",
   "execution_count": null,
   "metadata": {},
   "outputs": [],
   "source": [
    "fig, (ax1, ax2) = plt.subplots(ncols=2,figsize=(15,4)) \n",
    "\n",
    "m4fitted.resid.hist(ax=ax1, grid=False)\n",
    "qqplot(m4fitted.resid, line='r',ax=ax2)\n",
    "\n",
    "plt.show()"
   ]
  },
  {
   "cell_type": "markdown",
   "metadata": {},
   "source": [
    "### Критерий Фишера"
   ]
  },
  {
   "cell_type": "markdown",
   "metadata": {},
   "source": [
    "Посмотрим с помощью критерия Фишера, не стала ли модель m4 хуже m3 после удаления четырех признаков."
   ]
  },
  {
   "cell_type": "code",
   "execution_count": null,
   "metadata": {},
   "outputs": [],
   "source": [
    "# первый способ\n",
    "\n",
    "print(\"F=%f, pvalue=%f, k1=%f\" % m3fitted.compare_f_test(m4fitted))"
   ]
  },
  {
   "cell_type": "code",
   "execution_count": null,
   "metadata": {},
   "outputs": [],
   "source": [
    "# второй способ способ\n",
    "\n",
    "m3fitted.f_test(\"Intercept = goodhlth = black = married = 0\")"
   ]
  },
  {
   "cell_type": "markdown",
   "metadata": {},
   "source": [
    "Видим, что гипотеза \"Intercept = goodhlth = black = married = 0\" не отвергается, что окончательно убеждает нас в том, что модель m4 лучше, чем m3. (Конечно, этот критерий тоже требует нормальность ошибок, которой у нас нет, тем не менее мы пользуемся принципом: \"идеальные условия никогда не выполняются, но модели, которые мы строим и которые требуют выполнения этих идеальных условий, часто бывают полезными\".)"
   ]
  },
  {
   "cell_type": "markdown",
   "metadata": {},
   "source": [
    "### Еще одна визуальная проверка"
   ]
  },
  {
   "cell_type": "markdown",
   "metadata": {},
   "source": [
    "Еще один способ визуально проверить регрессионную модель, является следующий график. На нем отображена зависимость \"влиятельности\" каждого наблюдения от квадрата соответствующего остатка (квадрата ошибки предсказания модели). Подробнее о том, как считается \"влиятельность\" можно посмотреть здесь: https://en.wikipedia.org/wiki/Leverage_(statistics)"
   ]
  },
  {
   "cell_type": "code",
   "execution_count": null,
   "metadata": {},
   "outputs": [],
   "source": [
    "plt.rc(\"figure\", figsize=(16,8))\n",
    "plot_leverage_resid2(m4fitted)\n",
    "plt.show()"
   ]
  },
  {
   "cell_type": "code",
   "execution_count": null,
   "metadata": {},
   "outputs": [],
   "source": [
    "data.loc[[269]]"
   ]
  },
  {
   "cell_type": "code",
   "execution_count": null,
   "metadata": {},
   "outputs": [],
   "source": [
    "data.loc[[878]]"
   ]
  },
  {
   "cell_type": "markdown",
   "metadata": {},
   "source": [
    "В целом, на этом графике все хорошо — мы не видим очевидных выбросов. Можно, конечно, попытаться удалить точки, на которых наша модель сильно ошибается (примеры выше), но не совсем очевидно, поэтому это сделает нашу модель лучше."
   ]
  },
  {
   "cell_type": "markdown",
   "metadata": {},
   "source": [
    "### Вывод"
   ]
  },
  {
   "cell_type": "markdown",
   "metadata": {},
   "source": [
    "Итоговая модель m4 достаточно хороша, она объясняет примерно $40\\%$ вариации отклика — логарифма заработной платы. \n",
    "Она выглядит следующим образом: \n",
    "\n",
    "$$\n",
    "\\log(\\text{wage}) \\approx \n",
    "-0.0244 \\cdot \\text{exper} + 0.3185  \\cdot \\sqrt{\\text{exper}}\n",
    "+0.1719 \\cdot \\text{union} -0.4013 \\cdot \\text{female}\n",
    "-0.1616 \\cdot \\text{service} +0.0777 \\cdot \\text{educ}\\\\\n",
    "-0.1210 \\cdot \\text{belowavg}  -0.0021 \\cdot \\text{aboveavg}.\n",
    "$$\n",
    "  \n",
    "Это можно записать в следующем виде: \n",
    "\n",
    "$$\n",
    "\\text{wage} \\approx  e^{-0.0244 \\text{exper}} \\cdot e^{0.3185 \\sqrt{\\text{exper}}}\n",
    "\\cdot e^{+0.1719 \\text{union}} \\cdot e^{-0.4013 \\text{female}}\n",
    "\\cdot e^{-0.1616 \\text{service}} \\cdot e^{0.0777 \\text{educ}}\n",
    "\\cdot e^{-0.1210 \\text{belowavg}} \\cdot e^{ -0.0021\\text{aboveavg}}.\n",
    "$$\n",
    "\n",
    "\n",
    "При интересующих нас признаках привлекательности стоят коэффициенты: -0.1210 (при belowavg) и -0.0021 (при aboveavg). Поскольку регрессия делалась на логарифм заработной платы, интерпретировать их можно как прирост в процентах ($e^{\\beta} \\approx 1 + \\beta$). То есть представители генеральной совокупности, из которой взята выборка, получают в среднем:\n",
    "\n",
    "* на 12% меньше, если их привлекательность ниже среднего;\n",
    "* столько же, если их привлекательность выше среднего."
   ]
  },
  {
   "cell_type": "markdown",
   "metadata": {},
   "source": [
    "### П.С. Предсказание"
   ]
  },
  {
   "cell_type": "markdown",
   "metadata": {},
   "source": [
    "Как мы уже говорили, регрессионные модели часто стоятся для предсказания отклика на новых признаках. "
   ]
  },
  {
   "cell_type": "code",
   "execution_count": null,
   "metadata": {},
   "outputs": [],
   "source": [
    "data.head(1)"
   ]
  },
  {
   "cell_type": "markdown",
   "metadata": {},
   "source": [
    "Построим предсказание для наблюдения выше в случае, если бы у этого человека было бы 10 лет образования, но 34 года опыта работы."
   ]
  },
  {
   "cell_type": "code",
   "execution_count": null,
   "metadata": {},
   "outputs": [],
   "source": [
    "point = data.iloc[0,1:]\n",
    "point['exper'] = 34\n",
    "point['educ'] = 10\n",
    "point"
   ]
  },
  {
   "cell_type": "code",
   "execution_count": null,
   "metadata": {},
   "outputs": [],
   "source": [
    "# так как в модели откликом являлась не заработная плата, а ее логарифм, \n",
    "# то функция predict вернет предсказанное значение для логарифма\n",
    "\n",
    "logwage_predicted = m4fitted.predict(point)"
   ]
  },
  {
   "cell_type": "code",
   "execution_count": null,
   "metadata": {},
   "outputs": [],
   "source": [
    "# а так получим предсказание для самой заработной платы\n",
    "\n",
    "wage_predicted = np.exp(logwage_predicted)"
   ]
  },
  {
   "cell_type": "code",
   "execution_count": null,
   "metadata": {},
   "outputs": [],
   "source": [
    "print(\"Заработная плата будет равна: \", wage_predicted.values[0])"
   ]
  }
 ],
 "metadata": {
  "kernelspec": {
   "display_name": "Python 3 (ipykernel)",
   "language": "python",
   "name": "python3"
  },
  "language_info": {
   "codemirror_mode": {
    "name": "ipython",
    "version": 3
   },
   "file_extension": ".py",
   "mimetype": "text/x-python",
   "name": "python",
   "nbconvert_exporter": "python",
   "pygments_lexer": "ipython3",
   "version": "3.8.3"
  }
 },
 "nbformat": 4,
 "nbformat_minor": 2
}
