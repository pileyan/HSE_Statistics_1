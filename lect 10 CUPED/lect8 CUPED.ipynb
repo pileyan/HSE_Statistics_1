{
 "cells": [
  {
   "cell_type": "markdown",
   "metadata": {},
   "source": [
    "# Методы понижения дисперсии: Стратификация и CUPED\n",
    "\n",
    "*Подготовил Ян Пиле*"
   ]
  },
  {
   "cell_type": "markdown",
   "metadata": {},
   "source": [
    "К настоящему моменту мы разобрали довольно много различных статистических тестов (особенно на прошлой лекции). Давайте вспомним чего ради мы все это затеяли.\n",
    "\n",
    "Все методы, на самом деле, вам нужны, чтобы отвечать на вопрос \"является ли отличие в двух измеренных показателях статистически значимым?\", то есть \"насколько вероятно было бы получить такой или еще более экстремальный результат случайно\". С точки зрения АБ-тестов это можно переформулировать как \"повлияло ли мое изменение на целевые метрики\". Мы увидели, что различные статистические тесты обладают разной чувствительностью и договорились из подходящих методов выбирать тот, у которого чувствительность выше. На самом деле, нетрудно вспомнить, что качество статистической оценки зависит от дисперсии измеряемого показателя в группах. Вспомним, например, построение доверительных интервалов с помощью ЦПТ:\n",
    "\n",
    "$$P(\\overline{X_n}-z_{1-\\frac{\\alpha}{2}}\\dfrac{\\sigma}{\\sqrt{n}} \\le \\mu \\le \\overline{X_n}+z_{1-\\frac{\\alpha}{2}}\\dfrac{\\sigma}{\\sqrt{n}}) = 1-\\alpha$$"
   ]
  },
  {
   "cell_type": "markdown",
   "metadata": {},
   "source": [
    "Тут мы говорили, что на выборке бОльшего размера доверительный интервал становится уже (в самом деле, там же корень из длины выборки в знаменателе). Это означает, что мы будем точнее оценивать нашу величину, если в выборке, по которой производится оценка, будет больше наблюдений. В реальной жизни мы почти никогда не можем неограниченно увеличивать *n*. Представьте, что вы проводите эксперимент, связанный с тем, как ваши пользователи кликают в рекламные баннеры. Представим, что в среднем на ваш сайт заходит 5000 уникальных пользователей в день. Вы подсчитали минимальный эффект, который вы хотите детектировать с помощью АБ-теста и посмотрели, на каком размере выборки вам это удастся: оказалось, что необходимо 150000 пользователей. Все? вам надо проводить свой эксперимент на всех пользователях не менее двух месяцев (если вы всех своих пользователей поделите пополам)?"
   ]
  },
  {
   "cell_type": "markdown",
   "metadata": {},
   "source": [
    "Кроме того, чем меньше эффект, тем сложнее его будет обнаруживать. Представьте, например, что ваш продукт - ecom-сайт со средней конверсией около 2%. Если воспользоваться [калькулятором](https://bookingcom.github.io/powercalculator/) АБ-тестов от Booking, видно, что для обнаружения относительного изменения конверсии на 1% потребуется эксперимент с более чем 12 миллионами пользователей (с методологией расчета лучше ознакомиться непосредственно на GitHub'e, но порядок величин уж точно похож на правду. \n",
    "\n",
    "Проблема обнаружения небольших эффектов в эксперименте связана с низкой статистической мощностью. При низкой мощности статистический тест, скорее всего, сообщат о незначимой разнице между тестом и контролем, даже если изменение имеет быть. Мощность недостаточна, если эффект мал по сравнению с дисперсией измеряемого показателя для вашего размера выборки."
   ]
  },
  {
   "cell_type": "markdown",
   "metadata": {},
   "source": [
    "На самом деле, вместо того, чтобы наращивать выборку, мы могли бы начать измерять метрику как-то по-другому, чтобы понизить ее дисперсию. Давайте разберемся, как это сделать."
   ]
  },
  {
   "cell_type": "markdown",
   "metadata": {},
   "source": [
    "## Откуда дисперсия в экспериментальных данных\n",
    "\n",
    "Дисперсия характеризует разброс данных. Частична она вызвана эффектом, который мы привнесли с помощью эксперимента в измеряемый показатель, а частично - просто поведением метрики самой по себе (дисперсия была и до эксперимента). Давайте попробуем посмотреть, как ее можно \"убавить\".\n",
    "\n"
   ]
  },
  {
   "cell_type": "markdown",
   "metadata": {},
   "source": [
    "## Стратификация\n",
    "\n",
    "Пусть у нас есть некоторая величина $Y$, у которой мы хотим оценить мат.ожидание $E(Y)$. Как бы мы стали это делать по умолчанию? Ну, можно было бы взять *n* независимых измерений жтой величины и потом по выборке посчитать среднее. При этом получиласт бы величина $\\overline{Y}$ с дисперсией примерно $var(\\overline{Y})=\\dfrac{var(Y)}{n}$\n",
    "\n",
    "Представим, что в наших наблюдениях есть явная стратификация (например по возрасту: младший, средний и старший) и мы явным образом можем семплировать наших пользователей из каждого возраста (удостовериться, что в эксперименте пропорции страт будут как в генеральной совокупности). Тогда если вероятность того, что пользователь окажется в страте номер $k$ равна $w_k$ и для выборки длины *n* мы хоти достать $w_k*n$ пользователей, можно определить новую величину:\n",
    "\n",
    "$$\\overline{Y}_{stratified} = \\sum_k{w_k \\overline{Y}_k}$$\n",
    "\n",
    "где $\\overline{Y}_k$ - среднее внутри страты номер *k*. Что интересно, такая оценка будет иметь дисперсию НЕ БОЛЬШЕ, чем исходная:\n",
    "\n",
    "$$var(\\overline{Y})=\\sum_k{w_k\\dfrac{\\sigma^2_k}{n}}+\\sum_k{w_k\\dfrac{(\\mu_k - \\mu)^2}{n}} \\ge \\sum_k{w_k\\dfrac{\\sigma^2_k}{n}} = var(\\overline{Y}_{stratified})$$"
   ]
  },
  {
   "cell_type": "markdown",
   "metadata": {},
   "source": [
    "На самом деле, здесь мы УЖЕ использовали предэкспериментальные данные. Мы \"объяснили\" часть дисперсии с помощью категориальной переменной, которая маркировала наши страты. Посмотрим на прмер."
   ]
  },
  {
   "cell_type": "markdown",
   "metadata": {},
   "source": [
    "##  Пример\n",
    "\n",
    "Пусть есть некий показатель, распределенный нормально в трех различных стратах:\n",
    "\n",
    "* В первой - со средним 30 и дисперсией 200 (размер страты 5000)\n",
    "* Во второй - со средним 20 и дисперсией 20 (размер страты 50000)\n",
    "* В третьей - со средним 40 и дисперсией 5 (размер страты 5000)"
   ]
  },
  {
   "cell_type": "code",
   "execution_count": 38,
   "metadata": {},
   "outputs": [],
   "source": [
    "import numpy as np\n",
    "\n",
    "strata_1 = np.random.normal(30, 200, 5000)\n",
    "strata_2 = np.random.normal(20, 20, 50000)\n",
    "strata_3  = np.random.normal(43, 5, 5000)\n",
    "total_data = np.concatenate((strata_1, strata_2, strata_3))"
   ]
  },
  {
   "cell_type": "markdown",
   "metadata": {},
   "source": [
    "Давайте извлечем из нашей генеральной совокупности 200 выборок по 6000 наблюдений каждая в двух вариантах:\n",
    "\n",
    "* Стратифицированном\n",
    "* Нестратифицированном\n",
    "\n",
    "На каждой из выборок посчитаем дисперсию и среднее и усредним эти показатели, а потом посмотрим, где дисперсия оказалась больше и насколько."
   ]
  },
  {
   "cell_type": "code",
   "execution_count": 39,
   "metadata": {},
   "outputs": [
    {
     "data": {
      "text/plain": [
       "0.08333333333333333"
      ]
     },
     "execution_count": 39,
     "metadata": {},
     "output_type": "execute_result"
    }
   ],
   "source": [
    "5000/(50000+5000+5000)"
   ]
  },
  {
   "cell_type": "code",
   "execution_count": 40,
   "metadata": {},
   "outputs": [],
   "source": [
    "sample = np.random.choice(total_data, n_samples, False)"
   ]
  },
  {
   "cell_type": "code",
   "execution_count": 41,
   "metadata": {},
   "outputs": [
    {
     "data": {
      "text/plain": [
       "(60000,)"
      ]
     },
     "execution_count": 41,
     "metadata": {},
     "output_type": "execute_result"
    }
   ],
   "source": [
    "total_data.shape"
   ]
  },
  {
   "cell_type": "code",
   "execution_count": null,
   "metadata": {},
   "outputs": [],
   "source": []
  },
  {
   "cell_type": "code",
   "execution_count": 42,
   "metadata": {},
   "outputs": [],
   "source": [
    "standard_mean = []\n",
    "stratified_mean = []\n",
    "\n",
    "n_samples = 200\n",
    "sample_size = 1000\n",
    "\n",
    "\n",
    "for i in range(n_samples):\n",
    "    res = []\n",
    "    sample = np.random.choice(total_data, n_samples, False)\n",
    "    standard_mean += [np.mean(sample)]\n",
    "    \n",
    "    for _ in range(sample_size):\n",
    "        random = np.random.random()\n",
    "        if random  < 5000/(50000+5000+5000):\n",
    "            res.append(np.random.choice(strata_1,replace = False))\n",
    "        elif random  > 5000/(50000+5000+5000) and random < (5000+50000)/(50000+5000+5000):\n",
    "            res.append(np.random.choice(strata_2,replace = False))\n",
    "        else:\n",
    "            res.append(np.random.choice(strata_3,replace = False))\n",
    "    stratified_mean += [np.mean(res)]"
   ]
  },
  {
   "cell_type": "code",
   "execution_count": 43,
   "metadata": {},
   "outputs": [
    {
     "name": "stdout",
     "output_type": "stream",
     "text": [
      "Среднее 23.14955729519615\n",
      "Стратифицированное среднее 22.77460641238968\n",
      "Дисперсия среднего на стандартных выборках 19.19157391103216\n",
      "Дисперсия среднего на стратифицированных выборках 3.764424070935328\n"
     ]
    }
   ],
   "source": [
    "print('Среднее', np.mean(standard_mean))\n",
    "print('Стратифицированное среднее', np.mean(stratified_mean))\n",
    "\n",
    "print('Дисперсия среднего на стандартных выборках', np.var(standard_mean))\n",
    "print('Дисперсия среднего на стратифицированных выборках', np.var(stratified_mean))"
   ]
  },
  {
   "cell_type": "markdown",
   "metadata": {},
   "source": [
    "Как видите, в данном случае стратификация понизила дисперсию. Попробуйте теоретически оценить, насколько понизится дисперсия показателя, если взять обычную выборку и стратифицированную выборку длины 7000."
   ]
  },
  {
   "cell_type": "markdown",
   "metadata": {},
   "source": [
    "## CUPED\n",
    "\n",
    "also known as **C**ontrolled Experiment **u**sing **P**re-**E**xperimental **D**ata\n",
    "\n",
    "Часть дисперсии, которую могут объяснить данные до эксперимента, не связана с нашим влиянием и, следовательно, может быть из эксперимента удалена. Давайте представим, что мы booking.com и проводим рекламный эксперимент с объектами недвижимости в попытке увеличить количество бронирований в день. Количество бронирований на один объект недвижимости может существенно разниться (например от нуля до тысяч), поэтому дисперсия показателя может оказаться существенной. Часто мы знаем среднее количество бронирований в день до эксперимента., тогда можно сразу проверять, начинают ли объекты получать больше, меньше или столько же бронирований по сравнению со своим средним результатом до эксперимента. Разброс в такой метрике будет существенно меньше.\n"
   ]
  },
  {
   "cell_type": "markdown",
   "metadata": {},
   "source": [
    "Давайте сделаем шаг назад и посмотрим, как нам могут помочь так называемые контрольные переменные (то, с помощью чего мы собрались понижать дисперсию).\n",
    "\n",
    "Представим, что мы измеряем метрику $Y$. Допустим, что помимо нее у нас есть еще одна случайная величина $X$, у которой нам хорошо известно мат.ожидание. Допустим, что мы хотим по выборке считать $\\overline{Y}$. Сконструируем выборку из пар $(Y_i, X_i)$ (например значение метрики в эксперименте, значение метрики до эксперимента) и построим такую величину:\n",
    "\n",
    "$$\\hat Y_{cv} = \\overline Y - \\theta\\overline X +\\theta E(X)$$\n",
    "\n",
    "Здесь $\\theta$ - какое-то число. Нетрудно догадаться, что $\\hat Y_{cv}$ - несмещенная оценка для $E(Y)$, потому что:\n",
    "\n",
    "$$E(\\hat Y_{cv}) = E(\\overline Y) - E(\\theta\\overline X) +E(\\theta E(X)) = E(\\overline Y)$$\n",
    "\n",
    "Тогда:\n",
    "\n",
    "$$var(\\hat Y_{cv}) = var(\\overline Y - \\theta\\overline X) = \\dfrac{1}{n}(var(Y)+\\theta^2var(X)-2\\theta cov(Y,X))$$\n",
    "\n",
    "Это выражение будет минимальным, если выбрать:\n",
    "$$\\theta = \\dfrac{cov(Y,X)}{var{X}}$$\n",
    "\n",
    "Отлично, так и сделаем. При таком выборе наша дисперсия будет равна:\n",
    "\n",
    "$$var(\\hat Y_{cv}) = var(\\overline Y)(1-\\rho^2)$$\n",
    "\n",
    "где $\\rho$- коэффициент корреляции *Y* и *X*. \n",
    "\n",
    "Все это означает, чт если мы найдем такой *X*, что он будет сильно скоррелирован с *Y*, с помощью него мы сможем значительно уменьшить дисперсию."
   ]
  },
  {
   "cell_type": "markdown",
   "metadata": {},
   "source": [
    "<img src = \"https://miro.medium.com/max/1400/1*pGrlReRtxpgzgRT6sBZxTA.png\">"
   ]
  },
  {
   "cell_type": "markdown",
   "metadata": {},
   "source": [
    "## Пример.\n",
    "\n",
    "Представим, что мы - голосовой помощник. Мы выкатили новый диалоговый алгоритм в приложение на платформу iOS и хотим проверить, стали ли наши пользователи в среднем \"болтать\" с приложением больше.Для этого решили измерить количество фраз на пользователя в среднем в неделю.  В группе \"EXP1\" наша новая функциональность есть, а в группе \"ВASE\" ее нет. Также у нас есть данные до эксперимента. Давайте посмотрим, какой мы получим результат и поможет ли нам здесь CUPED."
   ]
  },
  {
   "cell_type": "code",
   "execution_count": 1,
   "metadata": {},
   "outputs": [],
   "source": [
    "import pandas as pd\n",
    "import numpy as np\n",
    "from scipy.stats import ttest_ind\n",
    "from statsmodels.stats.weightstats import *\n",
    "from matplotlib import pyplot"
   ]
  },
  {
   "cell_type": "code",
   "execution_count": 6,
   "metadata": {},
   "outputs": [],
   "source": [
    "df = pd.read_csv('queries_per_user.csv')"
   ]
  },
  {
   "cell_type": "code",
   "execution_count": 17,
   "metadata": {},
   "outputs": [
    {
     "data": {
      "text/html": [
       "<div>\n",
       "<style scoped>\n",
       "    .dataframe tbody tr th:only-of-type {\n",
       "        vertical-align: middle;\n",
       "    }\n",
       "\n",
       "    .dataframe tbody tr th {\n",
       "        vertical-align: top;\n",
       "    }\n",
       "\n",
       "    .dataframe thead th {\n",
       "        text-align: right;\n",
       "    }\n",
       "</style>\n",
       "<table border=\"1\" class=\"dataframe\">\n",
       "  <thead>\n",
       "    <tr style=\"text-align: right;\">\n",
       "      <th></th>\n",
       "      <th>exp_group</th>\n",
       "      <th>device_id</th>\n",
       "      <th>phrases</th>\n",
       "      <th>phrases_before</th>\n",
       "      <th>phrases_cuped</th>\n",
       "    </tr>\n",
       "  </thead>\n",
       "  <tbody>\n",
       "    <tr>\n",
       "      <th>0</th>\n",
       "      <td>BASE</td>\n",
       "      <td>ad68df2359662fc8a99112ecd31838d7646481f315c53c...</td>\n",
       "      <td>9.5</td>\n",
       "      <td>17.0</td>\n",
       "      <td>13.595540</td>\n",
       "    </tr>\n",
       "    <tr>\n",
       "      <th>1</th>\n",
       "      <td>BASE</td>\n",
       "      <td>b61bf9ed4ae252da9a6138f19b32cc16bf0639acff04b3...</td>\n",
       "      <td>7.0</td>\n",
       "      <td>61.5</td>\n",
       "      <td>-13.364643</td>\n",
       "    </tr>\n",
       "    <tr>\n",
       "      <th>2</th>\n",
       "      <td>BASE</td>\n",
       "      <td>0922c55342bd645766027096c655b6f1f69851b5dcfc08...</td>\n",
       "      <td>1.0</td>\n",
       "      <td>21.0</td>\n",
       "      <td>2.896872</td>\n",
       "    </tr>\n",
       "    <tr>\n",
       "      <th>3</th>\n",
       "      <td>BASE</td>\n",
       "      <td>c29ab1227a2afae958fac359d43e688b4bdd9ab69eb8ee...</td>\n",
       "      <td>24.0</td>\n",
       "      <td>124.5</td>\n",
       "      <td>-30.993665</td>\n",
       "    </tr>\n",
       "    <tr>\n",
       "      <th>4</th>\n",
       "      <td>EXP1</td>\n",
       "      <td>b59961af39afcd14b0670dce745dd219dc8b88a25cfba7...</td>\n",
       "      <td>11.0</td>\n",
       "      <td>0.5</td>\n",
       "      <td>24.165046</td>\n",
       "    </tr>\n",
       "    <tr>\n",
       "      <th>...</th>\n",
       "      <td>...</td>\n",
       "      <td>...</td>\n",
       "      <td>...</td>\n",
       "      <td>...</td>\n",
       "      <td>...</td>\n",
       "    </tr>\n",
       "    <tr>\n",
       "      <th>73079</th>\n",
       "      <td>BASE</td>\n",
       "      <td>710490b86f2281e7e89f2546bdcff17a1ce2f69d8e8ee8...</td>\n",
       "      <td>4.0</td>\n",
       "      <td>16.5</td>\n",
       "      <td>8.370373</td>\n",
       "    </tr>\n",
       "    <tr>\n",
       "      <th>73080</th>\n",
       "      <td>BASE</td>\n",
       "      <td>d6f33474c336960bea171fe5f684f74873f6fcab9aca27...</td>\n",
       "      <td>2.0</td>\n",
       "      <td>24.5</td>\n",
       "      <td>1.973037</td>\n",
       "    </tr>\n",
       "    <tr>\n",
       "      <th>73081</th>\n",
       "      <td>BASE</td>\n",
       "      <td>9ebf730e676179e8b6058d0a4d39e300ceed0ffbbc72db...</td>\n",
       "      <td>3.0</td>\n",
       "      <td>0.5</td>\n",
       "      <td>16.165046</td>\n",
       "    </tr>\n",
       "    <tr>\n",
       "      <th>73082</th>\n",
       "      <td>BASE</td>\n",
       "      <td>7a4e50f7d32a2036655a205874eff13ec8dd1f7c27e9e1...</td>\n",
       "      <td>1.0</td>\n",
       "      <td>2.5</td>\n",
       "      <td>13.065712</td>\n",
       "    </tr>\n",
       "    <tr>\n",
       "      <th>73083</th>\n",
       "      <td>BASE</td>\n",
       "      <td>646a0e07bf62281149cf2e5734267b9f386f7fd22e2d22...</td>\n",
       "      <td>29.0</td>\n",
       "      <td>99.5</td>\n",
       "      <td>-12.251990</td>\n",
       "    </tr>\n",
       "  </tbody>\n",
       "</table>\n",
       "<p>73084 rows × 5 columns</p>\n",
       "</div>"
      ],
      "text/plain": [
       "      exp_group                                          device_id  phrases  \\\n",
       "0          BASE  ad68df2359662fc8a99112ecd31838d7646481f315c53c...      9.5   \n",
       "1          BASE  b61bf9ed4ae252da9a6138f19b32cc16bf0639acff04b3...      7.0   \n",
       "2          BASE  0922c55342bd645766027096c655b6f1f69851b5dcfc08...      1.0   \n",
       "3          BASE  c29ab1227a2afae958fac359d43e688b4bdd9ab69eb8ee...     24.0   \n",
       "4          EXP1  b59961af39afcd14b0670dce745dd219dc8b88a25cfba7...     11.0   \n",
       "...         ...                                                ...      ...   \n",
       "73079      BASE  710490b86f2281e7e89f2546bdcff17a1ce2f69d8e8ee8...      4.0   \n",
       "73080      BASE  d6f33474c336960bea171fe5f684f74873f6fcab9aca27...      2.0   \n",
       "73081      BASE  9ebf730e676179e8b6058d0a4d39e300ceed0ffbbc72db...      3.0   \n",
       "73082      BASE  7a4e50f7d32a2036655a205874eff13ec8dd1f7c27e9e1...      1.0   \n",
       "73083      BASE  646a0e07bf62281149cf2e5734267b9f386f7fd22e2d22...     29.0   \n",
       "\n",
       "       phrases_before  phrases_cuped  \n",
       "0                17.0      13.595540  \n",
       "1                61.5     -13.364643  \n",
       "2                21.0       2.896872  \n",
       "3               124.5     -30.993665  \n",
       "4                 0.5      24.165046  \n",
       "...               ...            ...  \n",
       "73079            16.5       8.370373  \n",
       "73080            24.5       1.973037  \n",
       "73081             0.5      16.165046  \n",
       "73082             2.5      13.065712  \n",
       "73083            99.5     -12.251990  \n",
       "\n",
       "[73084 rows x 5 columns]"
      ]
     },
     "execution_count": 17,
     "metadata": {},
     "output_type": "execute_result"
    }
   ],
   "source": [
    "df"
   ]
  },
  {
   "cell_type": "markdown",
   "metadata": {},
   "source": [
    "Глянем, нормальное ли у нас распределение"
   ]
  },
  {
   "cell_type": "code",
   "execution_count": 8,
   "metadata": {},
   "outputs": [
    {
     "data": {
      "image/png": "[encoded data removed]",
      "text/plain": [
       "<Figure size 640x480 with 1 Axes>"
      ]
     },
     "metadata": {},
     "output_type": "display_data"
    }
   ],
   "source": [
    "f = stats.probplot(df[df.exp_group == 'EXP1'].phrases, dist=\"norm\", plot=pyplot)"
   ]
  },
  {
   "cell_type": "markdown",
   "metadata": {},
   "source": [
    "Не особо. Ну и ладно, мы же про нормальность при выводе CUPED нигде не говорили."
   ]
  },
  {
   "cell_type": "code",
   "execution_count": 9,
   "metadata": {},
   "outputs": [],
   "source": [
    "metric = df.phrases.values\n",
    "covariate = df.phrases_before.values\n",
    "\n",
    "cov = np.mean((metric*covariate)) - np.mean(covariate)*np.mean(metric) \n"
   ]
  },
  {
   "cell_type": "code",
   "execution_count": 10,
   "metadata": {},
   "outputs": [
    {
     "data": {
      "text/plain": [
       "2303.7802148867395"
      ]
     },
     "execution_count": 10,
     "metadata": {},
     "output_type": "execute_result"
    }
   ],
   "source": [
    "cov"
   ]
  },
  {
   "cell_type": "code",
   "execution_count": 11,
   "metadata": {},
   "outputs": [],
   "source": [
    "theta = cov / np.var(covariate)\n",
    "mean_cov = np.mean(covariate)\n",
    "df['phrases_cuped'] = df.phrases - (df.phrases_before - mean_cov) * theta"
   ]
  },
  {
   "cell_type": "markdown",
   "metadata": {},
   "source": [
    "Теперь считаем дисперсию :)"
   ]
  },
  {
   "cell_type": "code",
   "execution_count": 12,
   "metadata": {},
   "outputs": [],
   "source": [
    "cuped_exp_2  = df.phrases_cuped[df.exp_group=='EXP1']\n",
    "exp_2 = df.phrases[df.exp_group=='EXP1']"
   ]
  },
  {
   "cell_type": "code",
   "execution_count": 13,
   "metadata": {},
   "outputs": [
    {
     "name": "stdout",
     "output_type": "stream",
     "text": [
      "Среднее CUPED-метрики 17.17973577188483\n",
      "Среднее 17.10536266758336\n",
      "\n",
      "Дисперсия CUPED-метрики 1698.399635602106\n",
      "Дисперсия 2638.3768155182743\n",
      "\n",
      "Понизили дисперсию на 35.6 %\n"
     ]
    }
   ],
   "source": [
    "print('Среднее CUPED-метрики', np.mean(cuped_exp_2))\n",
    "print('Среднее',np.mean(exp_2))\n",
    "print('')\n",
    "print('Дисперсия CUPED-метрики', np.var(cuped_exp_2))\n",
    "print('Дисперсия', np.var(exp_2))\n",
    "print('')\n",
    "print('Понизили дисперсию на', round((1 - np.var(cuped_exp_2)/np.var(exp_2))*100,1),'%')"
   ]
  },
  {
   "cell_type": "markdown",
   "metadata": {},
   "source": [
    "А теперь важный вопрос: результат теста-то какой? Ниже привел данные по обеим группам."
   ]
  },
  {
   "cell_type": "code",
   "execution_count": 14,
   "metadata": {},
   "outputs": [
    {
     "data": {
      "text/html": [
       "<div>\n",
       "<style scoped>\n",
       "    .dataframe tbody tr th:only-of-type {\n",
       "        vertical-align: middle;\n",
       "    }\n",
       "\n",
       "    .dataframe tbody tr th {\n",
       "        vertical-align: top;\n",
       "    }\n",
       "\n",
       "    .dataframe thead tr th {\n",
       "        text-align: left;\n",
       "    }\n",
       "\n",
       "    .dataframe thead tr:last-of-type th {\n",
       "        text-align: right;\n",
       "    }\n",
       "</style>\n",
       "<table border=\"1\" class=\"dataframe\">\n",
       "  <thead>\n",
       "    <tr>\n",
       "      <th></th>\n",
       "      <th colspan=\"8\" halign=\"left\">phrases</th>\n",
       "      <th colspan=\"5\" halign=\"left\">phrases_before</th>\n",
       "      <th colspan=\"8\" halign=\"left\">phrases_cuped</th>\n",
       "    </tr>\n",
       "    <tr>\n",
       "      <th></th>\n",
       "      <th>count</th>\n",
       "      <th>mean</th>\n",
       "      <th>std</th>\n",
       "      <th>min</th>\n",
       "      <th>25%</th>\n",
       "      <th>50%</th>\n",
       "      <th>75%</th>\n",
       "      <th>max</th>\n",
       "      <th>count</th>\n",
       "      <th>mean</th>\n",
       "      <th>...</th>\n",
       "      <th>75%</th>\n",
       "      <th>max</th>\n",
       "      <th>count</th>\n",
       "      <th>mean</th>\n",
       "      <th>std</th>\n",
       "      <th>min</th>\n",
       "      <th>25%</th>\n",
       "      <th>50%</th>\n",
       "      <th>75%</th>\n",
       "      <th>max</th>\n",
       "    </tr>\n",
       "    <tr>\n",
       "      <th>exp_group</th>\n",
       "      <th></th>\n",
       "      <th></th>\n",
       "      <th></th>\n",
       "      <th></th>\n",
       "      <th></th>\n",
       "      <th></th>\n",
       "      <th></th>\n",
       "      <th></th>\n",
       "      <th></th>\n",
       "      <th></th>\n",
       "      <th></th>\n",
       "      <th></th>\n",
       "      <th></th>\n",
       "      <th></th>\n",
       "      <th></th>\n",
       "      <th></th>\n",
       "      <th></th>\n",
       "      <th></th>\n",
       "      <th></th>\n",
       "      <th></th>\n",
       "      <th></th>\n",
       "    </tr>\n",
       "  </thead>\n",
       "  <tbody>\n",
       "    <tr>\n",
       "      <th>BASE</th>\n",
       "      <td>58539.0</td>\n",
       "      <td>15.607638</td>\n",
       "      <td>55.710418</td>\n",
       "      <td>0.5</td>\n",
       "      <td>2.0</td>\n",
       "      <td>5.5</td>\n",
       "      <td>15.0</td>\n",
       "      <td>9070.5</td>\n",
       "      <td>58539.0</td>\n",
       "      <td>24.484566</td>\n",
       "      <td>...</td>\n",
       "      <td>24.5</td>\n",
       "      <td>8575.5</td>\n",
       "      <td>58539.0</td>\n",
       "      <td>15.589158</td>\n",
       "      <td>41.906744</td>\n",
       "      <td>-755.085730</td>\n",
       "      <td>9.569041</td>\n",
       "      <td>14.115379</td>\n",
       "      <td>19.809192</td>\n",
       "      <td>4370.270326</td>\n",
       "    </tr>\n",
       "    <tr>\n",
       "      <th>EXP1</th>\n",
       "      <td>14545.0</td>\n",
       "      <td>17.105363</td>\n",
       "      <td>51.366898</td>\n",
       "      <td>0.5</td>\n",
       "      <td>2.0</td>\n",
       "      <td>6.0</td>\n",
       "      <td>17.0</td>\n",
       "      <td>3114.0</td>\n",
       "      <td>14545.0</td>\n",
       "      <td>24.315641</td>\n",
       "      <td>...</td>\n",
       "      <td>24.0</td>\n",
       "      <td>2558.0</td>\n",
       "      <td>14545.0</td>\n",
       "      <td>17.179736</td>\n",
       "      <td>41.213061</td>\n",
       "      <td>-481.498368</td>\n",
       "      <td>10.367044</td>\n",
       "      <td>14.522704</td>\n",
       "      <td>21.042543</td>\n",
       "      <td>1884.917574</td>\n",
       "    </tr>\n",
       "  </tbody>\n",
       "</table>\n",
       "<p>2 rows × 24 columns</p>\n",
       "</div>"
      ],
      "text/plain": [
       "           phrases                                                     \\\n",
       "             count       mean        std  min  25%  50%   75%     max   \n",
       "exp_group                                                               \n",
       "BASE       58539.0  15.607638  55.710418  0.5  2.0  5.5  15.0  9070.5   \n",
       "EXP1       14545.0  17.105363  51.366898  0.5  2.0  6.0  17.0  3114.0   \n",
       "\n",
       "          phrases_before             ...               phrases_cuped  \\\n",
       "                   count       mean  ...   75%     max         count   \n",
       "exp_group                            ...                               \n",
       "BASE             58539.0  24.484566  ...  24.5  8575.5       58539.0   \n",
       "EXP1             14545.0  24.315641  ...  24.0  2558.0       14545.0   \n",
       "\n",
       "                                                                              \\\n",
       "                mean        std         min        25%        50%        75%   \n",
       "exp_group                                                                      \n",
       "BASE       15.589158  41.906744 -755.085730   9.569041  14.115379  19.809192   \n",
       "EXP1       17.179736  41.213061 -481.498368  10.367044  14.522704  21.042543   \n",
       "\n",
       "                        \n",
       "                   max  \n",
       "exp_group               \n",
       "BASE       4370.270326  \n",
       "EXP1       1884.917574  \n",
       "\n",
       "[2 rows x 24 columns]"
      ]
     },
     "execution_count": 14,
     "metadata": {},
     "output_type": "execute_result"
    }
   ],
   "source": [
    "df.groupby('exp_group').describe()"
   ]
  },
  {
   "cell_type": "code",
   "execution_count": 16,
   "metadata": {},
   "outputs": [
    {
     "data": {
      "text/plain": [
       "(array([6.0000e+00, 1.1070e+03, 1.3391e+04, 3.1000e+01, 5.0000e+00,\n",
       "        1.0000e+00, 1.0000e+00, 2.0000e+00, 0.0000e+00, 1.0000e+00]),\n",
       " array([-481.49836774, -244.85677353,   -8.21517933,  228.42641487,\n",
       "         465.06800907,  701.70960328,  938.35119748, 1174.99279168,\n",
       "        1411.63438588, 1648.27598009, 1884.91757429]),\n",
       " <BarContainer object of 10 artists>)"
      ]
     },
     "execution_count": 16,
     "metadata": {},
     "output_type": "execute_result"
    },
    {
     "data": {
      "image/png": "[encoded data removed]",
      "text/plain": [
       "<Figure size 640x480 with 1 Axes>"
      ]
     },
     "metadata": {},
     "output_type": "display_data"
    }
   ],
   "source": [
    "import matplotlib.pyplot as plt\n",
    "plt.hist(cuped_exp_2)"
   ]
  },
  {
   "cell_type": "code",
   "execution_count": null,
   "metadata": {},
   "outputs": [],
   "source": []
  }
 ],
 "metadata": {
  "kernelspec": {
   "display_name": "Python 3 (ipykernel)",
   "language": "python",
   "name": "python3"
  },
  "language_info": {
   "codemirror_mode": {
    "name": "ipython",
    "version": 3
   },
   "file_extension": ".py",
   "mimetype": "text/x-python",
   "name": "python",
   "nbconvert_exporter": "python",
   "pygments_lexer": "ipython3",
   "version": "3.8.3"
  }
 },
 "nbformat": 4,
 "nbformat_minor": 2
}
