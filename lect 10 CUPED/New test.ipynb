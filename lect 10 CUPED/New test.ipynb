{
 "cells": [
  {
   "cell_type": "code",
   "execution_count": 3,
   "metadata": {},
   "outputs": [],
   "source": [
    "import pandas as pd"
   ]
  },
  {
   "cell_type": "code",
   "execution_count": 4,
   "metadata": {},
   "outputs": [],
   "source": [
    "df = pd.read_csv('news test.csv')"
   ]
  },
  {
   "cell_type": "code",
   "execution_count": 5,
   "metadata": {},
   "outputs": [
    {
     "data": {
      "text/plain": [
       "(251693, 37)"
      ]
     },
     "execution_count": 5,
     "metadata": {},
     "output_type": "execute_result"
    }
   ],
   "source": [
    "df.shape"
   ]
  },
  {
   "cell_type": "code",
   "execution_count": 6,
   "metadata": {},
   "outputs": [
    {
     "data": {
      "text/plain": [
       "array(['control', 'хронология'], dtype=object)"
      ]
     },
     "execution_count": 6,
     "metadata": {},
     "output_type": "execute_result"
    }
   ],
   "source": [
    "df.exp_group.unique()"
   ]
  },
  {
   "cell_type": "code",
   "execution_count": 7,
   "metadata": {},
   "outputs": [],
   "source": [
    "df = df.drop(['is_biterika', 'is_yandex', 'is_sber', 'is_rntv',\n",
    "       'is_vtb', 'is_telegram_bot', 'is_yandex_bot', 'is_medialogia',\n",
    "       'is_selectel', 'is_interfax', 'is_RT'], axis = 1)"
   ]
  },
  {
   "cell_type": "code",
   "execution_count": 8,
   "metadata": {},
   "outputs": [
    {
     "data": {
      "text/plain": [
       "Index(['d', 'exp_group', 'bot_flg', 'user_info_user_agent',\n",
       "       'user_info_yandex_uid', 'total_clicks_', 'time_to_first_click_',\n",
       "       'first_click_pos_', 'sum_pos', 'end2end_sum_pos', 'kommersant',\n",
       "       'kommersant_shows', 'rbc', 'rbc_shows', 'ria', 'ria_shows', 'lenta',\n",
       "       'lenta_shows', 'tass', 'tass_shows', 'iz', 'iz_shows', 'interfax',\n",
       "       'interfax_shows', 'queries', 'empty_results'],\n",
       "      dtype='object')"
      ]
     },
     "execution_count": 8,
     "metadata": {},
     "output_type": "execute_result"
    }
   ],
   "source": [
    "df.columns"
   ]
  },
  {
   "cell_type": "code",
   "execution_count": 9,
   "metadata": {},
   "outputs": [],
   "source": [
    "df= df.drop(['user_info_user_agent', 'kommersant',\n",
    "       'kommersant_shows', 'rbc', 'rbc_shows', 'ria', 'ria_shows', 'lenta',\n",
    "       'lenta_shows', 'tass', 'tass_shows', 'iz', 'iz_shows', 'interfax',\n",
    "       'interfax_shows'], axis = 1)"
   ]
  },
  {
   "cell_type": "code",
   "execution_count": 10,
   "metadata": {},
   "outputs": [
    {
     "data": {
      "text/plain": [
       "Timestamp('2023-02-20 00:00:00')"
      ]
     },
     "execution_count": 10,
     "metadata": {},
     "output_type": "execute_result"
    }
   ],
   "source": [
    "pd.to_datetime('20/02/23', format = '%d/%m/%y')"
   ]
  },
  {
   "cell_type": "code",
   "execution_count": 11,
   "metadata": {},
   "outputs": [],
   "source": [
    "df['dt'] = pd.to_datetime(df.d, format = '%d/%m/%y')"
   ]
  },
  {
   "cell_type": "code",
   "execution_count": 12,
   "metadata": {
    "scrolled": true
   },
   "outputs": [
    {
     "data": {
      "text/html": [
       "<div>\n",
       "<style scoped>\n",
       "    .dataframe tbody tr th:only-of-type {\n",
       "        vertical-align: middle;\n",
       "    }\n",
       "\n",
       "    .dataframe tbody tr th {\n",
       "        vertical-align: top;\n",
       "    }\n",
       "\n",
       "    .dataframe thead th {\n",
       "        text-align: right;\n",
       "    }\n",
       "</style>\n",
       "<table border=\"1\" class=\"dataframe\">\n",
       "  <thead>\n",
       "    <tr style=\"text-align: right;\">\n",
       "      <th></th>\n",
       "      <th>d</th>\n",
       "      <th>exp_group</th>\n",
       "      <th>bot_flg</th>\n",
       "      <th>user_info_yandex_uid</th>\n",
       "      <th>total_clicks_</th>\n",
       "      <th>time_to_first_click_</th>\n",
       "      <th>first_click_pos_</th>\n",
       "      <th>sum_pos</th>\n",
       "      <th>end2end_sum_pos</th>\n",
       "      <th>queries</th>\n",
       "      <th>empty_results</th>\n",
       "      <th>dt</th>\n",
       "    </tr>\n",
       "  </thead>\n",
       "  <tbody>\n",
       "    <tr>\n",
       "      <th>0</th>\n",
       "      <td>26/04/23</td>\n",
       "      <td>control</td>\n",
       "      <td>0</td>\n",
       "      <td>1865850381682515486</td>\n",
       "      <td>0</td>\n",
       "      <td>0</td>\n",
       "      <td>0</td>\n",
       "      <td>0</td>\n",
       "      <td>0</td>\n",
       "      <td>1</td>\n",
       "      <td>1</td>\n",
       "      <td>2023-04-26</td>\n",
       "    </tr>\n",
       "    <tr>\n",
       "      <th>1</th>\n",
       "      <td>28/04/23</td>\n",
       "      <td>хронология</td>\n",
       "      <td>0</td>\n",
       "      <td>8022259061682679060</td>\n",
       "      <td>0</td>\n",
       "      <td>0</td>\n",
       "      <td>0</td>\n",
       "      <td>0</td>\n",
       "      <td>0</td>\n",
       "      <td>1</td>\n",
       "      <td>0</td>\n",
       "      <td>2023-04-28</td>\n",
       "    </tr>\n",
       "    <tr>\n",
       "      <th>2</th>\n",
       "      <td>28/04/23</td>\n",
       "      <td>control</td>\n",
       "      <td>1</td>\n",
       "      <td>8516704241675260594</td>\n",
       "      <td>0</td>\n",
       "      <td>0</td>\n",
       "      <td>0</td>\n",
       "      <td>0</td>\n",
       "      <td>0</td>\n",
       "      <td>278</td>\n",
       "      <td>203</td>\n",
       "      <td>2023-04-28</td>\n",
       "    </tr>\n",
       "    <tr>\n",
       "      <th>3</th>\n",
       "      <td>01/05/23</td>\n",
       "      <td>control</td>\n",
       "      <td>0</td>\n",
       "      <td>6430450711682974597</td>\n",
       "      <td>0</td>\n",
       "      <td>0</td>\n",
       "      <td>0</td>\n",
       "      <td>0</td>\n",
       "      <td>0</td>\n",
       "      <td>1</td>\n",
       "      <td>0</td>\n",
       "      <td>2023-05-01</td>\n",
       "    </tr>\n",
       "    <tr>\n",
       "      <th>4</th>\n",
       "      <td>27/04/23</td>\n",
       "      <td>хронология</td>\n",
       "      <td>0</td>\n",
       "      <td>5047628321682545957</td>\n",
       "      <td>0</td>\n",
       "      <td>0</td>\n",
       "      <td>0</td>\n",
       "      <td>0</td>\n",
       "      <td>0</td>\n",
       "      <td>1</td>\n",
       "      <td>0</td>\n",
       "      <td>2023-04-27</td>\n",
       "    </tr>\n",
       "  </tbody>\n",
       "</table>\n",
       "</div>"
      ],
      "text/plain": [
       "          d   exp_group  bot_flg  user_info_yandex_uid  total_clicks_  \\\n",
       "0  26/04/23     control        0   1865850381682515486              0   \n",
       "1  28/04/23  хронология        0   8022259061682679060              0   \n",
       "2  28/04/23     control        1   8516704241675260594              0   \n",
       "3  01/05/23     control        0   6430450711682974597              0   \n",
       "4  27/04/23  хронология        0   5047628321682545957              0   \n",
       "\n",
       "   time_to_first_click_  first_click_pos_  sum_pos  end2end_sum_pos  queries  \\\n",
       "0                     0                 0        0                0        1   \n",
       "1                     0                 0        0                0        1   \n",
       "2                     0                 0        0                0      278   \n",
       "3                     0                 0        0                0        1   \n",
       "4                     0                 0        0                0        1   \n",
       "\n",
       "   empty_results         dt  \n",
       "0              1 2023-04-26  \n",
       "1              0 2023-04-28  \n",
       "2            203 2023-04-28  \n",
       "3              0 2023-05-01  \n",
       "4              0 2023-04-27  "
      ]
     },
     "execution_count": 12,
     "metadata": {},
     "output_type": "execute_result"
    }
   ],
   "source": [
    "df.head()"
   ]
  },
  {
   "cell_type": "code",
   "execution_count": 2,
   "metadata": {},
   "outputs": [
    {
     "name": "stdout",
     "output_type": "stream",
     "text": [
      "Requirement already satisfied: duckdb in /Users/i.pile/anaconda3/lib/python3.8/site-packages (0.8.1)\r\n"
     ]
    }
   ],
   "source": [
    "!pip install duckdb"
   ]
  },
  {
   "cell_type": "code",
   "execution_count": 2,
   "metadata": {},
   "outputs": [],
   "source": [
    "import duckdb\n",
    "import pandas as pd"
   ]
  },
  {
   "cell_type": "code",
   "execution_count": 36,
   "metadata": {},
   "outputs": [],
   "source": [
    "import duckdb\n",
    "\n",
    "q = '''\n",
    "select q, count(1) as cnt\n",
    "from (\n",
    "SELECT user_info_yandex_uid, sum(queries) as q\n",
    "FROM df\n",
    "GROUP BY user_info_yandex_uid\n",
    ")\n",
    "group by q\n",
    "'''\n",
    "\n",
    "d = duckdb.query(q).to_df()"
   ]
  },
  {
   "cell_type": "code",
   "execution_count": 40,
   "metadata": {},
   "outputs": [],
   "source": [
    "d = d.sort_values(by = 'q')"
   ]
  },
  {
   "cell_type": "code",
   "execution_count": 43,
   "metadata": {},
   "outputs": [
    {
     "data": {
      "text/plain": [
       "461"
      ]
     },
     "execution_count": 43,
     "metadata": {},
     "output_type": "execute_result"
    }
   ],
   "source": [
    "d[d.q>100].cnt.sum()"
   ]
  },
  {
   "cell_type": "code",
   "execution_count": null,
   "metadata": {},
   "outputs": [],
   "source": []
  },
  {
   "cell_type": "code",
   "execution_count": 18,
   "metadata": {},
   "outputs": [],
   "source": [
    "d['dt'] = pd.to_datetime(d.d, format = '%d/%m/%y')"
   ]
  },
  {
   "cell_type": "code",
   "execution_count": 35,
   "metadata": {},
   "outputs": [
    {
     "data": {
      "text/plain": [
       "<DatetimeArray>\n",
       "['2023-05-01 00:00:00', '2023-05-02 00:00:00', '2023-04-25 00:00:00',\n",
       " '2023-04-26 00:00:00', '2023-04-27 00:00:00', '2023-04-28 00:00:00',\n",
       " '2023-04-29 00:00:00', '2023-04-30 00:00:00']\n",
       "Length: 8, dtype: datetime64[ns]"
      ]
     },
     "execution_count": 35,
     "metadata": {},
     "output_type": "execute_result"
    }
   ],
   "source": [
    "d['dt'].unique()"
   ]
  },
  {
   "cell_type": "code",
   "execution_count": 23,
   "metadata": {},
   "outputs": [
    {
     "data": {
      "text/plain": [
       "exp_group\n",
       "control       Axes(0.125,0.2;0.775x0.68)\n",
       "хронология    Axes(0.125,0.2;0.775x0.68)\n",
       "dtype: object"
      ]
     },
     "execution_count": 23,
     "metadata": {},
     "output_type": "execute_result"
    },
    {
     "data": {
      "image/png": "[encoded data removed]",
      "text/plain": [
       "<Figure size 640x480 with 1 Axes>"
      ]
     },
     "metadata": {},
     "output_type": "display_data"
    },
    {
     "data": {
      "image/png": "[encoded data removed]",
      "text/plain": [
       "<Figure size 640x480 with 1 Axes>"
      ]
     },
     "metadata": {},
     "output_type": "display_data"
    }
   ],
   "source": [
    "d.groupby('exp_group').plot(x = 'dt', y = 'users')"
   ]
  },
  {
   "cell_type": "markdown",
   "metadata": {},
   "source": [
    "# Доля ботов"
   ]
  },
  {
   "cell_type": "code",
   "execution_count": 27,
   "metadata": {},
   "outputs": [
    {
     "data": {
      "text/html": [
       "<div>\n",
       "<style scoped>\n",
       "    .dataframe tbody tr th:only-of-type {\n",
       "        vertical-align: middle;\n",
       "    }\n",
       "\n",
       "    .dataframe tbody tr th {\n",
       "        vertical-align: top;\n",
       "    }\n",
       "\n",
       "    .dataframe thead th {\n",
       "        text-align: right;\n",
       "    }\n",
       "</style>\n",
       "<table border=\"1\" class=\"dataframe\">\n",
       "  <thead>\n",
       "    <tr style=\"text-align: right;\">\n",
       "      <th></th>\n",
       "      <th>d</th>\n",
       "      <th>exp_group</th>\n",
       "      <th>users_bot</th>\n",
       "      <th>users</th>\n",
       "      <th>avg(bot_flg)</th>\n",
       "    </tr>\n",
       "  </thead>\n",
       "  <tbody>\n",
       "    <tr>\n",
       "      <th>0</th>\n",
       "      <td>01/05/23</td>\n",
       "      <td>control</td>\n",
       "      <td>792</td>\n",
       "      <td>16600</td>\n",
       "      <td>0.047332</td>\n",
       "    </tr>\n",
       "    <tr>\n",
       "      <th>1</th>\n",
       "      <td>01/05/23</td>\n",
       "      <td>хронология</td>\n",
       "      <td>785</td>\n",
       "      <td>16811</td>\n",
       "      <td>0.046228</td>\n",
       "    </tr>\n",
       "    <tr>\n",
       "      <th>2</th>\n",
       "      <td>02/05/23</td>\n",
       "      <td>control</td>\n",
       "      <td>788</td>\n",
       "      <td>12951</td>\n",
       "      <td>0.060153</td>\n",
       "    </tr>\n",
       "    <tr>\n",
       "      <th>3</th>\n",
       "      <td>02/05/23</td>\n",
       "      <td>хронология</td>\n",
       "      <td>799</td>\n",
       "      <td>13128</td>\n",
       "      <td>0.060138</td>\n",
       "    </tr>\n",
       "    <tr>\n",
       "      <th>4</th>\n",
       "      <td>25/04/23</td>\n",
       "      <td>control</td>\n",
       "      <td>233</td>\n",
       "      <td>6532</td>\n",
       "      <td>0.035378</td>\n",
       "    </tr>\n",
       "    <tr>\n",
       "      <th>5</th>\n",
       "      <td>25/04/23</td>\n",
       "      <td>хронология</td>\n",
       "      <td>242</td>\n",
       "      <td>6721</td>\n",
       "      <td>0.035614</td>\n",
       "    </tr>\n",
       "    <tr>\n",
       "      <th>6</th>\n",
       "      <td>26/04/23</td>\n",
       "      <td>control</td>\n",
       "      <td>936</td>\n",
       "      <td>19203</td>\n",
       "      <td>0.047887</td>\n",
       "    </tr>\n",
       "    <tr>\n",
       "      <th>7</th>\n",
       "      <td>26/04/23</td>\n",
       "      <td>хронология</td>\n",
       "      <td>988</td>\n",
       "      <td>19027</td>\n",
       "      <td>0.051052</td>\n",
       "    </tr>\n",
       "    <tr>\n",
       "      <th>8</th>\n",
       "      <td>27/04/23</td>\n",
       "      <td>control</td>\n",
       "      <td>969</td>\n",
       "      <td>18527</td>\n",
       "      <td>0.051474</td>\n",
       "    </tr>\n",
       "    <tr>\n",
       "      <th>9</th>\n",
       "      <td>27/04/23</td>\n",
       "      <td>хронология</td>\n",
       "      <td>987</td>\n",
       "      <td>18704</td>\n",
       "      <td>0.051879</td>\n",
       "    </tr>\n",
       "    <tr>\n",
       "      <th>10</th>\n",
       "      <td>28/04/23</td>\n",
       "      <td>control</td>\n",
       "      <td>966</td>\n",
       "      <td>19004</td>\n",
       "      <td>0.050039</td>\n",
       "    </tr>\n",
       "    <tr>\n",
       "      <th>11</th>\n",
       "      <td>28/04/23</td>\n",
       "      <td>хронология</td>\n",
       "      <td>960</td>\n",
       "      <td>18987</td>\n",
       "      <td>0.049969</td>\n",
       "    </tr>\n",
       "    <tr>\n",
       "      <th>12</th>\n",
       "      <td>29/04/23</td>\n",
       "      <td>control</td>\n",
       "      <td>736</td>\n",
       "      <td>16565</td>\n",
       "      <td>0.043953</td>\n",
       "    </tr>\n",
       "    <tr>\n",
       "      <th>13</th>\n",
       "      <td>29/04/23</td>\n",
       "      <td>хронология</td>\n",
       "      <td>734</td>\n",
       "      <td>16839</td>\n",
       "      <td>0.043250</td>\n",
       "    </tr>\n",
       "    <tr>\n",
       "      <th>14</th>\n",
       "      <td>30/04/23</td>\n",
       "      <td>control</td>\n",
       "      <td>670</td>\n",
       "      <td>14448</td>\n",
       "      <td>0.045980</td>\n",
       "    </tr>\n",
       "    <tr>\n",
       "      <th>15</th>\n",
       "      <td>30/04/23</td>\n",
       "      <td>хронология</td>\n",
       "      <td>697</td>\n",
       "      <td>14453</td>\n",
       "      <td>0.047691</td>\n",
       "    </tr>\n",
       "  </tbody>\n",
       "</table>\n",
       "</div>"
      ],
      "text/plain": [
       "           d   exp_group  users_bot  users  avg(bot_flg)\n",
       "0   01/05/23     control        792  16600      0.047332\n",
       "1   01/05/23  хронология        785  16811      0.046228\n",
       "2   02/05/23     control        788  12951      0.060153\n",
       "3   02/05/23  хронология        799  13128      0.060138\n",
       "4   25/04/23     control        233   6532      0.035378\n",
       "5   25/04/23  хронология        242   6721      0.035614\n",
       "6   26/04/23     control        936  19203      0.047887\n",
       "7   26/04/23  хронология        988  19027      0.051052\n",
       "8   27/04/23     control        969  18527      0.051474\n",
       "9   27/04/23  хронология        987  18704      0.051879\n",
       "10  28/04/23     control        966  19004      0.050039\n",
       "11  28/04/23  хронология        960  18987      0.049969\n",
       "12  29/04/23     control        736  16565      0.043953\n",
       "13  29/04/23  хронология        734  16839      0.043250\n",
       "14  30/04/23     control        670  14448      0.045980\n",
       "15  30/04/23  хронология        697  14453      0.047691"
      ]
     },
     "execution_count": 27,
     "metadata": {},
     "output_type": "execute_result"
    }
   ],
   "source": [
    "q = '''\n",
    "SELECT d, exp_group, \n",
    "    count(distinct case when bot_flg = 1 then user_info_yandex_uid else NULL end) as users_bot,\n",
    "    count(distinct user_info_yandex_uid) as users,\n",
    "    avg(bot_flg)\n",
    "FROM df\n",
    "GROUP BY d, exp_group\n",
    "ORDER BY d, exp_group\n",
    "\n",
    "'''\n",
    "\n",
    "duckdb.query(q).to_df()"
   ]
  },
  {
   "cell_type": "code",
   "execution_count": 34,
   "metadata": {},
   "outputs": [
    {
     "data": {
      "text/html": [
       "<div>\n",
       "<style scoped>\n",
       "    .dataframe tbody tr th:only-of-type {\n",
       "        vertical-align: middle;\n",
       "    }\n",
       "\n",
       "    .dataframe tbody tr th {\n",
       "        vertical-align: top;\n",
       "    }\n",
       "\n",
       "    .dataframe thead th {\n",
       "        text-align: right;\n",
       "    }\n",
       "</style>\n",
       "<table border=\"1\" class=\"dataframe\">\n",
       "  <thead>\n",
       "    <tr style=\"text-align: right;\">\n",
       "      <th></th>\n",
       "      <th>d</th>\n",
       "      <th>exp_group</th>\n",
       "      <th>bot_flg</th>\n",
       "      <th>user_info_yandex_uid</th>\n",
       "      <th>total_clicks_</th>\n",
       "      <th>time_to_first_click_</th>\n",
       "      <th>first_click_pos_</th>\n",
       "      <th>sum_pos</th>\n",
       "      <th>end2end_sum_pos</th>\n",
       "      <th>queries</th>\n",
       "      <th>empty_results</th>\n",
       "      <th>dt</th>\n",
       "    </tr>\n",
       "  </thead>\n",
       "  <tbody>\n",
       "    <tr>\n",
       "      <th>5</th>\n",
       "      <td>02/05/23</td>\n",
       "      <td>хронология</td>\n",
       "      <td>0</td>\n",
       "      <td>5772906911630416097</td>\n",
       "      <td>1</td>\n",
       "      <td>25</td>\n",
       "      <td>1</td>\n",
       "      <td>1</td>\n",
       "      <td>1</td>\n",
       "      <td>7</td>\n",
       "      <td>0</td>\n",
       "      <td>2023-05-02</td>\n",
       "    </tr>\n",
       "    <tr>\n",
       "      <th>11</th>\n",
       "      <td>01/05/23</td>\n",
       "      <td>control</td>\n",
       "      <td>0</td>\n",
       "      <td>1006405001634071663</td>\n",
       "      <td>5</td>\n",
       "      <td>136</td>\n",
       "      <td>13</td>\n",
       "      <td>21</td>\n",
       "      <td>33</td>\n",
       "      <td>6</td>\n",
       "      <td>0</td>\n",
       "      <td>2023-05-01</td>\n",
       "    </tr>\n",
       "    <tr>\n",
       "      <th>35</th>\n",
       "      <td>25/04/23</td>\n",
       "      <td>control</td>\n",
       "      <td>0</td>\n",
       "      <td>8339555171554235580</td>\n",
       "      <td>6</td>\n",
       "      <td>14</td>\n",
       "      <td>3</td>\n",
       "      <td>100</td>\n",
       "      <td>100</td>\n",
       "      <td>3</td>\n",
       "      <td>0</td>\n",
       "      <td>2023-04-25</td>\n",
       "    </tr>\n",
       "    <tr>\n",
       "      <th>70</th>\n",
       "      <td>27/04/23</td>\n",
       "      <td>хронология</td>\n",
       "      <td>0</td>\n",
       "      <td>9396612021682589160</td>\n",
       "      <td>1</td>\n",
       "      <td>6062</td>\n",
       "      <td>8</td>\n",
       "      <td>3</td>\n",
       "      <td>8</td>\n",
       "      <td>3</td>\n",
       "      <td>0</td>\n",
       "      <td>2023-04-27</td>\n",
       "    </tr>\n",
       "    <tr>\n",
       "      <th>113</th>\n",
       "      <td>02/05/23</td>\n",
       "      <td>хронология</td>\n",
       "      <td>0</td>\n",
       "      <td>3087315621682983436</td>\n",
       "      <td>1</td>\n",
       "      <td>11</td>\n",
       "      <td>1</td>\n",
       "      <td>1</td>\n",
       "      <td>1</td>\n",
       "      <td>1</td>\n",
       "      <td>0</td>\n",
       "      <td>2023-05-02</td>\n",
       "    </tr>\n",
       "    <tr>\n",
       "      <th>...</th>\n",
       "      <td>...</td>\n",
       "      <td>...</td>\n",
       "      <td>...</td>\n",
       "      <td>...</td>\n",
       "      <td>...</td>\n",
       "      <td>...</td>\n",
       "      <td>...</td>\n",
       "      <td>...</td>\n",
       "      <td>...</td>\n",
       "      <td>...</td>\n",
       "      <td>...</td>\n",
       "      <td>...</td>\n",
       "    </tr>\n",
       "    <tr>\n",
       "      <th>251488</th>\n",
       "      <td>28/04/23</td>\n",
       "      <td>control</td>\n",
       "      <td>0</td>\n",
       "      <td>8887923561678889454</td>\n",
       "      <td>2</td>\n",
       "      <td>7</td>\n",
       "      <td>3</td>\n",
       "      <td>3</td>\n",
       "      <td>8</td>\n",
       "      <td>22</td>\n",
       "      <td>0</td>\n",
       "      <td>2023-04-28</td>\n",
       "    </tr>\n",
       "    <tr>\n",
       "      <th>251499</th>\n",
       "      <td>27/04/23</td>\n",
       "      <td>control</td>\n",
       "      <td>0</td>\n",
       "      <td>8126988061636438459</td>\n",
       "      <td>2</td>\n",
       "      <td>123</td>\n",
       "      <td>23</td>\n",
       "      <td>10</td>\n",
       "      <td>23</td>\n",
       "      <td>8</td>\n",
       "      <td>0</td>\n",
       "      <td>2023-04-27</td>\n",
       "    </tr>\n",
       "    <tr>\n",
       "      <th>251585</th>\n",
       "      <td>28/04/23</td>\n",
       "      <td>хронология</td>\n",
       "      <td>0</td>\n",
       "      <td>6948118621680813110</td>\n",
       "      <td>1</td>\n",
       "      <td>430</td>\n",
       "      <td>6</td>\n",
       "      <td>3</td>\n",
       "      <td>6</td>\n",
       "      <td>1</td>\n",
       "      <td>0</td>\n",
       "      <td>2023-04-28</td>\n",
       "    </tr>\n",
       "    <tr>\n",
       "      <th>251591</th>\n",
       "      <td>01/05/23</td>\n",
       "      <td>control</td>\n",
       "      <td>0</td>\n",
       "      <td>2309171511672565280</td>\n",
       "      <td>4</td>\n",
       "      <td>11</td>\n",
       "      <td>3</td>\n",
       "      <td>37</td>\n",
       "      <td>37</td>\n",
       "      <td>1</td>\n",
       "      <td>0</td>\n",
       "      <td>2023-05-01</td>\n",
       "    </tr>\n",
       "    <tr>\n",
       "      <th>251627</th>\n",
       "      <td>29/04/23</td>\n",
       "      <td>control</td>\n",
       "      <td>0</td>\n",
       "      <td>4268690211682663174</td>\n",
       "      <td>1</td>\n",
       "      <td>12</td>\n",
       "      <td>4</td>\n",
       "      <td>4</td>\n",
       "      <td>4</td>\n",
       "      <td>4</td>\n",
       "      <td>0</td>\n",
       "      <td>2023-04-29</td>\n",
       "    </tr>\n",
       "  </tbody>\n",
       "</table>\n",
       "<p>11643 rows × 12 columns</p>\n",
       "</div>"
      ],
      "text/plain": [
       "               d   exp_group  bot_flg  user_info_yandex_uid  total_clicks_  \\\n",
       "5       02/05/23  хронология        0   5772906911630416097              1   \n",
       "11      01/05/23     control        0   1006405001634071663              5   \n",
       "35      25/04/23     control        0   8339555171554235580              6   \n",
       "70      27/04/23  хронология        0   9396612021682589160              1   \n",
       "113     02/05/23  хронология        0   3087315621682983436              1   \n",
       "...          ...         ...      ...                   ...            ...   \n",
       "251488  28/04/23     control        0   8887923561678889454              2   \n",
       "251499  27/04/23     control        0   8126988061636438459              2   \n",
       "251585  28/04/23  хронология        0   6948118621680813110              1   \n",
       "251591  01/05/23     control        0   2309171511672565280              4   \n",
       "251627  29/04/23     control        0   4268690211682663174              1   \n",
       "\n",
       "        time_to_first_click_  first_click_pos_  sum_pos  end2end_sum_pos  \\\n",
       "5                         25                 1        1                1   \n",
       "11                       136                13       21               33   \n",
       "35                        14                 3      100              100   \n",
       "70                      6062                 8        3                8   \n",
       "113                       11                 1        1                1   \n",
       "...                      ...               ...      ...              ...   \n",
       "251488                     7                 3        3                8   \n",
       "251499                   123                23       10               23   \n",
       "251585                   430                 6        3                6   \n",
       "251591                    11                 3       37               37   \n",
       "251627                    12                 4        4                4   \n",
       "\n",
       "        queries  empty_results         dt  \n",
       "5             7              0 2023-05-02  \n",
       "11            6              0 2023-05-01  \n",
       "35            3              0 2023-04-25  \n",
       "70            3              0 2023-04-27  \n",
       "113           1              0 2023-05-02  \n",
       "...         ...            ...        ...  \n",
       "251488       22              0 2023-04-28  \n",
       "251499        8              0 2023-04-27  \n",
       "251585        1              0 2023-04-28  \n",
       "251591        1              0 2023-05-01  \n",
       "251627        4              0 2023-04-29  \n",
       "\n",
       "[11643 rows x 12 columns]"
      ]
     },
     "execution_count": 34,
     "metadata": {},
     "output_type": "execute_result"
    }
   ],
   "source": [
    "df[df.sum_pos != 0]"
   ]
  },
  {
   "cell_type": "markdown",
   "metadata": {},
   "source": [
    "# Доля пустых выдач"
   ]
  },
  {
   "cell_type": "code",
   "execution_count": 31,
   "metadata": {},
   "outputs": [
    {
     "data": {
      "text/html": [
       "<div>\n",
       "<style scoped>\n",
       "    .dataframe tbody tr th:only-of-type {\n",
       "        vertical-align: middle;\n",
       "    }\n",
       "\n",
       "    .dataframe tbody tr th {\n",
       "        vertical-align: top;\n",
       "    }\n",
       "\n",
       "    .dataframe thead th {\n",
       "        text-align: right;\n",
       "    }\n",
       "</style>\n",
       "<table border=\"1\" class=\"dataframe\">\n",
       "  <thead>\n",
       "    <tr style=\"text-align: right;\">\n",
       "      <th></th>\n",
       "      <th>d</th>\n",
       "      <th>exp_group</th>\n",
       "      <th>empty_ratio</th>\n",
       "      <th>count_star()</th>\n",
       "    </tr>\n",
       "  </thead>\n",
       "  <tbody>\n",
       "    <tr>\n",
       "      <th>0</th>\n",
       "      <td>01/05/23</td>\n",
       "      <td>control</td>\n",
       "      <td>0.600781</td>\n",
       "      <td>16733</td>\n",
       "    </tr>\n",
       "    <tr>\n",
       "      <th>1</th>\n",
       "      <td>01/05/23</td>\n",
       "      <td>хронология</td>\n",
       "      <td>0.288102</td>\n",
       "      <td>16981</td>\n",
       "    </tr>\n",
       "    <tr>\n",
       "      <th>2</th>\n",
       "      <td>02/05/23</td>\n",
       "      <td>control</td>\n",
       "      <td>0.568237</td>\n",
       "      <td>13100</td>\n",
       "    </tr>\n",
       "    <tr>\n",
       "      <th>3</th>\n",
       "      <td>02/05/23</td>\n",
       "      <td>хронология</td>\n",
       "      <td>0.279141</td>\n",
       "      <td>13286</td>\n",
       "    </tr>\n",
       "    <tr>\n",
       "      <th>4</th>\n",
       "      <td>25/04/23</td>\n",
       "      <td>control</td>\n",
       "      <td>0.238611</td>\n",
       "      <td>6586</td>\n",
       "    </tr>\n",
       "    <tr>\n",
       "      <th>5</th>\n",
       "      <td>25/04/23</td>\n",
       "      <td>хронология</td>\n",
       "      <td>0.093613</td>\n",
       "      <td>6795</td>\n",
       "    </tr>\n",
       "    <tr>\n",
       "      <th>6</th>\n",
       "      <td>26/04/23</td>\n",
       "      <td>control</td>\n",
       "      <td>0.483280</td>\n",
       "      <td>19546</td>\n",
       "    </tr>\n",
       "    <tr>\n",
       "      <th>7</th>\n",
       "      <td>26/04/23</td>\n",
       "      <td>хронология</td>\n",
       "      <td>0.161835</td>\n",
       "      <td>19353</td>\n",
       "    </tr>\n",
       "    <tr>\n",
       "      <th>8</th>\n",
       "      <td>27/04/23</td>\n",
       "      <td>control</td>\n",
       "      <td>0.486518</td>\n",
       "      <td>18825</td>\n",
       "    </tr>\n",
       "    <tr>\n",
       "      <th>9</th>\n",
       "      <td>27/04/23</td>\n",
       "      <td>хронология</td>\n",
       "      <td>0.171905</td>\n",
       "      <td>19025</td>\n",
       "    </tr>\n",
       "    <tr>\n",
       "      <th>10</th>\n",
       "      <td>28/04/23</td>\n",
       "      <td>control</td>\n",
       "      <td>0.520081</td>\n",
       "      <td>19305</td>\n",
       "    </tr>\n",
       "    <tr>\n",
       "      <th>11</th>\n",
       "      <td>28/04/23</td>\n",
       "      <td>хронология</td>\n",
       "      <td>0.194106</td>\n",
       "      <td>19212</td>\n",
       "    </tr>\n",
       "    <tr>\n",
       "      <th>12</th>\n",
       "      <td>29/04/23</td>\n",
       "      <td>control</td>\n",
       "      <td>0.558255</td>\n",
       "      <td>16745</td>\n",
       "    </tr>\n",
       "    <tr>\n",
       "      <th>13</th>\n",
       "      <td>29/04/23</td>\n",
       "      <td>хронология</td>\n",
       "      <td>0.211496</td>\n",
       "      <td>16971</td>\n",
       "    </tr>\n",
       "    <tr>\n",
       "      <th>14</th>\n",
       "      <td>30/04/23</td>\n",
       "      <td>control</td>\n",
       "      <td>0.604513</td>\n",
       "      <td>14615</td>\n",
       "    </tr>\n",
       "    <tr>\n",
       "      <th>15</th>\n",
       "      <td>30/04/23</td>\n",
       "      <td>хронология</td>\n",
       "      <td>0.284000</td>\n",
       "      <td>14615</td>\n",
       "    </tr>\n",
       "  </tbody>\n",
       "</table>\n",
       "</div>"
      ],
      "text/plain": [
       "           d   exp_group  empty_ratio  count_star()\n",
       "0   01/05/23     control     0.600781         16733\n",
       "1   01/05/23  хронология     0.288102         16981\n",
       "2   02/05/23     control     0.568237         13100\n",
       "3   02/05/23  хронология     0.279141         13286\n",
       "4   25/04/23     control     0.238611          6586\n",
       "5   25/04/23  хронология     0.093613          6795\n",
       "6   26/04/23     control     0.483280         19546\n",
       "7   26/04/23  хронология     0.161835         19353\n",
       "8   27/04/23     control     0.486518         18825\n",
       "9   27/04/23  хронология     0.171905         19025\n",
       "10  28/04/23     control     0.520081         19305\n",
       "11  28/04/23  хронология     0.194106         19212\n",
       "12  29/04/23     control     0.558255         16745\n",
       "13  29/04/23  хронология     0.211496         16971\n",
       "14  30/04/23     control     0.604513         14615\n",
       "15  30/04/23  хронология     0.284000         14615"
      ]
     },
     "execution_count": 31,
     "metadata": {},
     "output_type": "execute_result"
    }
   ],
   "source": [
    "q = '''\n",
    "SELECT d, exp_group, \n",
    "    sum(empty_results)/sum(queries) as empty_ratio,\n",
    "    count()\n",
    "FROM df\n",
    "GROUP BY d, exp_group\n",
    "ORDER BY d, exp_group\n",
    "\n",
    "'''\n",
    "\n",
    "duckdb.query(q).to_df()"
   ]
  },
  {
   "cell_type": "code",
   "execution_count": 33,
   "metadata": {},
   "outputs": [
    {
     "data": {
      "text/plain": [
       "Index(['d', 'exp_group', 'bot_flg', 'user_info_yandex_uid', 'total_clicks_',\n",
       "       'time_to_first_click_', 'first_click_pos_', 'sum_pos',\n",
       "       'end2end_sum_pos', 'queries', 'empty_results', 'dt'],\n",
       "      dtype='object')"
      ]
     },
     "execution_count": 33,
     "metadata": {},
     "output_type": "execute_result"
    }
   ],
   "source": [
    "df.columns"
   ]
  },
  {
   "cell_type": "code",
   "execution_count": null,
   "metadata": {},
   "outputs": [],
   "source": []
  }
 ],
 "metadata": {
  "kernelspec": {
   "display_name": "Python 3 (ipykernel)",
   "language": "python",
   "name": "python3"
  },
  "language_info": {
   "codemirror_mode": {
    "name": "ipython",
    "version": 3
   },
   "file_extension": ".py",
   "mimetype": "text/x-python",
   "name": "python",
   "nbconvert_exporter": "python",
   "pygments_lexer": "ipython3",
   "version": "3.11.7"
  }
 },
 "nbformat": 4,
 "nbformat_minor": 4
}
