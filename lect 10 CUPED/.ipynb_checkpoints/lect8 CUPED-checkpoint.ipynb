{
 "cells": [
  {
   "cell_type": "markdown",
   "metadata": {},
   "source": [
    "# Методы понижения дисперсии: Стратификация и CUPED\n",
    "\n",
    "*Подготовил Ян Пиле*"
   ]
  },
  {
   "cell_type": "markdown",
   "metadata": {},
   "source": [
    "К настоящему моменту мы разобрали довольно много различных статистических тестов (особенно на прошлой лекции). Давайте вспомним чего ради мы все это затеяли.\n",
    "\n",
    "Все методы, на самом деле, вам нужны, чтобы отвечать на вопрос \"является ли отличие в двух измеренных показателях статистически значимым?\", то есть \"насколько вероятно было бы получить такой или еще более экстремальный результат случайно\". С точки зрения АБ-тестов это можно переформулировать как \"повлияло ли мое изменение на целевые метрики\". Мы увидели, что различные статистические тесты обладают разной чувствительностью и договорились из подходящих методов выбирать тот, у которого чувствительность выше. На самом деле, нетрудно вспомнить, что качество статистической оценки зависит от дисперсии измеряемого показателя в группах. Вспомним, например, построение доверительных интервалов с помощью ЦПТ:\n",
    "\n",
    "$$P(\\overline{X_n}-z_{1-\\frac{\\alpha}{2}}\\dfrac{\\sigma}{\\sqrt{n}} \\le \\mu \\le \\overline{X_n}+z_{1-\\frac{\\alpha}{2}}\\dfrac{\\sigma}{\\sqrt{n}}) = 1-\\alpha$$"
   ]
  },
  {
   "cell_type": "markdown",
   "metadata": {},
   "source": [
    "Тут мы говорили, что на выборке бОльшего размера доверительный интервал становится уже (в самом деле, там же корень из длины выборки в знаменателе). Это означает, что мы будем точнее оценивать нашу величину, если в выборке, по которой производится оценка, будет больше наблюдений. В реальной жизни мы почти никогда не можем неограниченно увеличивать *n*. Представьте, что вы проводите эксперимент, связанный с тем, как ваши пользователи кликают в рекламные баннеры. Представим, что в среднем на ваш сайт заходит 5000 уникальных пользователей в день. Вы подсчитали минимальный эффект, который вы хотите детектировать с помощью АБ-теста и посмотрели, на каком размере выборки вам это удастся: оказалось, что необходимо 150000 пользователей. Все? вам надо проводить свой эксперимент на всех пользователях не менее двух месяцев (если вы всех своих пользователей поделите пополам)?"
   ]
  },
  {
   "cell_type": "markdown",
   "metadata": {},
   "source": [
    "Кроме того, чем меньше эффект, тем сложнее его будет обнаруживать. Представьте, например, что ваш продукт - ecom-сайт со средней конверсией около 2%. Если воспользоваться [калькулятором](https://bookingcom.github.io/powercalculator/) АБ-тестов от Booking, видно, что для обнаружения относительного изменения конверсии на 1% потребуется эксперимент с более чем 12 миллионами пользователей (с методологией расчета лучше ознакомиться непосредственно на GitHub'e, но порядок величин уж точно похож на правду. \n",
    "\n",
    "Проблема обнаружения небольших эффектов в эксперименте связана с низкой статистической мощностью. При низкой мощности статистический тест, скорее всего, сообщат о незначимой разнице между тестом и контролем, даже если изменение имеет быть. Мощность недостаточна, если эффект мал по сравнению с дисперсией измеряемого показателя для вашего размера выборки."
   ]
  },
  {
   "cell_type": "markdown",
   "metadata": {},
   "source": [
    "С точки зрения соотношения размера эффекта и дисперсии это выглядит так:\n",
    "\n",
    "<img src=\"https://miro.medium.com/max/1400/1*6SXcNYv1ZqEgRrHYSqSzog.png\">"
   ]
  },
  {
   "cell_type": "markdown",
   "metadata": {},
   "source": [
    "На самом деле, вместо того, чтобы наращивать выборку, мы могли бы начать измерять метрику как-то по-другому, чтобы понизить ее дисперсию. Давайте разберемся, как это сделать."
   ]
  },
  {
   "cell_type": "markdown",
   "metadata": {},
   "source": [
    "## Откуда дисперсия в экспериментальных данных\n",
    "\n",
    "Дисперсия характеризует разброс данных. Частична она вызвана эффектом, который мы привнесли с помощью эксперимента в измеряемый показатель, а частично - просто поведением метрики самой по себе (дисперсия была и до эксперимента). Давайте попробуем посмотреть, как ее можно \"убавить\".\n",
    "\n"
   ]
  },
  {
   "cell_type": "markdown",
   "metadata": {},
   "source": [
    "## Стратификация\n",
    "\n",
    "Пусть у нас есть некоторая величина $Y$, у которой мы хотим оценить мат.ожидание $E(Y)$. Как бы мы стали это делать по умолчанию? Ну, можно было бы взять *n* независимых измерений жтой величины и потом по выборке посчитать среднее. При этом получиласт бы величина $\\overline{Y}$ с дисперсией примерно $var(\\overline{Y})=\\dfrac{var(Y)}{n}$\n",
    "\n",
    "Представим, что в наших наблюдениях есть явная стратификация (например по возрасту: младший, средний и старший) и мы явным образом можем семплировать наших пользователей из каждого возраста (удостовериться, что в эксперименте пропорции страт будут как в генеральной совокупности). Тогда если вероятность того, что пользователь окажется в страте номер $k$ равна $w_k$ и для выборки длины *n* мы хоти достать $w_k*n$ пользователей, можно определить новую величину:\n",
    "\n",
    "$$\\overline{Y}_{stratified} = \\sum_k{w_k \\overline{Y}_k}$$\n",
    "\n",
    "где $\\overline{Y}_k$ - среднее внутри страты номер *k*. Что интересно, такая оценка будет иметь дисперсию НЕ БОЛЬШЕ, чем исходная:\n",
    "\n",
    "$$var(\\overline{Y})=\\sum_k{w_k\\dfrac{\\sigma^2_k}{n}}+\\sum_k{w_k\\dfrac{(\\mu_k - \\mu)^2}{n}} \\ge \\sum_k{w_k\\dfrac{\\sigma^2_k}{n}} = var(\\overline{Y}_{stratified})$$"
   ]
  },
  {
   "cell_type": "markdown",
   "metadata": {},
   "source": [
    "На самом деле, здесь мы УЖЕ использовали предэкспериментальные данные. Мы \"объяснили\" часть дисперсии с помощью категориальной переменной, которая маркировала наши страты. Посмотрим на прмер."
   ]
  },
  {
   "cell_type": "markdown",
   "metadata": {},
   "source": [
    "##  Пример\n",
    "\n",
    "Пусть есть некий показатель, распределенный нормально в трех различных стратах:\n",
    "\n",
    "* В первой - со средним 30 и дисперсией 200 (размер страты 5000)\n",
    "* Во второй - со средним 20 и дисперсией 20 (размер страты 50000)\n",
    "* В третьей - со средним 40 и дисперсией 5 (размер страты 5000)"
   ]
  },
  {
   "cell_type": "code",
   "execution_count": 38,
   "metadata": {},
   "outputs": [],
   "source": [
    "import numpy as np\n",
    "\n",
    "strata_1 = np.random.normal(30, 200, 5000)\n",
    "strata_2 = np.random.normal(20, 20, 50000)\n",
    "strata_3  = np.random.normal(43, 5, 5000)\n",
    "total_data = np.concatenate((strata_1, strata_2, strata_3))"
   ]
  },
  {
   "cell_type": "markdown",
   "metadata": {},
   "source": [
    "Давайте извлечем из нашей генеральной совокупности 200 выборок по 6000 наблюдений каждая в двух вариантах:\n",
    "\n",
    "* Стратифицированном\n",
    "* Нестратифицированном\n",
    "\n",
    "На каждой из выборок посчитаем дисперсию и среднее и усредним эти показатели, а потом посмотрим, где дисперсия оказалась больше и насколько."
   ]
  },
  {
   "cell_type": "code",
   "execution_count": 39,
   "metadata": {},
   "outputs": [
    {
     "data": {
      "text/plain": [
       "0.08333333333333333"
      ]
     },
     "execution_count": 39,
     "metadata": {},
     "output_type": "execute_result"
    }
   ],
   "source": [
    "5000/(50000+5000+5000)"
   ]
  },
  {
   "cell_type": "code",
   "execution_count": 40,
   "metadata": {},
   "outputs": [],
   "source": [
    "sample = np.random.choice(total_data, n_samples, False)"
   ]
  },
  {
   "cell_type": "code",
   "execution_count": 41,
   "metadata": {},
   "outputs": [
    {
     "data": {
      "text/plain": [
       "(60000,)"
      ]
     },
     "execution_count": 41,
     "metadata": {},
     "output_type": "execute_result"
    }
   ],
   "source": [
    "total_data.shape"
   ]
  },
  {
   "cell_type": "code",
   "execution_count": null,
   "metadata": {},
   "outputs": [],
   "source": []
  },
  {
   "cell_type": "code",
   "execution_count": 42,
   "metadata": {},
   "outputs": [],
   "source": [
    "standard_mean = []\n",
    "stratified_mean = []\n",
    "\n",
    "n_samples = 200\n",
    "sample_size = 1000\n",
    "\n",
    "\n",
    "for i in range(n_samples):\n",
    "    res = []\n",
    "    sample = np.random.choice(total_data, n_samples, False)\n",
    "    standard_mean += [np.mean(sample)]\n",
    "    \n",
    "    for _ in range(sample_size):\n",
    "        random = np.random.random()\n",
    "        if random  < 5000/(50000+5000+5000):\n",
    "            res.append(np.random.choice(strata_1,replace = False))\n",
    "        elif random  > 5000/(50000+5000+5000) and random < (5000+50000)/(50000+5000+5000):\n",
    "            res.append(np.random.choice(strata_2,replace = False))\n",
    "        else:\n",
    "            res.append(np.random.choice(strata_3,replace = False))\n",
    "    stratified_mean += [np.mean(res)]"
   ]
  },
  {
   "cell_type": "code",
   "execution_count": 43,
   "metadata": {},
   "outputs": [
    {
     "name": "stdout",
     "output_type": "stream",
     "text": [
      "Среднее 23.14955729519615\n",
      "Стратифицированное среднее 22.77460641238968\n",
      "Дисперсия среднего на стандартных выборках 19.19157391103216\n",
      "Дисперсия среднего на стратифицированных выборках 3.764424070935328\n"
     ]
    }
   ],
   "source": [
    "print('Среднее', np.mean(standard_mean))\n",
    "print('Стратифицированное среднее', np.mean(stratified_mean))\n",
    "\n",
    "print('Дисперсия среднего на стандартных выборках', np.var(standard_mean))\n",
    "print('Дисперсия среднего на стратифицированных выборках', np.var(stratified_mean))"
   ]
  },
  {
   "cell_type": "markdown",
   "metadata": {},
   "source": [
    "Как видите, в данном случае стратификация понизила дисперсию. Попробуйте теоретически оценить, насколько понизится дисперсия показателя, если взять обычную выборку и стратифицированную выборку длины 7000."
   ]
  },
  {
   "cell_type": "markdown",
   "metadata": {},
   "source": [
    "## CUPED\n",
    "\n",
    "also known as **C**ontrolled Experiment **u**sing **P**re-**E**xperimental **D**ata\n",
    "\n",
    "Часть дисперсии, которую могут объяснить данные до эксперимента, не связана с нашим влиянием и, следовательно, может быть из эксперимента удалена. Давайте представим, что мы booking.com и проводим рекламный эксперимент с объектами недвижимости в попытке увеличить количество бронирований в день. Количество бронирований на один объект недвижимости может существенно разниться (например от нуля до тысяч), поэтому дисперсия показателя может оказаться существенной. Часто мы знаем среднее количество бронирований в день до эксперимента., тогда можно сразу проверять, начинают ли объекты получать больше, меньше или столько же бронирований по сравнению со своим средним результатом до эксперимента. Разброс в такой метрике будет существенно меньше.\n"
   ]
  },
  {
   "cell_type": "markdown",
   "metadata": {},
   "source": [
    "Давайте сделаем шаг назад и посмотрим, как нам могут помочь так называемые контрольные переменные (то, с помощью чего мы собрались понижать дисперсию).\n",
    "\n",
    "Представим, что мы измеряем метрику $Y$. Допустим, что помимо нее у нас есть еще одна случайная величина $X$, у которой нам хорошо известно мат.ожидание. Допустим, что мы хотим по выборке считать $\\overline{Y}$. Сконструируем выборку из пар $(Y_i, X_i)$ (например значение метрики в эксперименте, значение метрики до эксперимента) и построим такую величину:\n",
    "\n",
    "$$\\hat Y_{cv} = \\overline Y - \\theta\\overline X +\\theta E(X)$$\n",
    "\n",
    "Здесь $\\theta$ - какое-то число. Нетрудно догадаться, что $\\hat Y_{cv}$ - несмещенная оценка для $E(Y)$, потому что:\n",
    "\n",
    "$$E(\\hat Y_{cv}) = E(\\overline Y) - E(\\theta\\overline X) +E(\\theta E(X)) = E(\\overline Y)$$\n",
    "\n",
    "Тогда:\n",
    "\n",
    "$$var(\\hat Y_{cv}) = var(\\overline Y - \\theta\\overline X) = \\dfrac{1}{n}(var(Y)+\\theta^2var(X)-2\\theta cov(Y,X))$$\n",
    "\n",
    "Это выражение будет минимальным, если выбрать:\n",
    "$$\\theta = \\dfrac{cov(Y,X)}{var{X}}$$\n",
    "\n",
    "Отлично, так и сделаем. При таком выборе наша дисперсия будет равна:\n",
    "\n",
    "$$var(\\hat Y_{cv}) = var(\\overline Y)(1-\\rho^2)$$\n",
    "\n",
    "где $\\rho$- коэффициент корреляции *Y* и *X*. \n",
    "\n",
    "Все это означает, чт если мы найдем такой *X*, что он будет сильно скоррелирован с *Y*, с помощью него мы сможем значительно уменьшить дисперсию."
   ]
  },
  {
   "cell_type": "markdown",
   "metadata": {},
   "source": [
    "<img src = \"https://miro.medium.com/max/1400/1*pGrlReRtxpgzgRT6sBZxTA.png\">"
   ]
  },
  {
   "cell_type": "markdown",
   "metadata": {},
   "source": [
    "## Пример.\n",
    "\n",
    "Представим, что мы - голосовой помощник. Мы выкатили новый диалоговый алгоритм в приложение на платформу iOS и хотим проверить, стали ли наши пользователи в среднем \"болтать\" с приложением больше.Для этого решили измерить количество фраз на пользователя в среднем в неделю.  В группе \"EXP1\" наша новая функциональность есть, а в группе \"ВASE\" ее нет. Также у нас есть данные до эксперимента. Давайте посмотрим, какой мы получим результат и поможет ли нам здесь CUPED."
   ]
  },
  {
   "cell_type": "code",
   "execution_count": 1,
   "metadata": {},
   "outputs": [],
   "source": [
    "import pandas as pd\n",
    "import numpy as np\n",
    "from scipy.stats import ttest_ind\n",
    "from statsmodels.stats.weightstats import *\n",
    "from matplotlib import pyplot"
   ]
  },
  {
   "cell_type": "code",
   "execution_count": null,
   "metadata": {},
   "outputs": [],
   "source": [
    "exp = pd.read_csv('queries_per_user.csv')"
   ]
  },
  {
   "cell_type": "code",
   "execution_count": 31,
   "metadata": {},
   "outputs": [
    {
     "data": {
      "text/plain": [
       "(73084, 4)"
      ]
     },
     "execution_count": 31,
     "metadata": {},
     "output_type": "execute_result"
    }
   ],
   "source": [
    "exp.shape"
   ]
  },
  {
   "cell_type": "markdown",
   "metadata": {},
   "source": [
    "Глянем, нормальное ли у нас распределение"
   ]
  },
  {
   "cell_type": "code",
   "execution_count": 146,
   "metadata": {},
   "outputs": [
    {
     "data": {
      "image/png": "[encoded data removed]",
      "text/plain": [
       "<Figure size 432x288 with 1 Axes>"
      ]
     },
     "metadata": {
      "needs_background": "light"
     },
     "output_type": "display_data"
    }
   ],
   "source": [
    "f = stats.probplot(df[df.exp_group == 'EXP1'].phrases, dist=\"norm\", plot=pyplot)"
   ]
  },
  {
   "cell_type": "markdown",
   "metadata": {},
   "source": [
    "Не особо. Ну и ладно, мы же про нормальность при выводе CUPED нигде не говорили."
   ]
  },
  {
   "cell_type": "code",
   "execution_count": 147,
   "metadata": {},
   "outputs": [],
   "source": [
    "metric = df.phrases.values\n",
    "covariate = df.phrases_before.values\n",
    "\n",
    "cov = np.mean((metric*covariate)) - np.mean(covariate)*np.mean(metric) \n"
   ]
  },
  {
   "cell_type": "code",
   "execution_count": 148,
   "metadata": {},
   "outputs": [
    {
     "data": {
      "text/plain": [
       "2303.7802148867395"
      ]
     },
     "execution_count": 148,
     "metadata": {},
     "output_type": "execute_result"
    }
   ],
   "source": [
    "cov"
   ]
  },
  {
   "cell_type": "code",
   "execution_count": 149,
   "metadata": {},
   "outputs": [],
   "source": [
    "theta = cov / np.var(covariate)\n",
    "mean_cov = np.mean(covariate)\n",
    "df['phrases_cuped'] = df.phrases - (df.phrases_before - mean_cov) * theta"
   ]
  },
  {
   "cell_type": "markdown",
   "metadata": {},
   "source": [
    "Теперь считаем дисперсию :)"
   ]
  },
  {
   "cell_type": "code",
   "execution_count": 150,
   "metadata": {},
   "outputs": [],
   "source": [
    "cuped_exp_2  = df.phrases_cuped[df.exp_group=='EXP1']\n",
    "exp_2 = df.phrases[df.exp_group=='EXP1']"
   ]
  },
  {
   "cell_type": "code",
   "execution_count": 152,
   "metadata": {},
   "outputs": [
    {
     "name": "stdout",
     "output_type": "stream",
     "text": [
      "Среднее CUPED-метрики 17.179735771883923\n",
      "Среднее 17.10536266758336\n",
      "\n",
      "Дисперсия CUPED-метрики 1698.399635602106\n",
      "Дисперсия 2638.3768155182743\n",
      "\n",
      "Понизили дисперсию на 35.6 %\n"
     ]
    }
   ],
   "source": [
    "print('Среднее CUPED-метрики', np.mean(cuped_exp_2))\n",
    "print('Среднее',np.mean(exp_2))\n",
    "print('')\n",
    "print('Дисперсия CUPED-метрики', np.var(cuped_exp_2))\n",
    "print('Дисперсия', np.var(exp_2))\n",
    "print('')\n",
    "print('Понизили дисперсию на', round((1 - np.var(cuped_exp_2)/np.var(exp_2))*100,1),'%')"
   ]
  },
  {
   "cell_type": "markdown",
   "metadata": {},
   "source": [
    "А теперь важный вопрос: результат теста-то какой? Ниже привел данные по обеим группам."
   ]
  },
  {
   "cell_type": "code",
   "execution_count": 132,
   "metadata": {},
   "outputs": [
    {
     "data": {
      "text/html": [
       "<div>\n",
       "<style scoped>\n",
       "    .dataframe tbody tr th:only-of-type {\n",
       "        vertical-align: middle;\n",
       "    }\n",
       "\n",
       "    .dataframe tbody tr th {\n",
       "        vertical-align: top;\n",
       "    }\n",
       "\n",
       "    .dataframe thead tr th {\n",
       "        text-align: left;\n",
       "    }\n",
       "\n",
       "    .dataframe thead tr:last-of-type th {\n",
       "        text-align: right;\n",
       "    }\n",
       "</style>\n",
       "<table border=\"1\" class=\"dataframe\">\n",
       "  <thead>\n",
       "    <tr>\n",
       "      <th></th>\n",
       "      <th colspan=\"8\" halign=\"left\">phrases</th>\n",
       "      <th colspan=\"8\" halign=\"left\">phrases_before</th>\n",
       "    </tr>\n",
       "    <tr>\n",
       "      <th></th>\n",
       "      <th>count</th>\n",
       "      <th>mean</th>\n",
       "      <th>std</th>\n",
       "      <th>min</th>\n",
       "      <th>25%</th>\n",
       "      <th>50%</th>\n",
       "      <th>75%</th>\n",
       "      <th>max</th>\n",
       "      <th>count</th>\n",
       "      <th>mean</th>\n",
       "      <th>std</th>\n",
       "      <th>min</th>\n",
       "      <th>25%</th>\n",
       "      <th>50%</th>\n",
       "      <th>75%</th>\n",
       "      <th>max</th>\n",
       "    </tr>\n",
       "    <tr>\n",
       "      <th>exp_group</th>\n",
       "      <th></th>\n",
       "      <th></th>\n",
       "      <th></th>\n",
       "      <th></th>\n",
       "      <th></th>\n",
       "      <th></th>\n",
       "      <th></th>\n",
       "      <th></th>\n",
       "      <th></th>\n",
       "      <th></th>\n",
       "      <th></th>\n",
       "      <th></th>\n",
       "      <th></th>\n",
       "      <th></th>\n",
       "      <th></th>\n",
       "      <th></th>\n",
       "    </tr>\n",
       "  </thead>\n",
       "  <tbody>\n",
       "    <tr>\n",
       "      <th>BASE</th>\n",
       "      <td>58539.0</td>\n",
       "      <td>15.607638</td>\n",
       "      <td>55.710418</td>\n",
       "      <td>0.5</td>\n",
       "      <td>2.0</td>\n",
       "      <td>5.5</td>\n",
       "      <td>15.0</td>\n",
       "      <td>9070.5</td>\n",
       "      <td>58539.0</td>\n",
       "      <td>24.484566</td>\n",
       "      <td>66.213436</td>\n",
       "      <td>0.5</td>\n",
       "      <td>2.5</td>\n",
       "      <td>8.0</td>\n",
       "      <td>24.5</td>\n",
       "      <td>8575.5</td>\n",
       "    </tr>\n",
       "    <tr>\n",
       "      <th>EXP1</th>\n",
       "      <td>14545.0</td>\n",
       "      <td>17.105363</td>\n",
       "      <td>51.366898</td>\n",
       "      <td>0.5</td>\n",
       "      <td>2.0</td>\n",
       "      <td>6.0</td>\n",
       "      <td>17.0</td>\n",
       "      <td>3114.0</td>\n",
       "      <td>14545.0</td>\n",
       "      <td>24.315641</td>\n",
       "      <td>58.438150</td>\n",
       "      <td>0.5</td>\n",
       "      <td>2.5</td>\n",
       "      <td>8.0</td>\n",
       "      <td>24.0</td>\n",
       "      <td>2558.0</td>\n",
       "    </tr>\n",
       "  </tbody>\n",
       "</table>\n",
       "</div>"
      ],
      "text/plain": [
       "           phrases                                                     \\\n",
       "             count       mean        std  min  25%  50%   75%     max   \n",
       "exp_group                                                               \n",
       "BASE       58539.0  15.607638  55.710418  0.5  2.0  5.5  15.0  9070.5   \n",
       "EXP1       14545.0  17.105363  51.366898  0.5  2.0  6.0  17.0  3114.0   \n",
       "\n",
       "          phrases_before                                                     \n",
       "                   count       mean        std  min  25%  50%   75%     max  \n",
       "exp_group                                                                    \n",
       "BASE             58539.0  24.484566  66.213436  0.5  2.5  8.0  24.5  8575.5  \n",
       "EXP1             14545.0  24.315641  58.438150  0.5  2.5  8.0  24.0  2558.0  "
      ]
     },
     "execution_count": 132,
     "metadata": {},
     "output_type": "execute_result"
    }
   ],
   "source": [
    "df.groupby('exp_group').describe()"
   ]
  }
 ],
 "metadata": {
  "kernelspec": {
   "display_name": "Python 3",
   "language": "python",
   "name": "python3"
  },
  "language_info": {
   "codemirror_mode": {
    "name": "ipython",
    "version": 3
   },
   "file_extension": ".py",
   "mimetype": "text/x-python",
   "name": "python",
   "nbconvert_exporter": "python",
   "pygments_lexer": "ipython3",
   "version": "3.8.3"
  }
 },
 "nbformat": 4,
 "nbformat_minor": 2
}
