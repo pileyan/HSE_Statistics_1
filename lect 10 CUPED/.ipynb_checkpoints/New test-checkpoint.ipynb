{
 "cells": [
  {
   "cell_type": "code",
   "execution_count": 12,
   "metadata": {},
   "outputs": [],
   "source": [
    "import pandas as pd"
   ]
  },
  {
   "cell_type": "code",
   "execution_count": 13,
   "metadata": {},
   "outputs": [],
   "source": [
    "df = pd.read_csv('news test.csv')"
   ]
  },
  {
   "cell_type": "code",
   "execution_count": 14,
   "metadata": {},
   "outputs": [
    {
     "data": {
      "text/plain": [
       "(251693, 37)"
      ]
     },
     "execution_count": 14,
     "metadata": {},
     "output_type": "execute_result"
    }
   ],
   "source": [
    "df.shape"
   ]
  },
  {
   "cell_type": "code",
   "execution_count": 19,
   "metadata": {},
   "outputs": [
    {
     "data": {
      "text/plain": [
       "array(['control', 'хронология'], dtype=object)"
      ]
     },
     "execution_count": 19,
     "metadata": {},
     "output_type": "execute_result"
    }
   ],
   "source": [
    "df.exp_group.unique()"
   ]
  },
  {
   "cell_type": "code",
   "execution_count": 22,
   "metadata": {},
   "outputs": [],
   "source": [
    "df = df.drop(['is_biterika', 'is_yandex', 'is_sber', 'is_rntv',\n",
    "       'is_vtb', 'is_telegram_bot', 'is_yandex_bot', 'is_medialogia',\n",
    "       'is_selectel', 'is_interfax', 'is_RT'], axis = 1)"
   ]
  },
  {
   "cell_type": "code",
   "execution_count": 27,
   "metadata": {},
   "outputs": [
    {
     "data": {
      "text/plain": [
       "Index(['d', 'exp_group', 'bot_flg', 'user_info_user_agent',\n",
       "       'user_info_yandex_uid', 'total_clicks_', 'time_to_first_click_',\n",
       "       'first_click_pos_', 'sum_pos', 'end2end_sum_pos', 'kommersant',\n",
       "       'kommersant_shows', 'rbc', 'rbc_shows', 'ria', 'ria_shows', 'lenta',\n",
       "       'lenta_shows', 'tass', 'tass_shows', 'iz', 'iz_shows', 'interfax',\n",
       "       'interfax_shows', 'queries', 'empty_results'],\n",
       "      dtype='object')"
      ]
     },
     "execution_count": 27,
     "metadata": {},
     "output_type": "execute_result"
    }
   ],
   "source": [
    "df.columns"
   ]
  },
  {
   "cell_type": "code",
   "execution_count": 28,
   "metadata": {},
   "outputs": [],
   "source": [
    "df= df.drop(['user_info_user_agent', 'kommersant',\n",
    "       'kommersant_shows', 'rbc', 'rbc_shows', 'ria', 'ria_shows', 'lenta',\n",
    "       'lenta_shows', 'tass', 'tass_shows', 'iz', 'iz_shows', 'interfax',\n",
    "       'interfax_shows'], axis = 1)"
   ]
  },
  {
   "cell_type": "code",
   "execution_count": 29,
   "metadata": {},
   "outputs": [
    {
     "data": {
      "text/html": [
       "<div>\n",
       "<style scoped>\n",
       "    .dataframe tbody tr th:only-of-type {\n",
       "        vertical-align: middle;\n",
       "    }\n",
       "\n",
       "    .dataframe tbody tr th {\n",
       "        vertical-align: top;\n",
       "    }\n",
       "\n",
       "    .dataframe thead th {\n",
       "        text-align: right;\n",
       "    }\n",
       "</style>\n",
       "<table border=\"1\" class=\"dataframe\">\n",
       "  <thead>\n",
       "    <tr style=\"text-align: right;\">\n",
       "      <th></th>\n",
       "      <th>d</th>\n",
       "      <th>exp_group</th>\n",
       "      <th>bot_flg</th>\n",
       "      <th>user_info_yandex_uid</th>\n",
       "      <th>total_clicks_</th>\n",
       "      <th>time_to_first_click_</th>\n",
       "      <th>first_click_pos_</th>\n",
       "      <th>sum_pos</th>\n",
       "      <th>end2end_sum_pos</th>\n",
       "      <th>queries</th>\n",
       "      <th>empty_results</th>\n",
       "    </tr>\n",
       "  </thead>\n",
       "  <tbody>\n",
       "    <tr>\n",
       "      <th>0</th>\n",
       "      <td>26/04/23</td>\n",
       "      <td>control</td>\n",
       "      <td>0</td>\n",
       "      <td>1865850381682515486</td>\n",
       "      <td>0</td>\n",
       "      <td>0</td>\n",
       "      <td>0</td>\n",
       "      <td>0</td>\n",
       "      <td>0</td>\n",
       "      <td>1</td>\n",
       "      <td>1</td>\n",
       "    </tr>\n",
       "    <tr>\n",
       "      <th>1</th>\n",
       "      <td>28/04/23</td>\n",
       "      <td>хронология</td>\n",
       "      <td>0</td>\n",
       "      <td>8022259061682679060</td>\n",
       "      <td>0</td>\n",
       "      <td>0</td>\n",
       "      <td>0</td>\n",
       "      <td>0</td>\n",
       "      <td>0</td>\n",
       "      <td>1</td>\n",
       "      <td>0</td>\n",
       "    </tr>\n",
       "    <tr>\n",
       "      <th>2</th>\n",
       "      <td>28/04/23</td>\n",
       "      <td>control</td>\n",
       "      <td>1</td>\n",
       "      <td>8516704241675260594</td>\n",
       "      <td>0</td>\n",
       "      <td>0</td>\n",
       "      <td>0</td>\n",
       "      <td>0</td>\n",
       "      <td>0</td>\n",
       "      <td>278</td>\n",
       "      <td>203</td>\n",
       "    </tr>\n",
       "    <tr>\n",
       "      <th>3</th>\n",
       "      <td>01/05/23</td>\n",
       "      <td>control</td>\n",
       "      <td>0</td>\n",
       "      <td>6430450711682974597</td>\n",
       "      <td>0</td>\n",
       "      <td>0</td>\n",
       "      <td>0</td>\n",
       "      <td>0</td>\n",
       "      <td>0</td>\n",
       "      <td>1</td>\n",
       "      <td>0</td>\n",
       "    </tr>\n",
       "    <tr>\n",
       "      <th>4</th>\n",
       "      <td>27/04/23</td>\n",
       "      <td>хронология</td>\n",
       "      <td>0</td>\n",
       "      <td>5047628321682545957</td>\n",
       "      <td>0</td>\n",
       "      <td>0</td>\n",
       "      <td>0</td>\n",
       "      <td>0</td>\n",
       "      <td>0</td>\n",
       "      <td>1</td>\n",
       "      <td>0</td>\n",
       "    </tr>\n",
       "    <tr>\n",
       "      <th>...</th>\n",
       "      <td>...</td>\n",
       "      <td>...</td>\n",
       "      <td>...</td>\n",
       "      <td>...</td>\n",
       "      <td>...</td>\n",
       "      <td>...</td>\n",
       "      <td>...</td>\n",
       "      <td>...</td>\n",
       "      <td>...</td>\n",
       "      <td>...</td>\n",
       "      <td>...</td>\n",
       "    </tr>\n",
       "    <tr>\n",
       "      <th>251688</th>\n",
       "      <td>28/04/23</td>\n",
       "      <td>control</td>\n",
       "      <td>0</td>\n",
       "      <td>4935607761674553118</td>\n",
       "      <td>0</td>\n",
       "      <td>0</td>\n",
       "      <td>0</td>\n",
       "      <td>0</td>\n",
       "      <td>0</td>\n",
       "      <td>2</td>\n",
       "      <td>0</td>\n",
       "    </tr>\n",
       "    <tr>\n",
       "      <th>251689</th>\n",
       "      <td>26/04/23</td>\n",
       "      <td>хронология</td>\n",
       "      <td>0</td>\n",
       "      <td>4832233251682471511</td>\n",
       "      <td>0</td>\n",
       "      <td>0</td>\n",
       "      <td>0</td>\n",
       "      <td>0</td>\n",
       "      <td>0</td>\n",
       "      <td>1</td>\n",
       "      <td>0</td>\n",
       "    </tr>\n",
       "    <tr>\n",
       "      <th>251690</th>\n",
       "      <td>29/04/23</td>\n",
       "      <td>control</td>\n",
       "      <td>0</td>\n",
       "      <td>5520044421682742770</td>\n",
       "      <td>0</td>\n",
       "      <td>0</td>\n",
       "      <td>0</td>\n",
       "      <td>0</td>\n",
       "      <td>0</td>\n",
       "      <td>1</td>\n",
       "      <td>0</td>\n",
       "    </tr>\n",
       "    <tr>\n",
       "      <th>251691</th>\n",
       "      <td>29/04/23</td>\n",
       "      <td>control</td>\n",
       "      <td>0</td>\n",
       "      <td>9995464511682731826</td>\n",
       "      <td>0</td>\n",
       "      <td>0</td>\n",
       "      <td>0</td>\n",
       "      <td>0</td>\n",
       "      <td>0</td>\n",
       "      <td>1</td>\n",
       "      <td>0</td>\n",
       "    </tr>\n",
       "    <tr>\n",
       "      <th>251692</th>\n",
       "      <td>01/05/23</td>\n",
       "      <td>хронология</td>\n",
       "      <td>0</td>\n",
       "      <td>8870670211682936876</td>\n",
       "      <td>0</td>\n",
       "      <td>0</td>\n",
       "      <td>0</td>\n",
       "      <td>0</td>\n",
       "      <td>0</td>\n",
       "      <td>1</td>\n",
       "      <td>0</td>\n",
       "    </tr>\n",
       "  </tbody>\n",
       "</table>\n",
       "<p>251693 rows × 11 columns</p>\n",
       "</div>"
      ],
      "text/plain": [
       "               d   exp_group  bot_flg  user_info_yandex_uid  total_clicks_  \\\n",
       "0       26/04/23     control        0   1865850381682515486              0   \n",
       "1       28/04/23  хронология        0   8022259061682679060              0   \n",
       "2       28/04/23     control        1   8516704241675260594              0   \n",
       "3       01/05/23     control        0   6430450711682974597              0   \n",
       "4       27/04/23  хронология        0   5047628321682545957              0   \n",
       "...          ...         ...      ...                   ...            ...   \n",
       "251688  28/04/23     control        0   4935607761674553118              0   \n",
       "251689  26/04/23  хронология        0   4832233251682471511              0   \n",
       "251690  29/04/23     control        0   5520044421682742770              0   \n",
       "251691  29/04/23     control        0   9995464511682731826              0   \n",
       "251692  01/05/23  хронология        0   8870670211682936876              0   \n",
       "\n",
       "        time_to_first_click_  first_click_pos_  sum_pos  end2end_sum_pos  \\\n",
       "0                          0                 0        0                0   \n",
       "1                          0                 0        0                0   \n",
       "2                          0                 0        0                0   \n",
       "3                          0                 0        0                0   \n",
       "4                          0                 0        0                0   \n",
       "...                      ...               ...      ...              ...   \n",
       "251688                     0                 0        0                0   \n",
       "251689                     0                 0        0                0   \n",
       "251690                     0                 0        0                0   \n",
       "251691                     0                 0        0                0   \n",
       "251692                     0                 0        0                0   \n",
       "\n",
       "        queries  empty_results  \n",
       "0             1              1  \n",
       "1             1              0  \n",
       "2           278            203  \n",
       "3             1              0  \n",
       "4             1              0  \n",
       "...         ...            ...  \n",
       "251688        2              0  \n",
       "251689        1              0  \n",
       "251690        1              0  \n",
       "251691        1              0  \n",
       "251692        1              0  \n",
       "\n",
       "[251693 rows x 11 columns]"
      ]
     },
     "execution_count": 29,
     "metadata": {},
     "output_type": "execute_result"
    }
   ],
   "source": [
    "df"
   ]
  },
  {
   "cell_type": "code",
   "execution_count": null,
   "metadata": {},
   "outputs": [],
   "source": []
  }
 ],
 "metadata": {
  "kernelspec": {
   "display_name": "py38",
   "language": "python",
   "name": "py38"
  },
  "language_info": {
   "codemirror_mode": {
    "name": "ipython",
    "version": 3
   },
   "file_extension": ".py",
   "mimetype": "text/x-python",
   "name": "python",
   "nbconvert_exporter": "python",
   "pygments_lexer": "ipython3",
   "version": "3.8.18"
  }
 },
 "nbformat": 4,
 "nbformat_minor": 4
}
