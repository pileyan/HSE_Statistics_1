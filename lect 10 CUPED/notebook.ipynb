{
 "cells": [
  {
   "cell_type": "markdown",
   "id": "625f940a-e75a-478e-bca8-093d6ff9e68a",
   "metadata": {},
   "source": [
    "# Что надо для АБ\n",
    "\n",
    "1) Формулировка гипотезы (0 - результаты одинаковые, альтернатива - есть разница)\n",
    "\n",
    "2) выкатили новую механику ответов на вопросы - стало ли лучше?\n",
    "\n",
    "3) Метрика - количество целевых действий на пользователя\n",
    "\n",
    "4) Делим пользователей на группы. (соленое хеширование) (исходя из ожидаемого эффекта)\n",
    "\n",
    "5) Запускаем\n",
    "\n",
    "6) Ждем"
   ]
  },
  {
   "cell_type": "markdown",
   "id": "1b6e1d26-a294-488a-811e-84160c33381e",
   "metadata": {},
   "source": [
    "1) Кол-во действий\n",
    "\n",
    "2) Время на пользователя\n",
    "\n",
    "3) Retention rate\n",
    "\n",
    "    Доля новых пользователей, которые пришли во время теста и вернулись после этого на день X\n",
    "\n",
    "4) Кол-во вопросов\n",
    "\n",
    "5) Кол-во других действий определенного сорта\n",
    "\n",
    "6) Кол-во \"затыканий\"\n",
    "\n",
    "7) Время задержки (Latency)\n",
    "\n"
   ]
  },
  {
   "cell_type": "code",
   "execution_count": 1,
   "id": "6450422d-7c13-4e5f-b7be-c7d41a28a559",
   "metadata": {},
   "outputs": [],
   "source": [
    "import pandas as pd"
   ]
  },
  {
   "cell_type": "code",
   "execution_count": 29,
   "id": "8f71e183-2571-41db-af55-25a52030178c",
   "metadata": {},
   "outputs": [],
   "source": [
    "df = pd.read_csv('queries_per_user.csv')"
   ]
  },
  {
   "cell_type": "code",
   "execution_count": 30,
   "id": "b92af4c4-5472-4ae0-b7f9-fe9a92b5a199",
   "metadata": {},
   "outputs": [
    {
     "data": {
      "text/plain": [
       "exp_group\n",
       "BASE    58539\n",
       "EXP1    14545\n",
       "Name: device_id, dtype: int64"
      ]
     },
     "execution_count": 30,
     "metadata": {},
     "output_type": "execute_result"
    }
   ],
   "source": [
    "df.groupby('exp_group')['device_id'].nunique()"
   ]
  },
  {
   "cell_type": "code",
   "execution_count": 8,
   "id": "1683efc2-702d-4441-a00f-74ce9ed29929",
   "metadata": {},
   "outputs": [
    {
     "name": "stdout",
     "output_type": "stream",
     "text": [
      "Collecting duckdb\n",
      "  Downloading duckdb-0.10.1-cp311-cp311-macosx_11_0_arm64.whl.metadata (763 bytes)\n",
      "Downloading duckdb-0.10.1-cp311-cp311-macosx_11_0_arm64.whl (14.3 MB)\n",
      "\u001b[2K   \u001b[90m━━━━━━━━━━━━━━━━━━━━━━━━━━━━━━━━━━━━━━━━\u001b[0m \u001b[32m14.3/14.3 MB\u001b[0m \u001b[31m1.3 MB/s\u001b[0m eta \u001b[36m0:00:00\u001b[0m00:01\u001b[0m00:01\u001b[0mm\n",
      "\u001b[?25hInstalling collected packages: duckdb\n",
      "Successfully installed duckdb-0.10.1\n"
     ]
    }
   ],
   "source": [
    "!pip install duckdb"
   ]
  },
  {
   "cell_type": "code",
   "execution_count": 10,
   "id": "faebe878-3684-40f3-b807-b11302dac550",
   "metadata": {},
   "outputs": [
    {
     "data": {
      "text/html": [
       "<div>\n",
       "<style scoped>\n",
       "    .dataframe tbody tr th:only-of-type {\n",
       "        vertical-align: middle;\n",
       "    }\n",
       "\n",
       "    .dataframe tbody tr th {\n",
       "        vertical-align: top;\n",
       "    }\n",
       "\n",
       "    .dataframe thead th {\n",
       "        text-align: right;\n",
       "    }\n",
       "</style>\n",
       "<table border=\"1\" class=\"dataframe\">\n",
       "  <thead>\n",
       "    <tr style=\"text-align: right;\">\n",
       "      <th></th>\n",
       "      <th>exp_group</th>\n",
       "      <th>count(DISTINCT device_id)</th>\n",
       "    </tr>\n",
       "  </thead>\n",
       "  <tbody>\n",
       "    <tr>\n",
       "      <th>0</th>\n",
       "      <td>EXP1</td>\n",
       "      <td>14545</td>\n",
       "    </tr>\n",
       "    <tr>\n",
       "      <th>1</th>\n",
       "      <td>BASE</td>\n",
       "      <td>58539</td>\n",
       "    </tr>\n",
       "  </tbody>\n",
       "</table>\n",
       "</div>"
      ],
      "text/plain": [
       "  exp_group  count(DISTINCT device_id)\n",
       "0      EXP1                      14545\n",
       "1      BASE                      58539"
      ]
     },
     "execution_count": 10,
     "metadata": {},
     "output_type": "execute_result"
    }
   ],
   "source": [
    "import duckdb\n",
    "\n",
    "q = '''\n",
    "SELECT exp_group, count(distinct device_id)\n",
    "FROM df\n",
    "group by exp_group\n",
    "'''\n",
    "\n",
    "duckdb.query(q).to_df()"
   ]
  },
  {
   "cell_type": "code",
   "execution_count": 15,
   "id": "b12dddf4-a1a2-4a72-8563-a5051cdb8635",
   "metadata": {},
   "outputs": [
    {
     "data": {
      "text/plain": [
       "<Axes: >"
      ]
     },
     "execution_count": 15,
     "metadata": {},
     "output_type": "execute_result"
    },
    {
     "data": {
      "image/png": "[encoded data removed]",
      "text/plain": [
       "<Figure size 640x480 with 1 Axes>"
      ]
     },
     "metadata": {},
     "output_type": "display_data"
    }
   ],
   "source": [
    "df[(df.exp_group == 'EXP1')&(df.phrases <= 300)].phrases.hist()"
   ]
  },
  {
   "cell_type": "code",
   "execution_count": 31,
   "id": "e40ccd8d-1061-4e12-9236-2f82ff31f4dc",
   "metadata": {},
   "outputs": [],
   "source": [
    "from scipy.stats import ttest_ind"
   ]
  },
  {
   "cell_type": "code",
   "execution_count": 32,
   "id": "3ef87c5a-6542-4591-90e7-511504ff7a97",
   "metadata": {},
   "outputs": [],
   "source": [
    "exp = df[(df.exp_group == 'EXP1')].phrases\n",
    "ctrl = df[(df.exp_group != 'EXP1')].phrases"
   ]
  },
  {
   "cell_type": "code",
   "execution_count": 33,
   "id": "e93ed850-df5d-467d-a75a-6fc3e91f4a87",
   "metadata": {},
   "outputs": [
    {
     "data": {
      "text/plain": [
       "(17.10536266758336, 15.607637643280547)"
      ]
     },
     "execution_count": 33,
     "metadata": {},
     "output_type": "execute_result"
    }
   ],
   "source": [
    "exp.mean(),ctrl.mean()"
   ]
  },
  {
   "cell_type": "code",
   "execution_count": 24,
   "id": "afe43bf8-6aff-4455-8dd0-148fc10d32f1",
   "metadata": {},
   "outputs": [
    {
     "data": {
      "text/plain": [
       "TtestResult(statistic=3.0933571820495596, pvalue=0.0019813506058485616, df=23782.947298823212)"
      ]
     },
     "execution_count": 24,
     "metadata": {},
     "output_type": "execute_result"
    }
   ],
   "source": [
    "ttest_ind(exp,ctrl, equal_var = False)"
   ]
  },
  {
   "cell_type": "code",
   "execution_count": 34,
   "id": "00d5c663-78ad-4684-ab40-e61c39f709a1",
   "metadata": {},
   "outputs": [],
   "source": [
    "df = df[(df.phrases < 1000) & (df.phrases_before < 1000)]"
   ]
  },
  {
   "cell_type": "code",
   "execution_count": 36,
   "id": "10459d98-4735-48da-b6ef-0fa555d87018",
   "metadata": {},
   "outputs": [],
   "source": [
    "exp = df[(df.exp_group == 'EXP1')].phrases\n",
    "ctrl = df[(df.exp_group != 'EXP1')].phrases"
   ]
  },
  {
   "cell_type": "code",
   "execution_count": 37,
   "id": "ce4170d7-7bda-4953-920c-169180eff8a7",
   "metadata": {},
   "outputs": [
    {
     "data": {
      "text/plain": [
       "TtestResult(statistic=4.249616094368319, pvalue=2.15040589299793e-05, df=21459.772239403206)"
      ]
     },
     "execution_count": 37,
     "metadata": {},
     "output_type": "execute_result"
    }
   ],
   "source": [
    "ttest_ind(exp,ctrl, equal_var = False)"
   ]
  },
  {
   "cell_type": "code",
   "execution_count": 39,
   "id": "ebf1819f-d391-4c7c-abd6-2c1b811d3711",
   "metadata": {},
   "outputs": [
    {
     "data": {
      "text/plain": [
       "1.08773793477331"
      ]
     },
     "execution_count": 39,
     "metadata": {},
     "output_type": "execute_result"
    }
   ],
   "source": [
    "exp.mean()/ctrl.mean()"
   ]
  },
  {
   "cell_type": "code",
   "execution_count": 71,
   "id": "8e98aa3c-d6c5-4644-a5ac-8cd9589d4206",
   "metadata": {},
   "outputs": [],
   "source": [
    "import numpy as np\n",
    "from scipy.stats import binom, norm"
   ]
  },
  {
   "cell_type": "code",
   "execution_count": 67,
   "id": "55c49247-6bae-40e7-b5d5-4f05f318951f",
   "metadata": {},
   "outputs": [],
   "source": [
    "# x_clicks = binom(n=x_views, p=theta1).rvs()"
   ]
  },
  {
   "cell_type": "code",
   "execution_count": 69,
   "id": "2b5ea5eb-21d0-4ac4-8b47-d3f123f9db2b",
   "metadata": {},
   "outputs": [
    {
     "data": {
      "text/plain": [
       "0.0009260305801827149"
      ]
     },
     "execution_count": 69,
     "metadata": {},
     "output_type": "execute_result"
    }
   ],
   "source": [
    "y_views.min()"
   ]
  },
  {
   "cell_type": "code",
   "execution_count": 82,
   "id": "ec813212-058d-4152-a350-7c3d0c30442d",
   "metadata": {},
   "outputs": [],
   "source": [
    "mu = 1\n",
    "sigma2 = 1.5\n",
    "N = 5000\n",
    "experiments = 1\n",
    "views_A = np.absolute(np.exp(norm(mu, sigma2).rvs(\n",
    "    experiments * N)).astype(np.int64).reshape(experiments, N) + 1).ravel()\n",
    "\n",
    "views_B = np.absolute(np.exp(norm(mu, sigma2).rvs(\n",
    "    experiments * N)).astype(np.int64).reshape(experiments, N) + 1).ravel()\n",
    "\n",
    "theta1 = [0.05]*5000\n",
    "theta2 = [0.06]*5000\n",
    "\n",
    "\n",
    "clicks_A = binom.rvs(views_A, theta1)\n",
    "clicks_B = binom.rvs(views_B, theta2)"
   ]
  },
  {
   "cell_type": "code",
   "execution_count": 83,
   "id": "7edf5430-8c95-4a63-83f1-84030cd02a32",
   "metadata": {},
   "outputs": [
    {
     "data": {
      "text/plain": [
       "0.050923284106731186"
      ]
     },
     "execution_count": 83,
     "metadata": {},
     "output_type": "execute_result"
    }
   ],
   "source": [
    "k = clicks_A.sum()/views_A.sum()\n",
    "k"
   ]
  },
  {
   "cell_type": "code",
   "execution_count": 84,
   "id": "5544fc8f-4787-45f0-86e3-a45ad0e6bda5",
   "metadata": {},
   "outputs": [],
   "source": [
    "linearized_A = clicks_A - k*views_A\n",
    "\n",
    "linearized_B = clicks_B - k*views_B"
   ]
  },
  {
   "cell_type": "code",
   "execution_count": 86,
   "id": "ff942557-01e1-4482-aaf6-ee6370d3f4c9",
   "metadata": {},
   "outputs": [
    {
     "data": {
      "text/plain": [
       "TtestResult(statistic=-2.378996359363809, pvalue=0.0173790027834322, df=9739.616867051876)"
      ]
     },
     "execution_count": 86,
     "metadata": {},
     "output_type": "execute_result"
    }
   ],
   "source": [
    "ttest_ind(clicks_A, clicks_B, equal_var = False)"
   ]
  },
  {
   "cell_type": "code",
   "execution_count": 87,
   "id": "37904b05-8376-4c76-a27c-79914b4bd070",
   "metadata": {},
   "outputs": [
    {
     "data": {
      "text/plain": [
       "TtestResult(statistic=-5.65468985152875, pvalue=1.6043193074812685e-08, df=9959.02201044759)"
      ]
     },
     "execution_count": 87,
     "metadata": {},
     "output_type": "execute_result"
    }
   ],
   "source": [
    "ttest_ind(linearized_A, linearized_B, equal_var = False)"
   ]
  },
  {
   "cell_type": "code",
   "execution_count": null,
   "id": "d1555605-8adc-48ee-8414-e745a49855ab",
   "metadata": {},
   "outputs": [],
   "source": []
  }
 ],
 "metadata": {
  "kernelspec": {
   "display_name": "Python 3 (ipykernel)",
   "language": "python",
   "name": "python3"
  },
  "language_info": {
   "codemirror_mode": {
    "name": "ipython",
    "version": 3
   },
   "file_extension": ".py",
   "mimetype": "text/x-python",
   "name": "python",
   "nbconvert_exporter": "python",
   "pygments_lexer": "ipython3",
   "version": "3.11.7"
  }
 },
 "nbformat": 4,
 "nbformat_minor": 5
}
